{
 "cells": [
  {
   "cell_type": "markdown",
   "id": "according-victor",
   "metadata": {},
   "source": [
    "# Machine Learning Notes - Pytorch"
   ]
  },
  {
   "cell_type": "markdown",
   "id": "formal-navigator",
   "metadata": {},
   "source": [
    "## A List of Related Posts\n",
    "1. [Pytorch(this)]({% post_url 2021-05-04-machine-learning-pytorch %})\n",
    "2. [Loss function]({% post_url 2021-05-07-machine-learning-loss %})\n",
    "3. [Backpropagation]({% post_url 2021-05-07-machine-learning-backpropagation %})"
   ]
  },
  {
   "cell_type": "markdown",
   "id": "protecting-colorado",
   "metadata": {},
   "source": [
    "## Pytorch Introduction\n",
    "[PyTorch](https://pytorch.org/) is an open source machine learning framework. \n",
    "You can find more information about PyTorch by following one of the [oficial tutorials](https://pytorch.org/tutorials/) or by [reading the documentation](https://pytorch.org/docs/stable/)."
   ]
  },
  {
   "cell_type": "markdown",
   "id": "selected-dealing",
   "metadata": {},
   "source": [
    "## Import Pythorch\n",
    "<code>\n",
    "    torch.cude.is_available()\n",
    "</code>"
   ]
  },
  {
   "cell_type": "code",
   "execution_count": 8,
   "id": "third-agency",
   "metadata": {},
   "outputs": [
    {
     "name": "stdout",
     "output_type": "stream",
     "text": [
      "1.8.1\n",
      "Is cuda available? False\n"
     ]
    }
   ],
   "source": [
    "# Import pytorch and check its version\n",
    "\n",
    "import torch\n",
    "import numpy as np\n",
    "print(torch.__version__)\n",
    "print(f'Is cuda available? {torch.cuda.is_available()}')\n",
    "#"
   ]
  },
  {
   "cell_type": "markdown",
   "id": "architectural-albuquerque",
   "metadata": {},
   "source": [
    "## Pytorch Tensor"
   ]
  },
  {
   "cell_type": "markdown",
   "id": "ambient-physics",
   "metadata": {},
   "source": [
    "### Tensor Initialization\n",
    "<code>\n",
    "    torch.tensor(),\n",
    "    torch.from_numpy(),\n",
    "    torch.zerors_like(),\n",
    "    torch.ones_like(),\n",
    "    torch.rand(),\n",
    "    torch.ones(),\n",
    "    torch.zeros(),\n",
    "    torch.eye(),\n",
    "    torch.full(),\n",
    "</code>"
   ]
  },
  {
   "cell_type": "code",
   "execution_count": 28,
   "id": "wrong-information",
   "metadata": {
    "code_folding": []
   },
   "outputs": [
    {
     "name": "stdout",
     "output_type": "stream",
     "text": [
      "Direct Tensor: \n",
      " tensor([[1, 2],\n",
      "        [3, 4]]) \n",
      "\n",
      "Numpy Tensor: \n",
      " tensor([[1, 2],\n",
      "        [3, 4]]) \n",
      "\n",
      "Zeros Tensor: \n",
      " tensor([[0, 0],\n",
      "        [0, 0]]) \n",
      "\n",
      "Ones Tensor: \n",
      " tensor([[1, 1],\n",
      "        [1, 1]]) \n",
      "\n",
      "Random Tensor: \n",
      " tensor([[0.0389, 0.8098],\n",
      "        [0.6647, 0.5246]]) \n",
      "\n",
      "Random Tensor: \n",
      " tensor([[0.7586, 0.7846, 0.7909],\n",
      "        [0.0545, 0.1561, 0.5322]]) \n",
      "\n",
      "Ones Tensor: \n",
      " tensor([[1., 1., 1.],\n",
      "        [1., 1., 1.]]) \n",
      "\n",
      "Zeros Tensor: \n",
      " tensor([[0., 0., 0.],\n",
      "        [0., 0., 0.]])\n",
      "\n",
      "Full twos Tensor: \n",
      " tensor([[2, 2, 2],\n",
      "        [2, 2, 2]])\n",
      "\n"
     ]
    }
   ],
   "source": [
    "# Tensor Initialization\n",
    "\n",
    "# Directly from data\n",
    "data = [[1, 2],[3, 4]]\n",
    "x_data = torch.tensor(data)\n",
    "print(f\"Direct Tensor: \\n {x_np} \\n\")\n",
    "\n",
    "# From a NumPy array\n",
    "np_array = np.array(data)\n",
    "x_np = torch.from_numpy(np_array)\n",
    "print(f\"Numpy Tensor: \\n {x_np} \\n\")\n",
    "\n",
    "# From another tensor:\n",
    "x_zeros = torch.zeros_like(x_data)\n",
    "print(f\"Zeros Tensor: \\n {x_zeros} \\n\")\n",
    "\n",
    "x_ones = torch.ones_like(x_data) \n",
    "print(f\"Ones Tensor: \\n {x_ones} \\n\")\n",
    "\n",
    "x_rand = torch.rand_like(x_data, dtype=torch.float) \n",
    "print(f\"Random Tensor: \\n {x_rand} \\n\")\n",
    "\n",
    "shape = (2,3,)\n",
    "rand_tensor = torch.rand(shape)\n",
    "ones_tensor = torch.ones(shape)\n",
    "zeros_tensor = torch.zeros(shape)\n",
    "full_tensor = torch.full(shape, 2)\n",
    "print(f\"Random Tensor: \\n {rand_tensor} \\n\")\n",
    "print(f\"Ones Tensor: \\n {ones_tensor} \\n\")\n",
    "print(f\"Zeros Tensor: \\n {zeros_tensor}\\n\")\n",
    "print(f\"Full twos Tensor: \\n {full_tensor}\\n\")\n",
    "#"
   ]
  },
  {
   "cell_type": "markdown",
   "id": "informational-performance",
   "metadata": {},
   "source": [
    "### Tensor Attributes\n",
    "<code>\n",
    "    tensor.dim(),\n",
    "    tensor.shape,\n",
    "    tensor.dtype,\n",
    "    tensor.device,\n",
    "</code>"
   ]
  },
  {
   "cell_type": "code",
   "execution_count": 27,
   "id": "stylish-trade",
   "metadata": {},
   "outputs": [
    {
     "name": "stdout",
     "output_type": "stream",
     "text": [
      "Dimension of tensor: 2\n",
      "\n",
      "Shape of tensor: torch.Size([3, 4])\n",
      "\n",
      "Datatype of tensor: torch.float32\n",
      "\n",
      "Device tensor is stored on: cpu\n",
      "\n"
     ]
    }
   ],
   "source": [
    "# Tensor Atrributes\n",
    "tensor = torch.rand(3,4)\n",
    "\n",
    "print(f\"Dimension of tensor: {tensor.dim()}\\n\")\n",
    "print(f\"Shape of tensor: {tensor.shape}\\n\")\n",
    "print(f\"Datatype of tensor: {tensor.dtype}\\n\")\n",
    "print(f\"Device tensor is stored on: {tensor.device}\\n\")\n",
    "\n",
    "#"
   ]
  },
  {
   "cell_type": "markdown",
   "id": "abstract-myanmar",
   "metadata": {},
   "source": [
    "### Tensor Operations\n",
    "<code>\n",
    "    tensor.cat(),\n",
    "</code>"
   ]
  },
  {
   "cell_type": "code",
   "execution_count": 23,
   "id": "indoor-romania",
   "metadata": {
    "code_folding": [
     0
    ],
    "collapsed": true
   },
   "outputs": [
    {
     "name": "stdout",
     "output_type": "stream",
     "text": [
      "tensor([[1., 0., 1., 1.],\n",
      "        [1., 0., 1., 1.],\n",
      "        [1., 0., 2., 1.],\n",
      "        [1., 0., 1., 3.]])\n",
      "\n",
      "horizontal cat:\n",
      " tensor([[1., 0., 1., 1., 1., 0., 1., 1.],\n",
      "        [1., 0., 1., 1., 1., 0., 1., 1.],\n",
      "        [1., 0., 2., 1., 1., 0., 2., 1.],\n",
      "        [1., 0., 1., 3., 1., 0., 1., 3.]])\n",
      "\n",
      "vetical cat:\n",
      " tensor([[1., 0., 1., 1.],\n",
      "        [1., 0., 1., 1.],\n",
      "        [1., 0., 2., 1.],\n",
      "        [1., 0., 1., 3.],\n",
      "        [1., 0., 1., 1.],\n",
      "        [1., 0., 1., 1.],\n",
      "        [1., 0., 2., 1.],\n",
      "        [1., 0., 1., 3.]])\n",
      "\n"
     ]
    }
   ],
   "source": [
    "# Tensor Operations\n",
    "\n",
    "# Standard numpy-like indexing and slicing\n",
    "tensor = torch.ones(4, 4)\n",
    "tensor[:,1] = 0\n",
    "tensor[2,2] = 2\n",
    "tensor[3,3] = 3\n",
    "print(f'{tensor}\\n')\n",
    "\n",
    "# Joining tensors\n",
    "t_h = torch.cat([tensor, tensor], dim=1)\n",
    "print(f'horizontal cat:\\n {t_h}\\n')\n",
    "\n",
    "t_v = torch.cat([tensor, tensor], dim=0)\n",
    "print(f'vetical cat:\\n {t_v}\\n')\n",
    "# "
   ]
  },
  {
   "cell_type": "markdown",
   "id": "greatest-myanmar",
   "metadata": {},
   "source": [
    "**Note**:\n",
    "- When use `torch.cat` and specify `dim=x`, then the dimension `x` will increase. "
   ]
  },
  {
   "cell_type": "markdown",
   "id": "adolescent-seattle",
   "metadata": {},
   "source": [
    "### Tensor Data Type\n",
    "<code>\n",
    "    tensor.to(),\n",
    "    tensor.new_zeros(),\n",
    "    tensor.float(),\n",
    "    tensor.double(),\n",
    "</code>"
   ]
  },
  {
   "cell_type": "code",
   "execution_count": 26,
   "id": "blind-romantic",
   "metadata": {
    "collapsed": true
   },
   "outputs": [
    {
     "name": "stdout",
     "output_type": "stream",
     "text": [
      "dtype when torch chooses for us:\n",
      "List of integers: torch.int64\n",
      "List of floats: torch.float32\n",
      "Mixed list: torch.float32\n",
      "\n",
      "dtype when we force a datatype:\n",
      "32-bit float:  torch.float32\n",
      "32-bit integer:  torch.int32\n",
      "64-bit integer:  torch.int64\n",
      "\n",
      "torch.ones with different dtypes\n",
      "default dtype: torch.float32\n",
      "16-bit integer: torch.int16\n",
      "8-bit unsigned integer: torch.uint8\n",
      "\n",
      "x0: torch.int64\n",
      "x1: torch.float32\n",
      "x2: torch.float64\n",
      "x3: torch.float32\n",
      "x4: torch.float64\n",
      "\n",
      "x0 shape is torch.Size([3, 3]), dtype is torch.float64\n",
      "x1 shape is torch.Size([3, 3]), dtype is torch.float64\n",
      "x2 shape is torch.Size([4, 5]), dtype is torch.float64\n",
      "x3 shape is torch.Size([6, 7]), dtype is torch.float64\n"
     ]
    }
   ],
   "source": [
    "# Tensor Data Type\n",
    "\n",
    "# Let torch choose the datatype\n",
    "x0 = torch.tensor([1, 2])   # List of integers\n",
    "x1 = torch.tensor([1., 2.]) # List of floats\n",
    "x2 = torch.tensor([1., 2])  # Mixed list\n",
    "print('dtype when torch chooses for us:')\n",
    "print('List of integers:', x0.dtype)\n",
    "print('List of floats:', x1.dtype)\n",
    "print('Mixed list:', x2.dtype)\n",
    "\n",
    "# Force a particular datatype\n",
    "y0 = torch.tensor([1, 2], dtype=torch.float32)  # 32-bit float\n",
    "y1 = torch.tensor([1, 2], dtype=torch.int32)    # 32-bit (signed) integer\n",
    "y2 = torch.tensor([1, 2], dtype=torch.int64)    # 64-bit (signed) integer\n",
    "print('\\ndtype when we force a datatype:')\n",
    "print('32-bit float: ', y0.dtype)\n",
    "print('32-bit integer: ', y1.dtype)\n",
    "print('64-bit integer: ', y2.dtype)\n",
    "\n",
    "# Other creation ops also take a dtype argument\n",
    "z0 = torch.ones(1, 2)  # Let torch choose for us\n",
    "z1 = torch.ones(1, 2, dtype=torch.int16) # 16-bit (signed) integer\n",
    "z2 = torch.ones(1, 2, dtype=torch.uint8) # 8-bit (unsigned) integer\n",
    "print('\\ntorch.ones with different dtypes')\n",
    "print('default dtype:', z0.dtype)\n",
    "print('16-bit integer:', z1.dtype)\n",
    "print('8-bit unsigned integer:', z2.dtype)\n",
    "\n",
    "x0 = torch.eye(3, dtype=torch.int64)\n",
    "x1 = x0.float()  # Cast to 32-bit float\n",
    "x2 = x0.double() # Cast to 64-bit float\n",
    "x3 = x0.to(torch.float32) # Alternate way to cast to 32-bit float\n",
    "x4 = x0.to(torch.float64) # Alternate way to cast to 64-bit float\n",
    "print('\\nx0:', x0.dtype)\n",
    "print('x1:', x1.dtype)\n",
    "print('x2:', x2.dtype)\n",
    "print('x3:', x3.dtype)\n",
    "print('x4:', x4.dtype)\n",
    "\n",
    "x0 = torch.eye(3, dtype=torch.float64)  # Shape (3, 3), dtype torch.float64\n",
    "x1 = torch.zeros_like(x0)               # Shape (3, 3), dtype torch.float64\n",
    "x2 = x0.new_zeros(4, 5)                 # Shape (4, 5), dtype torch.float64\n",
    "x3 = torch.ones(6, 7).to(x0)            # Shape (6, 7), dtype torch.float64)\n",
    "print('\\nx0 shape is %r, dtype is %r' % (x0.shape, x0.dtype))\n",
    "print('x1 shape is %r, dtype is %r' % (x1.shape, x1.dtype))\n",
    "print('x2 shape is %r, dtype is %r' % (x2.shape, x2.dtype))\n",
    "print('x3 shape is %r, dtype is %r' % (x3.shape, x3.dtype))\n",
    "#"
   ]
  },
  {
   "cell_type": "markdown",
   "id": "centered-belgium",
   "metadata": {},
   "source": [
    "### Tensor Indexing\n",
    "<code>\n",
    "    tensor[start:stop:step]\n",
    "</code>"
   ]
  },
  {
   "cell_type": "code",
   "execution_count": 36,
   "id": "informal-monitor",
   "metadata": {},
   "outputs": [
    {
     "name": "stdout",
     "output_type": "stream",
     "text": [
      "Original tensor:\n",
      "tensor([[ 1,  2,  3,  4],\n",
      "        [ 5,  6,  7,  8],\n",
      "        [ 9, 10, 11, 12]])\n",
      "shape:  torch.Size([3, 4])\n",
      "\n",
      "Single row:\n",
      "torch.Size([4]) tensor([5, 6, 7, 8])\n",
      "shape:  torch.Size([4]) torch.Size([4])\n",
      "\n",
      "Single column:\n",
      "tensor([ 2,  6, 10])\n",
      "shape:  torch.Size([3])\n",
      "\n",
      "First two rows, last two columns:\n",
      "tensor([[2, 3, 4],\n",
      "        [6, 7, 8]])\n",
      "shape:  torch.Size([2, 3])\n",
      "\n",
      "Every other row, middle columns:\n",
      "tensor([[ 2,  3],\n",
      "        [10, 11]])\n",
      "shape:  torch.Size([2, 2])\n",
      "\n",
      "Reordered columns:\n",
      "tensor([[ 4,  3,  2,  1],\n",
      "        [ 8,  7,  6,  5],\n",
      "        [12, 11, 10,  9]])\n"
     ]
    }
   ],
   "source": [
    "# Tensor slicing\n",
    "x = torch.tensor([[1,2,3,4], [5,6,7,8], [9,10,11,12]])\n",
    "print('Original tensor:')\n",
    "print(x)\n",
    "print('shape: ', x.shape)\n",
    "\n",
    "# Get row 1, and all columns. \n",
    "print('\\nSingle row:')\n",
    "print(x[1, :].shape, x[1, :])\n",
    "print('shape: ', x[1, :].shape, x[1].shape)  \n",
    "\n",
    "print('\\nSingle column:')\n",
    "print(x[:, 1])\n",
    "print('shape: ', x[:, 1].shape)\n",
    "\n",
    "# Get the first two rows and the last three columns\n",
    "print('\\nFirst two rows, last two columns:')\n",
    "print(x[:2, -3:])\n",
    "print('shape: ', x[:2, -3:].shape)\n",
    "\n",
    "# Get every other row, and columns at index 1 and 2\n",
    "print('\\nEvery other row, middle columns:')\n",
    "print(x[::2, 1:3])\n",
    "print('shape: ', x[::2, 1:3].shape)\n",
    "\n",
    "#"
   ]
  },
  {
   "cell_type": "markdown",
   "id": "noted-terminology",
   "metadata": {},
   "source": [
    "More generally, given index arrays `idx0` and `idx1` with `N` elements each, `a[idx0, idx1]` is equivalent to:\n",
    "\n",
    "```\n",
    "torch.tensor([\n",
    "  a[idx0[0], idx1[0]],\n",
    "  a[idx0[1], idx1[1]],\n",
    "  ...,\n",
    "  a[idx0[N - 1], idx1[N - 1]]\n",
    "])\n",
    "```\n",
    "\n",
    "(A similar pattern extends to tensors with more than two dimensions)"
   ]
  },
  {
   "cell_type": "code",
   "execution_count": 40,
   "id": "printable-preliminary",
   "metadata": {},
   "outputs": [
    {
     "name": "stdout",
     "output_type": "stream",
     "text": [
      "Original tensor:\n",
      "tensor([[ 1,  2,  3,  4],\n",
      "        [ 5,  6,  7,  8],\n",
      "        [ 9, 10, 11, 12]])\n",
      "shape:  torch.Size([3, 4])\n",
      "\n",
      "Reordered columns:\n",
      "tensor([[ 4,  3,  2,  1],\n",
      "        [ 8,  7,  6,  5],\n",
      "        [12, 11, 10,  9]])\n",
      "\n",
      "Reordered rows/columns:\n",
      "tensor([4, 7, 2])\n"
     ]
    }
   ],
   "source": [
    "# Integer Index\n",
    "\n",
    "x = torch.tensor([[1,2,3,4], [5,6,7,8], [9,10,11,12]])\n",
    "print('Original tensor:')\n",
    "print(x)\n",
    "print('shape: ', x.shape)\n",
    "\n",
    "idx = torch.tensor([3, 2, 1, 0])  # Index arrays can be int64 torch tensors\n",
    "print('\\nReordered columns:')\n",
    "print(x[:, idx])\n",
    "\n",
    "\n",
    "a = torch.tensor([0, 1, 0])  # Index arrays can be int64 torch tensors\n",
    "b = torch.tensor([3, 2, 1])  # Index arrays can be int64 torch tensors\n",
    "print('\\nReordered rows/columns:')\n",
    "print(x[a, b])\n",
    "\n",
    "#"
   ]
  },
  {
   "cell_type": "code",
   "execution_count": 41,
   "id": "herbal-surprise",
   "metadata": {
    "scrolled": true
   },
   "outputs": [
    {
     "name": "stdout",
     "output_type": "stream",
     "text": [
      "Original tensor:\n",
      "tensor([[1, 2],\n",
      "        [3, 4],\n",
      "        [5, 6]])\n",
      "\n",
      "Mask tensor:\n",
      "tensor([[False, False],\n",
      "        [False,  True],\n",
      "        [ True,  True]])\n",
      "\n",
      "Selecting elements with the mask:\n",
      "tensor([4, 5, 6])\n",
      "\n",
      "After modifying with a mask:\n",
      "tensor([[0, 0],\n",
      "        [0, 4],\n",
      "        [5, 6]])\n"
     ]
    }
   ],
   "source": [
    "# Boolen indexing\n",
    "x = torch.tensor([[1,2], [3, 4], [5, 6]])\n",
    "print('Original tensor:')\n",
    "print(x)\n",
    "\n",
    "mask = (x > 3)\n",
    "print('\\nMask tensor:')\n",
    "print(mask)\n",
    "\n",
    "# We can use the mask to construct a rank-1 tensor containing the elements of a\n",
    "# that are selected by the mask\n",
    "print('\\nSelecting elements with the mask:')\n",
    "print(x[mask])\n",
    "\n",
    "# We can also use boolean masks to modify tensors; for example this sets all\n",
    "# elements <= 3 to zero:\n",
    "x[x <= 3] = 0\n",
    "print('\\nAfter modifying with a mask:')\n",
    "print(x)\n",
    "#"
   ]
  },
  {
   "cell_type": "markdown",
   "id": "painful-prophet",
   "metadata": {},
   "source": [
    "### Tensor reshape\n",
    "<code>\n",
    "    tensor.view(), tensor.reshape(), tensor.transpose()\n",
    "</code>"
   ]
  },
  {
   "cell_type": "markdown",
   "id": "accepting-arrow",
   "metadata": {},
   "source": [
    "## Pytorch Autograd"
   ]
  },
  {
   "cell_type": "markdown",
   "id": "close-jackson",
   "metadata": {},
   "source": [
    "## Pytorch Loss Functions\n",
    "<code>\n",
    "   torch.nn.CrossEntropyLoss(),torch.nn.MultiLabelMarginLoss()\n",
    "</code>"
   ]
  },
  {
   "cell_type": "markdown",
   "id": "completed-sarah",
   "metadata": {},
   "source": [
    "### CrossEntropyLoss()\n",
    "- Input: (N, C), N is batch size, C is number of classes\n",
    "- Target: (N,), $0 \\leq target[i] \\leq C-1 $\n",
    "- Outtput: (N,)"
   ]
  },
  {
   "cell_type": "code",
   "execution_count": 49,
   "id": "southern-modification",
   "metadata": {},
   "outputs": [],
   "source": [
    "# torch.nn.CrossEntropyLoss(weight=None, size_average=None, ignore_index=-100, reduce=None, reduction='mean')\n",
    "\n",
    "import torch\n",
    "loss = torch.nn.CrossEntropyLoss(reduction='mean')\n",
    "input = torch.randn(3, 5, requires_grad=True)\n",
    "target = torch.empty(3, dtype=torch.long).random_(5)\n",
    "output = loss(input, target)\n",
    "output.backward()\n",
    "\n",
    "# Image pixel level classifiction for 5 classes\n",
    "width = 10\n",
    "height = 10\n",
    "loss = torch.nn.CrossEntropyLoss(reduction='mean')\n",
    "input = torch.randn(3, 5, width, height, requires_grad=True)\n",
    "target = torch.empty(3, width, height, dtype=torch.long).random_(5)\n",
    "output = loss(input, target)\n",
    "output.backward()\n",
    "\n",
    "#"
   ]
  },
  {
   "cell_type": "markdown",
   "id": "addressed-ordinance",
   "metadata": {},
   "source": [
    "### MultiLabelMarginLoss()\n",
    "Creates a criterion that optimizes a multi-class multi-classification hinge loss. This means that for a sample x, it could have multiple correct labels. \n",
    "- Input: (C,) or (N, C),  N is batch size, C is number of classes\n",
    "- Target: (C) or (N, C), label targets after first -1 are ignored\n",
    "- Output: Scalar. If reduction is 'none', then (N,)"
   ]
  },
  {
   "cell_type": "code",
   "execution_count": 63,
   "id": "healthy-knitting",
   "metadata": {},
   "outputs": [
    {
     "name": "stdout",
     "output_type": "stream",
     "text": [
      "single class loss: 0.3250\n",
      "multi-class loss: 0.8500\n"
     ]
    }
   ],
   "source": [
    "# torch.nn.MultiLabelMarginLoss(size_average=None, reduce=None, reduction='mean')\n",
    "\n",
    "import torch\n",
    "loss = torch.nn.MultiLabelMarginLoss()\n",
    "x = torch.FloatTensor([[0.1, 0.2, 0.4, 0.8]])\n",
    "# Single class hinge loss, so label == 3\n",
    "y = torch.LongTensor([[3, -1, -1, -1]])\n",
    "output = loss(x, y)\n",
    "print(f'single class loss: {output.item():.4f}')\n",
    "expected = torch.tensor([0.25 * ((1-(0.8-0.1)) + (1-(0.8-0.2)) + (1-(0.8-0.4)))])\n",
    "assert(torch.isclose(output, expected))\n",
    "\n",
    "# Multi-class hinge loss, so label == 3 and label == 1\n",
    "y = torch.LongTensor([[3, 0, -1, -1]])\n",
    "output = loss(x, y)\n",
    "print(f'multi-class loss: {output.item():.4f}')\n",
    "expected = torch.tensor([0.25 * ((1-(0.1-0.2)) + (1-(0.1-0.4)) + (1-(0.8-0.2)) + (1-(0.8-0.4)))])\n",
    "assert(torch.isclose(output, expected))\n",
    "\n",
    "#"
   ]
  }
 ],
 "metadata": {
  "kernelspec": {
   "display_name": "Python 3",
   "language": "python",
   "name": "python3"
  },
  "language_info": {
   "codemirror_mode": {
    "name": "ipython",
    "version": 3
   },
   "file_extension": ".py",
   "mimetype": "text/x-python",
   "name": "python",
   "nbconvert_exporter": "python",
   "pygments_lexer": "ipython3",
   "version": "3.9.1"
  },
  "toc": {
   "base_numbering": 1,
   "nav_menu": {},
   "number_sections": true,
   "sideBar": true,
   "skip_h1_title": false,
   "title_cell": "Table of Contents",
   "title_sidebar": "Contents",
   "toc_cell": false,
   "toc_position": {},
   "toc_section_display": true,
   "toc_window_display": true
  }
 },
 "nbformat": 4,
 "nbformat_minor": 5
}
