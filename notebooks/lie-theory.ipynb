{
 "cells": [
  {
   "cell_type": "markdown",
   "id": "capital-graphics",
   "metadata": {},
   "source": [
    "# Lie Theory for State Estimation in Robotics"
   ]
  },
  {
   "cell_type": "markdown",
   "id": "regional-robertson",
   "metadata": {},
   "source": [
    "## Solve an Optimization Problem on SO(3) with Exponential Map"
   ]
  },
  {
   "cell_type": "markdown",
   "id": "contemporary-diploma",
   "metadata": {},
   "source": [
    "We have robot orientation at time $t$ as $R^{nb}_t$, and given $R^T R = \\mathcal{I}$:\n",
    "$$\n",
    "\\begin{align}\n",
    "d\\frac{R_t}{dt}R_t^T + R_td\\frac{R_t^T}{dt} &= 0 \\\\\n",
    "d\\frac{R_t}{dt}R_t^T + (d\\frac{R_t}{dt}R_t^T)^T &= 0 \\\\\n",
    "\\end{align}\n",
    "$$\n",
    "Define $S_t = d\\frac{R_t}{dt}R_t^T$, then we have $S_t+ S_t^T = 0$. So $S_t$ is a skew matrix as:\n",
    "$$\n",
    "S_t= \\begin{bmatrix}\n",
    "0,& -\\omega_{t,3},& \\omega_{t,2} \\\\\n",
    "\\omega_{t,3},& 0,& -\\omega_{t,1}  \\\\\n",
    "-\\omega_{t,2},& \\omega_{t,1},& 0\\\\\n",
    "\\end{bmatrix}\n",
    "$$. \n"
   ]
  },
  {
   "cell_type": "markdown",
   "id": "major-words",
   "metadata": {},
   "source": [
    "If $S_t$ is a constant, we can solve this differentiation equation. **But when can $S_t$ be a constant?** Suppose a rigid body rotate around a normalized $\\phi$ constantly with rotation speed as $\\|\\phi\\|$, then we can have $R\\phi = \\phi$ since $\\phi$ would be the eigen vector of $R$, then:\n",
    "$$\n",
    "\\begin{align}\n",
    "R_t \\phi &=  \\phi \\\\\n",
    "d\\frac{R_t}{dt}\\phi + R_t d\\frac{\\phi}{dt} &= 0 \\\\\n",
    "d\\frac{R_t}{dt}\\phi &= 0 \\\\\n",
    "S_tR_t\\phi &= 0 \\\\\n",
    "S_t \\phi &= 0 \\\\\n",
    "\\begin{bmatrix}\n",
    "0,& -\\omega_{t,3},& \\omega_{t,2} \\\\\n",
    "\\omega_{t,3},& 0,& -\\omega_{t,1}  \\\\\n",
    "-\\omega_{t,2},& \\omega_{t,1},& 0\\\\\n",
    "\\end{bmatrix} \\begin{bmatrix}\n",
    "\\phi_0 \\\\\n",
    "\\phi_1 \\\\\n",
    "\\phi_2\\\\\n",
    "\\end{bmatrix} &= 0\n",
    "\\end{align}\n",
    "$$\n",
    "In order to make the $S_t \\phi = 0$ always true, $\\omega$ should be the same as $\\phi$ so $[\\omega]_\\times \\phi = 0$."
   ]
  },
  {
   "cell_type": "markdown",
   "id": "quarterly-consumer",
   "metadata": {},
   "source": [
    "Now we can assume we have a constant $S_t$ as $S$ when a rigid body rotate constantly around a vector $\\omega$, we can get\n",
    "$$\n",
    "\\begin{align}\n",
    "S_t &= [\\omega]_\\times \\\\\n",
    "&=\\begin{bmatrix}\n",
    "0,& -\\omega_3,& \\omega_2 \\\\\n",
    "\\omega_3,& 0,& -\\omega_1  \\\\\n",
    "-\\omega_2,& \\omega_1,& 0\\\\\n",
    "\\end{bmatrix}\n",
    "\\end{align}\n",
    "$$"
   ]
  },
  {
   "cell_type": "markdown",
   "id": "quick-damage",
   "metadata": {},
   "source": [
    "By solving $d\\frac{R_t}{dt} = SR_t$, we get\n",
    "$$\n",
    "\\begin{align}\n",
    "R_t &= R_0exp([\\omega]_\\times t) \\\\\n",
    "\\end{align}\n",
    "$$"
   ]
  },
  {
   "cell_type": "markdown",
   "id": "sufficient-supplier",
   "metadata": {},
   "source": [
    "**Now we can have two very interesting conclusions:**\n",
    "- If $R_0 = \\mathcal{I}$, then $R_t = exp([\\omega]_\\times t)$. This means we can map a rotation axis $\\omega$ to a rotation matrix with the exponential operation. This is actually exactly same as Rodrigues' rotation formula $exp([\\omega]_\\times) = R = \\mathcal{I} + sin(\\|\\omega\\|)[\\omega]_\\times + (1-cos(\\|\\omega\\|))[\\omega]_\\times^2$. When $\\omega$ is small, we should use Taylor expansion $exp([\\omega]_\\times) = \\epsilon + [\\omega]_\\times + \\frac{1}{2}[\\omega]_\\times^2 + \\cdots$ to get R or use an approximation $R \\approx \\mathcal{I} + [\\omega]_\\times$\n",
    "- If $\\omega$ is very small, then we can think $exp([\\omega]_\\times)$ is a small perturbation on the current state $R_0$. This is extremely useful for solving an optimization problem on SO(3) using iterative methods. "
   ]
  },
  {
   "cell_type": "markdown",
   "id": "fourth-plain",
   "metadata": {},
   "source": [
    "### Introduction to $\\boxplus$\n",
    "Suppose the current state is $\\bar{x}$, for approaches like Gauss-Newton, we normally would minimize the cost function $f$ as below. We assume that $\\bar{x}$ and its perturbation $\\Delta x$ in the same Euclidean space so that they be summed together use $+$.\n",
    "\n",
    "$$\n",
    "\\begin{align}\n",
    "\\Delta  \\hat{x} &= \\underset{\\Delta x}{\\operatorname{argmin}}{\\|f(\\bar{x}+\\Delta x)\\|_2} \n",
    "\\end{align}\n",
    "$$\n",
    "\n",
    "But what is a more general expression for this problem? For example, we have rotation matrix $R \\in \\mathbb{R^9}$ and its perturbation $\\omega \\in \\mathbb{R^3}$. Clearly $+$ wouldn't work in this case. Thus we introduce a new plus here as $\\boxplus$:\n",
    "$$\n",
    "\\begin{align}\n",
    "\\Delta  \\hat{x} &= \\underset{\\Delta x}{\\operatorname{argmin}}{\\|f(\\bar{x} \\boxplus \\Delta x)\\|_2} \n",
    "\\end{align}\n",
    "$$\n",
    "\n",
    "For rotation:\n",
    "$$\n",
    "\\begin{align}\n",
    "\\bar{R} \\boxplus \\Delta \\omega =  \\bar{R}exp([\\omega]_\\times)\n",
    "\\end{align}\n",
    "$$\n",
    "For translation:\n",
    "$$\n",
    "\\begin{align}\n",
    "\\bar{t} \\boxplus \\Delta t =  \\bar{t} + \\Delta t\n",
    "\\end{align}\n",
    "$$"
   ]
  },
  {
   "cell_type": "markdown",
   "id": "speaking-elevation",
   "metadata": {},
   "source": [
    "### Jacobians"
   ]
  },
  {
   "cell_type": "markdown",
   "id": "native-audit",
   "metadata": {},
   "source": [
    "For the special case, we can find Jacobian matrix $J^{f(x)}_{x}|_{x = 0}$ to approximate $f$ to be a linear function, then solve the minimization problem. \n",
    "$$\n",
    "\\begin{align}\n",
    "\\Delta  \\hat{x} &= \\underset{\\Delta x}{\\operatorname{argmin}}{\\|f(\\bar{x}+\\Delta x)\\|_2}  \\\\\n",
    "&\\approx \\underset{\\Delta x}{\\operatorname{argmin}}\\|f(\\bar{x})+ J^{f(x)}_{x}|_{x = 0}\\Delta x\\|_2\n",
    "\\end{align}\n",
    "$$\n",
    "\n",
    "For the general case, it becomes:\n",
    "$$\n",
    "\\begin{align}\n",
    "\\Delta  \\hat{x} &= \\underset{\\Delta x}{\\operatorname{argmin}}{\\|f(\\bar{x} \\boxplus \\Delta x)\\|_2}  \\\\\n",
    "&\\approx \\underset{\\Delta x}{\\operatorname{argmin}}\\|f(\\bar{x})+ J^{f(x\\boxplus \\Delta x)}_{x}|_{x = \\bar{x}, \\Delta x = 0}J^{\\bar{x}\\boxplus  x}_{x}|_{x = 0}\\Delta x\\|_2\n",
    "\\end{align}\n",
    "$$\n",
    "\n",
    "We actually leverage chain rule to find proper Jacobian matrix as $J^{f(x\\boxplus \\Delta x)}_{x}|_{x = \\bar{x}, \\Delta x = 0}J^{\\bar{x}\\boxplus  x}_{x}|_{x = 0}$. \n",
    "- Though the first part seems complicated, $J^{f(x\\boxplus \\Delta x)}_{x}|_{x = \\bar{x}, \\Delta x = 0}$ is actually just $J^{f(x)}_{x}|_{x = 0}$\n",
    "- For the second part, if $\\bar{x}$ and perturbation state $x$ in the same Euclidean space, then $J^{\\bar{x}\\boxplus  x}_{x}|_{x = 0} = \\mathcal{I}$. Otherwise we have to calculate it, e.g. $J^{\\bar{R}\\boxplus  \\omega}_{\\omega}|_{\\omega = 0} = J^{\\bar{R}exp([\\omega]_\\times)}_{\\omega}|_{\\omega = 0} = []_{9 \\times 1}$\n"
   ]
  },
  {
   "cell_type": "markdown",
   "id": "traditional-release",
   "metadata": {},
   "source": [
    "XW's notes:\n",
    "- Calculating Jacobian is not hard based on chain rules but is very tedious and error-prone. So using auto-differentiation would be a good idea. \n",
    "- In order to get Jacobian analytically, we need know more about Lie theory which will be introduced throughly in the next section.\n",
    "- Lie theory gives us ways to quickly get the final Jacobian matrices mapping changes between tangent spaces but also involves lots of math. So I think using the chain rules is actually easier since calculating Jacobian to individual elements in rotation matrix is usually trivial then all you need is to find $J^{\\bar{R}\\boxplus  \\omega}_{\\omega}|_{\\omega = 0} = []_{9 \\times 1}$.\n",
    "  \n",
    " $$\n",
    " \\begin{align}\n",
    " J^{\\bar{R}\\boxplus  \\omega}_{\\omega}|_{\\omega = 0} &= \\frac{\\partial \\bar{R}Exp(\\omega)}{\\partial \\omega} \\\\\n",
    " &= \\frac{\\partial \\bar{R}(\\mathcal{I}+[\\omega]_\\times)}{\\partial \\omega} \\\\\n",
    " &= \\bar{R}\\frac{\\partial [\\omega]_\\times}{\\partial \\omega}\n",
    " \\end{align}\n",
    " $$"
   ]
  },
  {
   "cell_type": "markdown",
   "id": "experimental-relative",
   "metadata": {},
   "source": [
    "### State Correction"
   ]
  },
  {
   "cell_type": "markdown",
   "id": "understanding-namibia",
   "metadata": {},
   "source": [
    "The state correction would be as simple as below:\n",
    "$$\n",
    "\\begin{align}\n",
    "x = \\bar{x} \\boxplus \\Delta  \\hat{x} \n",
    "\\end{align}\n",
    "$$"
   ]
  },
  {
   "cell_type": "markdown",
   "id": "occupied-tumor",
   "metadata": {},
   "source": [
    "## More about Lie Theory for State Estimation in Robotics"
   ]
  },
  {
   "cell_type": "markdown",
   "id": "passive-modification",
   "metadata": {},
   "source": [
    "### Group Operations"
   ]
  },
  {
   "cell_type": "markdown",
   "id": "applicable-facility",
   "metadata": {},
   "source": [
    "A group $(\\mathcal{G}, \\circ)$ is a is a set, $\\mathcal{G}$, with a composition operation, $\\circ$. It satisfies 4 properties: closure, identity, inverse and associativity.\n",
    "For any $\\mathcal{X},\\mathcal{Y},\\mathcal{Z} \\in \\mathcal{G}$:\n",
    "$$\n",
    "\\begin{align}\n",
    "\\mathcal{X} \\circ \\mathcal{Y} \\in \\mathcal{G} \\\\\n",
    "\\mathcal{\\epsilon}  \\circ \\mathcal{X} = \\mathcal{X}  \\circ \\mathcal{\\epsilon}  \\\\\n",
    "\\mathcal{\\epsilon} =  \\mathcal{X}^{-1} \\circ \\mathcal{X} \\\\\n",
    "(\\mathcal{X} \\circ \\mathcal{Y}) \\circ \\mathcal{Z} = \\mathcal{X} \\circ (\\mathcal{Y} \\circ \\mathcal{Z})\n",
    "\\end{align}\n",
    "$$\n",
    "\n",
    "So it is easy to see that SO(3) is a group with $\\mathcal{\\epsilon} = \\mathcal{I}_{3 \\times 3}$."
   ]
  },
  {
   "cell_type": "markdown",
   "id": "attended-falls",
   "metadata": {},
   "source": [
    "### Lie Group\n",
    "\n",
    "A Lie group $\\mathcal{M}$ is a smooth manifold whose elements satisfy the group axioms. Its operation $\\cdot$ on other set is defined as :\n",
    "$$\n",
    "\\begin{align}\n",
    "\\mathcal{X} \\cdot \\mathcal{v} \n",
    "\\end{align}\n",
    "$$\n",
    "where $v \\in \\mathcal{V}  \\ \\mathcal{X} \\in \\mathcal{M}$. It satisfy:\n",
    "$$\n",
    "\\begin{align}\n",
    "\\mathcal{\\epsilon}  \\cdot \\mathcal{v} &= \\mathcal{v} \\\\\n",
    "(\\mathcal{X} \\circ \\mathcal{Y}) \\cdot \\mathcal{v} &= \\mathcal{X} \\circ (\\mathcal{Y} \\cdot \\mathcal{v})\n",
    "\\end{align}\n",
    "$$\n",
    "Clearly, applying rotation matrix $R$ on a vector $x \\in \\mathbb{R}^3$ is a Lie group action."
   ]
  },
  {
   "cell_type": "markdown",
   "id": "hollow-greene",
   "metadata": {},
   "source": [
    "### Tangent Space and Lie Algebra"
   ]
  },
  {
   "cell_type": "markdown",
   "id": "preceding-magnitude",
   "metadata": {},
   "source": [
    "Given $\\mathcal{X}(t)$ a point moving on a Lie group manifold $\\mathcal{M}$, its velocity $\\dot{\\mathcal{X}} = \\frac{\\partial {\\mathcal{X}}}{\\partial t}$ belongs to the **space tangent** to $\\mathcal{M}$ at $\\mathcal{X}$, noted as $\\mathcal{T}_{\\mathcal{X}}\\mathcal{M}$. The tangent space at $\\mathcal{\\epsilon}$ is **Lie algebra**, noted as $\\mathfrak{m}$. We can use a exponential operation map things from $\\mathfrak{m}$ to $\\mathcal{M}$.\n",
    "\n",
    "Take SO(3) as an example. $R$ is in a manifold $\\mathcal{M}$ while $[\\omega]_\\times$ is in a lie algebra. We will define an operation called **wedge** $\\wedge$ which converts a vector to lie algebra, and an operation called **vee** $\\vee$ to converts a lie algebra element to a vector. Further more, we define ${}^{\\mathcal{X}}\\omega^{\\wedge} \\in \\mathcal{T}_{\\mathcal{X}}\\mathcal{M}$. "
   ]
  },
  {
   "cell_type": "markdown",
   "id": "studied-albania",
   "metadata": {},
   "source": [
    "More generally, we define Exp and Log operations to convert between vector space $\\tau$ and manifold $\\mathcal{M}$. We also define exp and log operations to convert between lie algebra and manifold.\n",
    "$$\n",
    "\\begin{align}\n",
    "\\mathcal{X} &= exp(\\tau^{\\wedge}) \\\\\n",
    "\\tau^{\\wedge} &= log(\\mathcal{X}) \\\\\n",
    "\\mathcal{X} &= Exp(\\tau) \\\\\n",
    "\\tau &= Log(\\mathcal{X}) \n",
    "\\end{align}\n",
    "$$\n",
    "where $exp(\\tau^{\\wedge}) = \\epsilon + \\tau^{\\wedge} + \\frac{1}{2}(\\tau^{\\wedge})^2 + \\cdots$.\n"
   ]
  },
  {
   "cell_type": "markdown",
   "id": "parliamentary-stick",
   "metadata": {},
   "source": [
    "Key properties of the exponential map are:\n",
    "$$\n",
    "\\begin{align}\n",
    "exp((t+s)\\tau^{\\wedge}) &= exp(t\\tau^{\\wedge})exp(s\\tau^{\\wedge}) \\\\\n",
    "exp(t\\tau^{\\wedge}) &= [exp(\\tau^{\\wedge})]^t \\\\\n",
    "exp(-\\tau^{\\wedge}) &= [exp(\\tau^{\\wedge})]^{-1} \\\\\n",
    "exp(\\mathcal{X}\\tau^{\\wedge}\\mathcal{X}^{-1}) &= \\mathcal{X}exp(\\tau^{\\wedge})\\mathcal{X}^{-1}\n",
    "\\end{align}\n",
    "$$"
   ]
  },
  {
   "cell_type": "markdown",
   "id": "intelligent-tumor",
   "metadata": {},
   "source": [
    "### $\\boxplus$ and $\\boxminus$"
   ]
  },
  {
   "cell_type": "markdown",
   "id": "productive-puppy",
   "metadata": {},
   "source": [
    "#### Local operation : right operation\n",
    "$$\n",
    "\\begin{align}\n",
    "\\mathcal{Y} &= \\mathcal{X} \\boxplus {}^{\\mathcal{X}}\\tau = \\mathcal{X} \\circ Exp({}^{\\mathcal{X}}\\tau)) \\\\\n",
    "{}^{\\mathcal{X}}\\tau &= \\mathcal{Y} \\boxminus \\mathcal{X} = Log(\\mathcal{X}^{-1} \\circ \\mathcal{Y})\n",
    "\\end{align}\n",
    "$$\n",
    "The right operation is a local perturbation in frame $\\mathcal{X}$. For example, for rotation operation, we have:\n",
    "$$\n",
    "\\begin{align}\n",
    "\\dot{R^{\\epsilon}_{\\mathcal{X}}} &= R^{\\epsilon}_{\\mathcal{X}}[\\omega_{\\mathcal{X}}]_\\times\n",
    "\\end{align}\n",
    "$$\n",
    "where $\\epsilon$ is the inertia frame."
   ]
  },
  {
   "cell_type": "markdown",
   "id": "crazy-provision",
   "metadata": {},
   "source": [
    "#### Global operation: left operation"
   ]
  },
  {
   "cell_type": "markdown",
   "id": "revised-venture",
   "metadata": {},
   "source": [
    "$$\n",
    "\\begin{align}\n",
    "\\mathcal{Y} &=  {}^{\\mathcal{\\epsilon}}\\tau \\boxplus \\mathcal{X}  =  Exp({}^{\\mathcal{\\epsilon}}\\tau)) \\circ \\mathcal{X} \\\\\n",
    "{}^{\\mathcal{\\epsilon}}\\tau &= \\mathcal{Y} \\boxminus \\mathcal{X} = Log( \\mathcal{Y} \\circ \\mathcal{X}^{-1} )\n",
    "\\end{align}\n",
    "$$\n",
    "The right operation is a local perturbation in frame $\\mathcal{X}$. For example, for rotation operation, we have:\n",
    "$$\n",
    "\\begin{align}\n",
    "\\dot{R^{\\epsilon}_{\\mathcal{X}}} &= [\\omega_{\\mathcal{\\epsilon}}]_\\times R^{\\epsilon}_{\\mathcal{X}}\n",
    "\\end{align}\n",
    "$$\n",
    "where $\\epsilon$ is the inertia frame."
   ]
  },
  {
   "cell_type": "markdown",
   "id": "fitted-edward",
   "metadata": {},
   "source": [
    "### Adjoint Operation\n",
    "\n",
    "We can find a local operation and global operation to map $\\mathcal{X}$ to the same $\\mathcal{Y}$, i.e. $\\mathcal{X} \\boxplus {}^{\\mathcal{X}}\\tau = {}^{\\mathcal{\\epsilon}}\\tau \\boxplus \\mathcal{X}$.\n",
    "$$\n",
    "\\begin{align}\n",
    "\\mathcal{X} \\circ Exp({}^{\\mathcal{X}}\\tau)) &= Exp({}^{\\mathcal{\\epsilon}}\\tau)) \\circ \\mathcal{X} \\\\\n",
    "Exp({}^{\\mathcal{\\epsilon}}\\tau)) &= \\mathcal{X} \\circ  Exp({}^{\\mathcal{X}}\\tau)) \\circ  \\mathcal{X}^{-1}\\\\\n",
    "exp({}^{\\mathcal{\\epsilon}}\\tau^{\\wedge}) &= \\mathcal{X} \\circ  exp({}^{\\mathcal{X}}\\tau^{\\wedge}) \\circ  \\mathcal{X}^{-1} \\\\\n",
    "exp({}^{\\mathcal{\\epsilon}}\\tau^{\\wedge}) &= exp(\\mathcal{X} \\circ  {}^{\\mathcal{X}}\\tau^{\\wedge} \\circ  \\mathcal{X}^{-1}) \\\\\n",
    "\\end{align}\n",
    "$$\n",
    "Then we get a map between local lie algebra and global lie algebra:\n",
    "> $${}^{\\mathcal{\\epsilon}}\\tau^{\\wedge} = \\mathcal{X} \\circ  {}^{\\mathcal{X}}\\tau^{\\wedge} \\circ  \\mathcal{X}^{-1}$$"
   ]
  },
  {
   "cell_type": "markdown",
   "id": "fluid-audio",
   "metadata": {},
   "source": [
    "We define the **adjoint action** as $Ad_{\\mathcal{X}}(\\tau^{\\wedge}) = \\mathcal{X} \\circ  {}^{\\mathcal{X}}\\tau^{\\wedge} \\circ  \\mathcal{X}^{-1}$ so that ${}^{\\mathcal{\\epsilon}}\\tau^{\\wedge} = Ad_{\\mathcal{X}}({}^{\\mathcal{X}}\\tau^{\\wedge})$\n",
    "\n",
    "$$\n",
    "\\begin{align}\n",
    "Ad_{\\mathcal{X}}(a\\tau^{\\wedge} + b\\sigma^{\\wedge}) &= Ad_{\\mathcal{X}}(a\\tau^{\\wedge}) + Ad_{\\mathcal{X}}(b\\sigma^{\\wedge}) \\\\\n",
    "Ad_{\\mathcal{X}}(Ad_{\\mathcal{Y}}(\\tau^{\\wedge})) &= Ad_{\\mathcal{XY}}(\\tau^{\\wedge})\n",
    "\\end{align}\n",
    "$$"
   ]
  },
  {
   "cell_type": "markdown",
   "id": "available-pharmacology",
   "metadata": {},
   "source": [
    "Since $Ad_{\\mathcal{X}}()$ is a linear operation so that we can find an equivalent matrix operation as $Ad_{\\mathcal{X}}$: ${}^{\\mathcal{\\epsilon}}\\tau^{\\wedge} = Ad_{\\mathcal{X}}{}^{\\mathcal{X}}\\tau^{\\wedge}$\n",
    "$$\n",
    "\\begin{align}\n",
    "\\mathcal{X} \\boxplus {}^{\\mathcal{X}}\\tau^{\\wedge} &= Ad_{\\mathcal{X}}{}^{\\mathcal{X}}\\tau^{\\wedge} \\boxplus \\mathcal{X} \\\\\n",
    "Ad_{\\mathcal{X}^{-1}} &=  Ad_{\\mathcal{X}}^{-1}\\\\\n",
    "Ad_{\\mathcal{XY}} &= Ad_{\\mathcal{X}}Ad_{\\mathcal{Y}}\n",
    "\\end{align}\n",
    "$$\n",
    "\n",
    "From ${}^{\\mathcal{\\epsilon}}\\tau^{\\wedge} = \\mathcal{X} \\circ  {}^{\\mathcal{X}}\\tau^{\\wedge} \\circ  \\mathcal{X}^{-1}$, we can find $Ad_{\\mathcal{X}} {}^{\\mathcal{X}}\\tau^{\\wedge} = (\\mathcal{X} \\circ  {}^{\\mathcal{X}}\\tau^{\\wedge} \\circ  \\mathcal{X}^{-1})^\\vee$"
   ]
  },
  {
   "cell_type": "markdown",
   "id": "satisfied-front",
   "metadata": {},
   "source": [
    "Once we have adjoint matrix, we could find the relation below which is quite useful when calculate Jacobian matrices:\n",
    "$$\n",
    "\\begin{align}\n",
    "Exp(Ad_{\\mathcal{X}} {}^{\\mathcal{X}}\\tau^{\\wedge}) \\circ  \\mathcal{X} &= \\mathcal{X} \\circ  Exp({}^{\\mathcal{X}}\\tau) \\\\\n",
    "Exp(Ad_{\\mathcal{X}^{-1}} {}^{\\mathcal{X}}\\tau^{\\wedge})\\circ \\mathcal{X}^{-1}   &=  \\mathcal{X}^{-1} \\circ Exp({}^{\\mathcal{X}}\\tau)     \\\\\n",
    "Exp({}^{\\mathcal{X}}\\tau)\\circ \\mathcal{X}   &=  \\mathcal{X} \\circ Exp(Ad_{\\mathcal{X}^{-1}} {}^{\\mathcal{X}}\\tau^{\\wedge}) \\\\\n",
    "\\end{align}\n",
    "$$"
   ]
  },
  {
   "cell_type": "markdown",
   "id": "urban-dallas",
   "metadata": {},
   "source": [
    "### Lie Group Examples"
   ]
  },
  {
   "cell_type": "markdown",
   "id": "efficient-radiation",
   "metadata": {},
   "source": [
    "#### SO(3)"
   ]
  },
  {
   "cell_type": "markdown",
   "id": "exposed-exploration",
   "metadata": {},
   "source": [
    "##### Manifold\n",
    "$$\n",
    "R \\in SO(3) \\subset \\mathbb{R^{3\\times3}}\n",
    "$$"
   ]
  },
  {
   "cell_type": "markdown",
   "id": "yellow-hayes",
   "metadata": {},
   "source": [
    "##### Lie Algebra\n",
    "$$\n",
    "\\begin{align}\n",
    "\\theta & \\in \\mathbb{R^{3}} \\\\\n",
    "\\theta^{\\wedge} &= \n",
    "[\\theta]_\\times \\in \\mathfrak{so(3)}\n",
    "\\end{align} \n",
    "$$"
   ]
  },
  {
   "cell_type": "markdown",
   "id": "played-spell",
   "metadata": {},
   "source": [
    "##### Inverse and Rotation Action\n",
    "$$\n",
    "\\begin{align}\n",
    "R^{-1} &= R^T \\\\\n",
    "x^{n} &= R^{nb} x^{b} \n",
    "\\end{align} \n",
    "$$\n"
   ]
  },
  {
   "cell_type": "markdown",
   "id": "dense-excitement",
   "metadata": {},
   "source": [
    "##### Exp and Log\n",
    "$$\n",
    "\\begin{align}\n",
    "R &= Exp(\\theta) \\\\\n",
    "&= \\mathcal{I} + sin(\\|\\theta\\|)[\\theta]_\\times + (1-cos(\\|\\theta\\|))[\\theta]_\\times^2 \\\\\n",
    "\\theta &= Log(R) \\\\\n",
    "&= \\frac{\\alpha(R-R^T)^\\vee}{2sin(\\alpha)} \\\\\n",
    "\\alpha &= cos^{-1}(\\frac{trace{R}-1}{2}) \n",
    "\\end{align} \n",
    "$$"
   ]
  },
  {
   "cell_type": "markdown",
   "id": "substantial-amateur",
   "metadata": {},
   "source": [
    "##### Adjoint \n",
    "$$\n",
    "Ad_{R} = R\n",
    "$$"
   ]
  },
  {
   "cell_type": "markdown",
   "id": "joint-jonathan",
   "metadata": {},
   "source": [
    "#### SE(3)"
   ]
  },
  {
   "cell_type": "markdown",
   "id": "comfortable-aurora",
   "metadata": {},
   "source": [
    "##### Manifold\n",
    "$$\n",
    "M = \\begin{bmatrix}\n",
    "R & t\\\\\n",
    "0 & 1\n",
    "\\end{bmatrix} \\in SE(3) \\subset \\mathbb{R^{4\\times4}}\n",
    "$$"
   ]
  },
  {
   "cell_type": "markdown",
   "id": "desirable-friendly",
   "metadata": {},
   "source": [
    "##### Lie Algebra\n",
    "$$\n",
    "\\begin{align}\n",
    "\\xi &= \\begin{bmatrix}\n",
    "\\rho \\\\\n",
    "\\theta\n",
    "\\end{bmatrix} \\in \\mathbb{R^{6}} \\\\\n",
    "\\xi^{\\wedge} &= \\begin{bmatrix}\n",
    "[\\theta]_\\times & \\rho\\\\\n",
    "0 & 0\n",
    "\\end{bmatrix} \\in \\mathfrak{se(3)}\n",
    "\\end{align} \n",
    "$$"
   ]
  },
  {
   "cell_type": "markdown",
   "id": "furnished-nancy",
   "metadata": {},
   "source": [
    "##### Inverse and  Action\n",
    "$$\n",
    "\\begin{align}\n",
    "M^{-1} &= \\begin{bmatrix}\n",
    "R^T & -R^Tt\\\\\n",
    "0 & 1\n",
    "\\end{bmatrix} \\\\\n",
    "M_aM_b &= \\begin{bmatrix}\n",
    "R_aR_b & t_a + R_at_b\\\\\n",
    "0 & 1\n",
    "\\end{bmatrix}\\\\\n",
    "x' &= M x = Rx + t\n",
    "\\end{align} \n",
    "$$"
   ]
  },
  {
   "cell_type": "markdown",
   "id": "broadband-merit",
   "metadata": {},
   "source": [
    "##### Exp and Log\n",
    "$$\n",
    "\\begin{align}\n",
    "M &= Exp(\\xi) \\\\\n",
    "&=  \\begin{bmatrix}\n",
    "Exp(\\theta) & V(\\theta)\\rho\\\\\n",
    "0 & 1\n",
    "\\end{bmatrix}\\\\\n",
    "\\xi &= Log(M) \\\\\n",
    "&= \\begin{bmatrix}\n",
    "V^{-1}(\\theta)t\\\\\n",
    "Log(R)\n",
    "\\end{bmatrix}\n",
    "\\end{align} \n",
    "$$\n",
    "$$\n",
    "V(\\theta) = \\mathcal{I} + \\frac{1-cos(\\|\\theta\\|)}{\\|\\theta\\|^2}[\\theta]_\\times + \\frac{\\|\\theta\\|-sin(\\|\\theta\\|)}{\\|\\theta\\|^3}[\\theta]_\\times^2\n",
    "$$"
   ]
  },
  {
   "cell_type": "markdown",
   "id": "critical-duration",
   "metadata": {},
   "source": [
    "##### Adjoint \n",
    "$$\n",
    "\\begin{align}\n",
    "Ad_{M}= \\begin{bmatrix}\n",
    "R & [t]_\\times R \\\\\n",
    "0 & R\n",
    "\\end{bmatrix}\n",
    "\\end{align}\n",
    "$$"
   ]
  },
  {
   "cell_type": "markdown",
   "id": "sensitive-uncle",
   "metadata": {},
   "source": [
    "##### pseudo-Exp and pseudo-Log\n",
    "$$\n",
    "\\begin{align}\n",
    "M_{pseudo} &= Exp_{pseudo}(\\xi) \\\\\n",
    "&=  \\begin{bmatrix}\n",
    "Exp(\\theta) & t\\\\\n",
    "0 & 1\n",
    "\\end{bmatrix}\\\\\n",
    "\\xi_{pseudo} &= Log_{pseudo}(M) \\\\\n",
    "&= \\begin{bmatrix}\n",
    "t\\\\\n",
    "Log(R)\n",
    "\\end{bmatrix}\n",
    "\\end{align} \n",
    "$$\n",
    "$$\n",
    "\\begin{align}\n",
    "Ad_{M_{pseudo}} &=\\begin{bmatrix}\n",
    "R & [t]_\\times R \\\\\n",
    "0 & R\n",
    "\\end{bmatrix}\n",
    "\\end{align}\n",
    "$$"
   ]
  },
  {
   "cell_type": "markdown",
   "id": "accurate-purpose",
   "metadata": {},
   "source": [
    "### Derivatives on Lie Groups"
   ]
  },
  {
   "cell_type": "markdown",
   "id": "middle-quebec",
   "metadata": {},
   "source": [
    "We have $\\mathcal{Y} = f(\\mathcal{X})$ with $\\mathcal{X} \\in \\mathcal{M}, \\mathcal{Y} \\in \\mathcal{N}, \\mathcal{T}_{\\mathcal{M}} \\in \\mathbb{R}^m, \\mathcal{T}_{\\mathcal{N}} \\in \\mathbb{R}^n$, then we can get a **right Jacobian** matrix which maps tangent space $\\mathcal{T}_{\\mathcal{M}}$ to another tangent space $\\mathcal{T}_{\\mathcal{N}}$.\n",
    "\n",
    "$$\n",
    "\\begin{align}\n",
    "{J}_{\\mathcal{X}}^{\\mathcal{Y}} &= \\underset{\\tau \\rightarrow 0}{\\operatorname{lim}}\\frac{f(\\mathcal{X} \\boxplus_{\\mathcal{M}} \\tau) \\boxminus_{\\mathcal{N}}f(\\mathcal{X})}{\\tau} \\in \\mathbb{R^{n \\times m}} \\\\\n",
    "&= \\underset{\\tau \\rightarrow 0}{\\operatorname{lim}}\\frac{Log(f(\\mathcal{X})^{-1} \\circ f(\\mathcal{X} \\circ Exp(\\tau))}{\\tau}\n",
    "\\end{align}\n",
    "$$ "
   ]
  },
  {
   "cell_type": "markdown",
   "id": "artistic-flavor",
   "metadata": {},
   "source": [
    "The we could have a approximation based on Taylor expansion as $f(\\mathcal{X} \\boxplus {}^{\\mathcal{X}}\\tau) \\approx f(\\mathcal{X}) \\boxplus {J^{\\mathcal{Y}}_{\\mathcal{X}}}{}^{\\mathcal{X}}\\tau$. And without proof here, we also claim relation between left and right jacobian is that ${}^{\\mathcal{\\epsilon}}J^{\\mathcal{Y}}_{\\mathcal{X}}Ad_{\\mathcal{X}} = Ad_{f(\\mathcal{X})}{}^{\\mathcal{X}}J^{\\mathcal{Y}}_{\\mathcal{X}}$.\n",
    "\n",
    "Note (XW: My own observation): If I use $\\boxplus$ for this approximation, I couldn't figure out how to  plug in this into Gauss Newton optimization framework. So I have to make sure $f(\\mathcal{X})$ is in a Euclidean space which means its tangent space is the same as its manifold space so that $\\boxplus$ becomes normal $+$, i.e. $f(\\mathcal{X} \\boxplus {}^{\\mathcal{X}}\\tau) \\approx f(\\mathcal{X}) + {J^{\\mathcal{Y}}_{\\mathcal{X}}}{}^{\\mathcal{X}}\\tau$."
   ]
  },
  {
   "cell_type": "markdown",
   "id": "revised-moderator",
   "metadata": {},
   "source": [
    "#### Inverse\n",
    "$$\n",
    "\\begin{align}\n",
    "{J}^{\\mathcal{X}^{-1}}_{\\mathcal{X}} &= -Ad_{\\mathcal{X}}\n",
    "\\end{align}\n",
    "$$ "
   ]
  },
  {
   "cell_type": "markdown",
   "id": "permanent-inspiration",
   "metadata": {},
   "source": [
    "#### Composition\n",
    "$$\n",
    "\\begin{align}\n",
    "{J}^{\\mathcal{X} \\circ \\mathcal{Y}}_{\\mathcal{X}} &=  Ad_{\\mathcal{Y}}^{-1}\\\\\n",
    "{J}^{\\mathcal{X} \\circ \\mathcal{Y}}_{\\mathcal{Y}} &= \\mathcal{I}\n",
    "\\end{align}\n",
    "$$ "
   ]
  },
  {
   "cell_type": "markdown",
   "id": "employed-platform",
   "metadata": {},
   "source": [
    "#### Exp\n",
    "$$\n",
    "\\begin{align}\n",
    "{J}_r(\\tau) &= \\frac{\\partial Exp(\\tau)}{\\partial \\tau}  \\\\\n",
    "&= \\underset{\\delta\\tau \\rightarrow 0}{\\operatorname{lim}}\\frac{Exp(\\tau \\boxplus \\delta \\tau) \\boxminus Exp(\\tau)}{\\partial \\delta \\tau}\\\\\n",
    "&= \\underset{\\delta\\tau \\rightarrow 0}{\\operatorname{lim}}\\frac{Log(Exp(\\tau)^{-1}Exp(\\tau + \\delta \\tau)}{\\partial \\delta \\tau}\n",
    "\\end{align}\n",
    "$$\n",
    "First-order approximation:\n",
    "$$\n",
    "\\begin{align}\n",
    "Exp(\\phi + \\delta\\phi) &\\approx Exp(\\phi)Exp(J_r(\\phi)\\delta\\phi) \\\\\n",
    "Exp(\\phi + J_r^{-1}(\\phi)\\delta\\phi) &\\approx Exp(\\phi)Exp(J_r(\\phi)J_r^{-1}(\\phi)\\delta\\phi) \\\\\n",
    "Log(Exp(\\phi)Exp(\\delta\\phi)) &\\approx \\phi + J_r^{-1}(\\phi)\\delta\\phi\n",
    "\\end{align}\n",
    "$$\n",
    "Left and right jacobian:\n",
    "$$\n",
    "J_r(-\\tau) = J_l(\\tau)\n",
    "$$"
   ]
  },
  {
   "cell_type": "markdown",
   "id": "built-detection",
   "metadata": {},
   "source": [
    "#### Log\n",
    "$$\n",
    "\\begin{align}\n",
    "{J}^{Log(\\mathcal{X})}_{\\mathcal{X}} &= J_r^{-1}(\\tau)\n",
    "\\end{align}\n",
    "$$ "
   ]
  },
  {
   "cell_type": "markdown",
   "id": "worthy-romania",
   "metadata": {},
   "source": [
    "#### $\\boxplus$\n",
    "$$\n",
    "\\begin{align}\n",
    "{J}^{\\mathcal{X}\\boxplus \\tau}_{\\mathcal{X}} &=  Ad_{Exp(\\tau)}^{-1}\\\\\n",
    "{J}^{\\mathcal{X}\\boxplus \\tau}_{\\tau} &= J_r({\\tau})\n",
    "\\end{align}\n",
    "$$ "
   ]
  },
  {
   "cell_type": "markdown",
   "id": "fantastic-charge",
   "metadata": {},
   "source": [
    "#### $\\boxminus$\n",
    "$$\n",
    "\\begin{align}\n",
    "{J}^{\\mathcal{Y}\\boxminus \\mathcal{X}}_{\\mathcal{X}} &=  -J_l^{-1(\\tau)}\\\\\n",
    "{J}^{\\mathcal{Y}\\boxminus \\mathcal{X}}_{\\mathcal{Y}} &= J_r^{-1}(\\tau)\n",
    "\\end{align}\n",
    "$$ \n",
    "where $\\tau = Log(\\mathcal{Y}\\boxminus \\mathcal{X}) = Log(\\mathcal{X}^{-1}\\mathcal{Y})$"
   ]
  },
  {
   "cell_type": "markdown",
   "id": "contained-listing",
   "metadata": {},
   "source": [
    "### Derivatives on Lie Groups Examples:  SO(3), SE(3)"
   ]
  },
  {
   "cell_type": "markdown",
   "id": "presidential-edinburgh",
   "metadata": {},
   "source": [
    "#### SO(3)"
   ]
  },
  {
   "cell_type": "markdown",
   "id": "harmful-tennessee",
   "metadata": {},
   "source": [
    "##### Inverse\n",
    "$$\n",
    "\\begin{align}\n",
    "{J}^{\\mathcal{R}^{-1}}_{\\mathcal{R}} &= -Ad_{\\mathcal{R}} = -R\n",
    "\\end{align}\n",
    "$$ "
   ]
  },
  {
   "cell_type": "markdown",
   "id": "certified-anderson",
   "metadata": {},
   "source": [
    "##### Composition\n",
    "$$\n",
    "\\begin{align}\n",
    "{J}^{\\mathcal{Q} \\circ \\mathcal{R}}_{\\mathcal{Q}} &=  Ad_{\\mathcal{Q}}^{-1} = Q^T\\\\\n",
    "{J}^{\\mathcal{Q} \\circ \\mathcal{R}}_{\\mathcal{R}} &= \\mathcal{I}\n",
    "\\end{align}\n",
    "$$ "
   ]
  },
  {
   "cell_type": "markdown",
   "id": "failing-rainbow",
   "metadata": {},
   "source": [
    "##### Exp\n",
    "$t = \\|\\theta\\|,  u=\\frac{\\theta}{\\|\\theta\\|}$\n",
    "$$\n",
    "\\begin{align}\n",
    "{J}_r(\\theta) &= \\frac{sin(t)}{t}\\mathcal{I}_{3\\times3} + (1- \\frac{sin(t)}{t})uu^T-\\frac{1-cos(t)}{t}[u]_\\times\\\\\n",
    "{J}^{-1}_r(\\theta) &= \\frac{t}{2}cot(\\frac{t}{2})\\mathcal{I}_{3\\times3} + (1-\\frac{t}{2}cot(\\frac{t}{2}))uu^T +\\frac{t}{2}[u]_times\\\\\n",
    "{J}_l(\\theta) &= \\frac{sin(t)}{t}\\mathcal{I}_{3\\times3} + (1- \\frac{sin(t)}{t})uu^T + \\frac{1-cos(t)}{t}[u]_\\times\\\\\n",
    "{J}^{-1}_l(\\theta) &= \\frac{t}{2}cot(\\frac{t}{2})\\mathcal{I}_{3\\times3} + (1-\\frac{t}{2}cot(\\frac{t}{2}))uu^T -\\frac{t}{2}[u]_\\times\\\\\n",
    "J_l(\\theta) &= J_r(-\\theta)\n",
    "\\end{align}\n",
    "$$"
   ]
  },
  {
   "cell_type": "markdown",
   "id": "reported-modeling",
   "metadata": {},
   "source": [
    "##### Log\n",
    "$$\n",
    "\\begin{align}\n",
    "{J}^{Log(\\mathcal{R})}_{\\mathcal{R}} &= J_r^{-1}(\\theta)\n",
    "\\end{align}\n",
    "$$ \n",
    "where $\\theta = Log(R)$"
   ]
  },
  {
   "cell_type": "markdown",
   "id": "minor-desperate",
   "metadata": {},
   "source": [
    "##### $\\boxminus$\n",
    "$$\n",
    "\\begin{align}\n",
    "{J}^{\\mathcal{Q}\\boxminus \\mathcal{R}}_{\\mathcal{R}} &=  -J_l^{-1}(\\theta)\\\\\n",
    "{J}^{\\mathcal{Q}\\boxminus \\mathcal{R}}_{\\mathcal{Q}} &= J_r^{-1}(\\theta)\n",
    "\\end{align}\n",
    "$$ \n",
    "where $\\theta = Log(\\mathcal{Q}\\boxminus \\mathcal{R}) = Log(\\mathcal{R}^{-1}\\mathcal{Q})$"
   ]
  },
  {
   "cell_type": "markdown",
   "id": "mobile-kruger",
   "metadata": {},
   "source": [
    "##### Rotation Action\n",
    "$$\n",
    "\\begin{align}\n",
    "{J}^{\\mathcal{R} \\cdot v}_{\\mathcal{R}} &= -R[v]_\\times\\\\\n",
    "{J}^{\\mathcal{R} \\cdot v}_{v} &= R\n",
    "\\end{align}\n",
    "$$ "
   ]
  },
  {
   "cell_type": "markdown",
   "id": "natural-challenge",
   "metadata": {},
   "source": [
    "#### SE(3)"
   ]
  },
  {
   "cell_type": "markdown",
   "id": "excessive-confirmation",
   "metadata": {},
   "source": [
    "##### Inverse\n",
    "$$\n",
    "\\begin{align}\n",
    "{J}^{\\mathcal{T}^{-1}}_{\\mathcal{T}} &= -Ad_{\\mathcal{T}} = -\\begin{bmatrix}\n",
    "R & [t]_\\times R \\\\\n",
    "0 & R\n",
    "\\end{bmatrix}\n",
    "\\end{align}\n",
    "$$ "
   ]
  },
  {
   "cell_type": "markdown",
   "id": "missing-graduate",
   "metadata": {},
   "source": [
    "##### Composition\n",
    "$$\n",
    "\\begin{align}\n",
    "{J}^{\\mathcal{S} \\circ \\mathcal{T}}_{\\mathcal{S}} &=  Ad_{\\mathcal{S}}^{-1} = Ad_{\\mathcal{S}^{-1}} =\\begin{bmatrix}\n",
    "R^t & R^T[t]_\\times R \\\\\n",
    "0 & R^T\n",
    "\\end{bmatrix}\\\\\n",
    "{J}^{\\mathcal{S} \\circ \\mathcal{T}}_{\\mathcal{T}} &= \\mathcal{I}\n",
    "\\end{align}\n",
    "$$ "
   ]
  },
  {
   "cell_type": "markdown",
   "id": "radical-rachel",
   "metadata": {},
   "source": [
    "##### Exp\n",
    "$$\n",
    "\\begin{align}\n",
    "{J}_r(\\rho,\\theta) &= \\begin{bmatrix}J_r & Q_r \\\\ 0 & J_r \\end{bmatrix}\\\\\n",
    "{J}^{-1}_r(\\rho,\\theta) &= \\begin{bmatrix}J_r^{-1} & -J_r^{-1}Q_rJ_r^{-1} \\\\ 0 & J_r^{-1} \\end{bmatrix}\\\\\n",
    "{J}_l(\\rho,\\theta) &= J_r(-\\rho,-\\theta)\\\\\n",
    "{J}^{-1}_l(\\rho,\\theta) &= {J}^{-1}_r(-\\rho,-\\theta)\\\\\n",
    "\\end{align}\n",
    "$$\n",
    "$t = \\|\\theta\\|$\n",
    "$$\n",
    "\\begin{align}\n",
    "Q_l(\\xi) &= Q_r(-\\xi) \\\\\n",
    "&= \\frac{1}{2}[\\rho]_\\times \\\\\n",
    "&+ \\frac{t-sin(t)}{t^3}([\\phi]_\\times[\\rho]_\\times + [\\rho]_\\times[\\phi]_\\times+[\\phi]_\\times[\\rho]_\\times[\\phi]_\\times)\\\\\n",
    "&+\\frac{t^2+2cos(t)-2}{2t^4}([\\phi]_\\times[\\phi]_\\times[\\rho]_\\times+[\\rho]_\\times[\\phi]_\\times[\\phi]_\\times-3[\\phi]_\\times[\\rho]_\\times[\\phi]_\\times)\\\\\n",
    "&+\\frac{2t-3sin(t)+tcos(t)}{2t^5}([\\phi]_\\times[\\rho]_\\times[\\phi]_\\times[\\phi]_\\times+[\\phi]_\\times[\\phi]_\\times[\\rho]_\\times[\\phi]_\\times)\n",
    "\\end{align}\n",
    "$$"
   ]
  },
  {
   "cell_type": "markdown",
   "id": "complimentary-fellowship",
   "metadata": {},
   "source": [
    "##### Log\n",
    "$$\n",
    "\\begin{align}\n",
    "{J}^{Log(\\mathcal{T})}_{\\mathcal{T}} &= J_r^{-1}(\\xi)\n",
    "\\end{align}\n",
    "$$ \n",
    "where $\\xi = (\\rho,\\theta) = Log(T)$"
   ]
  },
  {
   "cell_type": "markdown",
   "id": "dangerous-bidder",
   "metadata": {},
   "source": [
    "##### $\\boxminus$\n",
    "$$\n",
    "\\begin{align}\n",
    "{J}^{\\mathcal{S}\\boxminus \\mathcal{T}}_{\\mathcal{T}} &=  -J_l^{-1}(\\xi)\\\\\n",
    "{J}^{\\mathcal{S}\\boxminus \\mathcal{T}}_{\\mathcal{S}} &= J_r^{-1}(\\xi)\n",
    "\\end{align}\n",
    "$$ \n",
    "where $\\xi = Log(\\mathcal{S}\\boxminus \\mathcal{T}) = Log(\\mathcal{T}^{-1}\\mathcal{S})$"
   ]
  },
  {
   "cell_type": "markdown",
   "id": "legitimate-lawsuit",
   "metadata": {},
   "source": [
    "##### Action\n",
    "$$\n",
    "\\begin{align}\n",
    "{J}^{\\mathcal{T} \\cdot v}_{\\mathcal{R}} &= [R -R[v]_\\times]\\\\\n",
    "{J}^{\\mathcal{T} \\cdot v}_{v} &= R\n",
    "\\end{align}\n",
    "$$ "
   ]
  },
  {
   "cell_type": "markdown",
   "id": "thousand-corporation",
   "metadata": {},
   "source": [
    "### Uncertainty Propagation\n",
    "\n",
    "When we use right boxplus, essentially we perturbed poses in local frame (check [this]({% post_url 2021-12-18-rigid-body-transformation %}) for more information). We can define variances in the local tangent frame or global tangent frame. \n",
    "\n",
    "$$\n",
    "\\begin{align}\n",
    "T_{EV} &= \\bar{T}_{EV}Exp({}^{\\mathcal{V}}\\xi) \\\\\n",
    "T_{EV} &= Exp({}^{\\mathcal{E}}\\xi)\\bar{T}_{EV}\n",
    "\\end{align}\n",
    "$$\n",
    "where $\\bar{T}_{EV}$ is noise free and noise $\\xi \\sim \\mathcal{N}(0, \\Sigma)$."
   ]
  },
  {
   "cell_type": "markdown",
   "id": "employed-basic",
   "metadata": {},
   "source": [
    "#### Inverse\n",
    "$$\n",
    "\\begin{align}\n",
    "T_{EV} &= \\bar{T}_{EV}Exp({}^{\\mathcal{V}}\\xi) \\\\\n",
    "T_{EV}^{-1} &= (\\bar{T}_{EV}Exp({}^{\\mathcal{V}}\\xi))^{-1} \\\\\n",
    "&= (Exp({}^{\\mathcal{V}}\\xi))^{-1}\\bar{T}_{EV}^{-1}\\\\\n",
    "&= Exp(-{}^{\\mathcal{V}}\\xi)\\bar{T}_{EV}^{-1}\\\\\n",
    "&= \\bar{T}_{EV}^{-1}Exp(-Ad_{T_{EV}}{}^{\\mathcal{V}}\\xi) \\\\\n",
    "\\Sigma_{VE} & = Ad_{T_{EV}}\\Sigma_{EV} Ad_{T_{EV}}^T\n",
    "\\end{align}\n",
    "$$"
   ]
  },
  {
   "cell_type": "markdown",
   "id": "double-training",
   "metadata": {},
   "source": [
    "#### Composition\n",
    "$$\n",
    "\\begin{align}\n",
    "T_{EV_2} &= \\bar{T}_{EV_1}Exp({}^{\\mathcal{V_1}}\\xi)\\bar{T}_{V_1V_2}Exp({}^{\\mathcal{V_{12}}}\\xi) \\\\\n",
    "&= \\bar{T}_{EV_1}\\bar{T}_{V_1V_2}Exp(Ad_{T_{V_1V_2}^{-1}}{}^{\\mathcal{V_1}}\\xi)Exp({}^{\\mathcal{V_{12}}}\\xi) \\\\\n",
    "\\Sigma_{EV_2} &= Ad_{T_{V_2V_1}}\\Sigma_{EV_1} Ad_{T_{V_2V_1}}^T + \\Sigma_{V_1V_2} + Ad_{T_{V_2V_1}}\\Sigma_{EV_1,V_1V_2} + (Ad_{T_{V_2V_1}}\\Sigma_{EV_1,V_1V_2})^T\n",
    "\\end{align}\n",
    "$$"
   ]
  },
  {
   "cell_type": "markdown",
   "id": "alien-department",
   "metadata": {},
   "source": [
    "#### Relative transformation\n",
    "$$\n",
    "\\begin{align}\n",
    "T_{V_1V_2} &= (\\bar{T}_{EV_1}Exp({}^{\\mathcal{V_1}}\\xi))^{-1}\\bar{T}_{EV_2}Exp({}^{\\mathcal{V_{2}}}\\xi)\\\\\n",
    "&=Exp(-{}^{\\mathcal{V_1}}\\xi)\\bar{T}_{EV_1}^{-1}\\bar{T}_{EV_2}Exp({}^{\\mathcal{V_{2}}}\\xi)\\\\\n",
    "&=\\bar{T}_{EV_1}^{-1}\\bar{T}_{EV_2}Exp(-Ad_{T_{V_2E}T_{EV_1}}{}^{\\mathcal{V_1}}\\xi)Exp({}^{\\mathcal{V_{2}}}\\xi)\\\\\n",
    "&=\\bar{T}_{V_1V_2}Exp(-Ad_{T_{V_2V_1}}{}^{\\mathcal{V_1}}\\xi)Exp({}^{\\mathcal{V_{2}}}\\xi)\\\\\n",
    "\\Sigma_{V_1V_2} &= Ad_{T_{V_2V_1}}\\Sigma_{V_1}Ad_{T_{V_2V_1}}^T + \\Sigma_{V_2} -  Ad_{T_{V_2V_1}}\\Sigma_{EV_1, EV_2} - (Ad_{T_{V_2V_1}}\\Sigma_{EV_1, EV_2})^T\n",
    "\\end{align}\n",
    "$$"
   ]
  },
  {
   "cell_type": "markdown",
   "id": "premier-patrol",
   "metadata": {},
   "source": [
    "### A Pose Graph Example"
   ]
  },
  {
   "cell_type": "markdown",
   "id": "single-quarterly",
   "metadata": {},
   "source": [
    "#### SE(3) = SO(3) + T(3)\n",
    "In the first pose example, we will separate constraints on rotation and translation. In this case, we will leverage Lie theory on SO(3).\n",
    "$$\n",
    "\\begin{align}\n",
    "\\Delta  \\hat{x} &= \\underset{\\Delta x}{\\operatorname{argmin}}{\\|f(R_{gi}, t_{gi}, R_{gj}, t_{gj}, \\hat{R}_{gi}, \\hat{t}_{gi}, \\hat{R}_{ij}, \\hat{t}_{ij})\\|_\\Sigma} \\\\\n",
    "\\end{align}\n",
    "$$\n",
    "\n",
    "\n",
    "$$\n",
    "\\begin{align}\n",
    "\\Delta  \\hat{x} &= \\underset{\\Delta x}{\\operatorname{argmin}}{\n",
    "\\|(\\bar{t}_{gi}+\\Delta t_{gi})-\\hat{t}_{gi} \\| \\\\\n",
    "+ \\|Log(\\hat{R}_{gi}^T (\\bar{R}_{gi}\\boxplus \\Delta \\theta_{gi}))\\| \\\\\n",
    "+\\|Log(\\hat{R}_{ij}^T (\\bar{R}_{gi}\\boxplus \\Delta \\theta_{gi})^T(\\bar{R}_{gj}\\boxplus \\Delta \\theta_{gj}))\\|\\\\\n",
    "+ \\|(\\bar{R}_{gi} \\boxplus \\Delta \\theta_{gi})^T((\\bar{t}_{gj}+\\Delta t_{gj})-(\\bar{t}_{gi}+\\Delta t_{gi}))-\\hat{t}_{ij}\\|\n",
    "} \\\\\n",
    "&= \\underset{\\Delta x}{\\operatorname{argmin}}{\n",
    "\\|(\\bar{t}_{gi} - \\hat{t}_{gi}) + \\mathcal{I}_{3\\times3}\\Delta t_{gi}  \\| \\\\\n",
    "+ \\|Log(\\hat{R}_{gi}^T \\bar{R}_{gi}) + J^{-1}_r(Log(\\hat{R}_{gi}^T \\bar{R}_{gi})) \\mathcal{I}_{3\\times3}\\Delta \\theta_{gi}\\|\\\\\n",
    "+\\|Log(\\hat{R}_{ij}^T \\bar{R}_{gi}^T\\bar{R}_{gj}) \n",
    "- J^{-1}_r(Log(\\hat{R}_{ij}^T \\bar{R}_{gi}^T\\bar{R}_{gj}))Ad_{\\bar{R}^T_{gj}}Ad_{\\bar{R}_{gi}} \\Delta \\theta_{gi}\n",
    "+ J^{-1}_r(Log(\\hat{R}_{ij}^T \\bar{R}_{gi}^T\\bar{R}_{gj}))\\mathcal{I}_{3\\times3}\\Delta\\theta_{gj}\\| \\\\\n",
    "+ \\|\\bar{R}^T_{gi}(\\bar{t}_{gj} - \\bar{t}_{gi})-\\hat{t}_{ij} -\\bar{R}^T_{gi}\\Delta t_{gi} + \\bar{R}^T_{gi}\\Delta t_{gj} + \\bar{R}^T_{gi}[\\bar{t}_{gj} - \\bar{t}_{gi}]_\\times \\bar{R}_{gi}\\Delta \\theta_{gi}\\| \n",
    "}\n",
    "\\end{align}\n",
    "$$\n"
   ]
  },
  {
   "cell_type": "markdown",
   "id": "alpha-holmes",
   "metadata": {},
   "source": [
    "You can find more information about how to solve this factor graph in this [post]({% post_url 2021-05-24-factor-graph %})."
   ]
  },
  {
   "cell_type": "code",
   "execution_count": 7,
   "id": "enabling-conservative",
   "metadata": {
    "code_folding": [
     0
    ]
   },
   "outputs": [],
   "source": [
    "# Lie theory SO(3) libraries\n",
    "\n",
    "from math import sin, cos\n",
    "import numpy as np\n",
    "from scipy.linalg import expm, logm\n",
    "\n",
    "def skew(omega):\n",
    "    return np.array([[0, -omega[2].item(), omega[1].item()],\n",
    "                     [omega[2].item(), 0, -omega[0].item()],\n",
    "                     [-omega[1].item(), omega[0].item(), 0]])\n",
    "\n",
    "def unskew(Omega):\n",
    "    return np.array([[Omega[2, 1].item()], [Omega[0, 2].item()], [Omega[1, 0].item()]])\n",
    "\n",
    "def Exp_SO3(omega):\n",
    "    return expm(skew(omega))\n",
    "\n",
    "def Log_SO3(R):\n",
    "    return unskew(logm(R))\n",
    "\n",
    "def Adjoint_SO3(Omega):\n",
    "    return Omega\n",
    "\n",
    "def LeftJacobian_SO3(w):\n",
    "    theta = np.linalg.norm(w)\n",
    "    if abs(theta) < 1E-8:\n",
    "        return np.eye(3)\n",
    "    a = w/theta\n",
    "    A = skew(a)\n",
    "    return (sin(theta)/theta)*np.eye(3) + (1-sin(theta)/theta)*a.dot(a.T) + ((1-cos(theta))/theta) * A;\n",
    "        \n",
    "def LeftJacobianInv_SO3(w):\n",
    "    theta = np.linalg.norm(w)\n",
    "    if abs(theta) < 1E-8:\n",
    "        return np.eye(3)\n",
    "    a = w/theta\n",
    "    A = skew(a)\n",
    "    cot_theta_half = cos(theta/2.0)/sin(theta/2.0);\n",
    "    return (theta/2.0)*cot_theta_half*np.eye(3) + (1.0 - (theta/2.0)*cot_theta_half)*a.dot(a.T) - (theta/2.0)*A;\n",
    "\n",
    "def RightJacobian_SO3(w):\n",
    "    return LeftJacobian_SO3(-w)\n",
    "\n",
    "\n",
    "def RightJacobianInv_SO3(w):\n",
    "    return LeftJacobianInv_SO3(-w)\n",
    "\n",
    "\n",
    "def from_rpy(roll, pitch, yaw):\n",
    "    return rotz(yaw).dot(roty(pitch).dot(rotx(roll)))\n",
    "\n",
    "\n",
    "def from_rpy_xyz(roll, pitch, yaw, x, y, z):\n",
    "    rot = from_rpy(roll, pitch, yaw)\n",
    "    rot_t = np.concatenate((rot, np.array([[x], [y], [z]])), axis=1)\n",
    "    return np.concatenate((rot_t, np.array([[0, 0, 0, 1]])), axis=0)\n",
    "\n",
    "def rotx(t):\n",
    "    c = np.cos(t)\n",
    "    s = np.sin(t)\n",
    "    return np.array([[1, 0, 0],\n",
    "                     [0, c, -s],\n",
    "                     [0, s, c]])\n",
    "\n",
    "\n",
    "def roty(t):\n",
    "    c = np.cos(t)\n",
    "    s = np.sin(t)\n",
    "    return np.array([[c, 0, s],\n",
    "                     [0, 1, 0],\n",
    "                     [-s, 0, c]])\n",
    "\n",
    "\n",
    "def rotz(t):\n",
    "    c = np.cos(t)\n",
    "    s = np.sin(t)\n",
    "    return np.array([[c, -s, 0],\n",
    "                     [s, c, 0],\n",
    "                     [0, 0, 1]])\n",
    "\n",
    "#"
   ]
  },
  {
   "cell_type": "code",
   "execution_count": 3,
   "id": "comic-essay",
   "metadata": {
    "code_folding": [
     0
    ],
    "scrolled": true
   },
   "outputs": [
    {
     "name": "stdout",
     "output_type": "stream",
     "text": [
      "Before optimization, check residuals.\n",
      "Pose i anchor observation error: \n",
      " 5.3971237378566785\n",
      "Transformation error: \n",
      " 5.3971237378566705\n",
      "\n",
      "After one step optimization, check residuals.\n",
      "Pose i anchor observation error: \n",
      " 3.385777950370129e-16\n",
      "Transformation error: \n",
      " 2.6219095756349117e-15\n"
     ]
    }
   ],
   "source": [
    "# A simple pose graph\n",
    "\n",
    "np.random.seed(0)\n",
    "T_gi = from_rpy_xyz(0, 0, 0, 0, 0, 0)\n",
    "noise = np.random.normal([0, 0, 0, 0, 0, 0], \n",
    "                         [1, 0.1, 0.5, 1, 1, 1])\n",
    "# noise = np.zeros(6)\n",
    "\n",
    "T_gi_hat = T_gi.dot(Exp_SE3(noise))\n",
    "T_gi_gj_hat = from_rpy_xyz(0.1, 0.1, 0.1, 5, 5, 5)\n",
    "T_gj = T_gi.dot(T_gi_gj_hat.dot(Exp_SE3(noise)))\n",
    "\n",
    "print('Before optimization, check residuals.')\n",
    "pose_i_anchor_error = Log_SE3(np.linalg.inv(T_gi_hat).dot(T_gi))\n",
    "print(f'Pose i anchor observation error: \\n {np.linalg.norm(pose_i_anchor_error)}')\n",
    "\n",
    "transformation_ij_error = Log_SE3(np.linalg.inv(T_gi_gj_hat).dot(np.linalg.inv(T_gi).dot(T_gj)))\n",
    "print(f'Transformation error: \\n {np.linalg.norm(transformation_ij_error)}')\n",
    "\n",
    "def Optimize(R_gi, t_gi, R_gj, t_gj, R_gi_hat, t_gi_hat, R_gi_gj_hat, t_gi_gj_hat):\n",
    "    J = np.zeros((3*4, 12)) # Jacobian\n",
    "    r = np.zeros((3*4, 1)) # Residual\n",
    "    ret = np.zeros((12, 1)) # State update\n",
    "    \n",
    "    theta_1 = Log_SO3(R_gi_hat.T.dot(R_gi))\n",
    "    theta_2 = Log_SO3(R_gi_gj_hat.T.dot(R_gi.T.dot(R_gj)))\n",
    "\n",
    "    r[0:3, :] = t_gi - t_gi_hat\n",
    "    r[3:6, :] = theta_1\n",
    "    r[6:9, :] = theta_2\n",
    "    r[9:12,:] = R_gi.T.dot(t_gj - t_gi) - t_gi_gj_hat\n",
    "    \n",
    "    # delta_theta_i, delta_t_i, delta_theta_j, delta_t_j\n",
    "    J[0:3, 3:6] = np.eye(3)\n",
    "    J[3:6, 0:3] = RightJacobianInv_SO3(theta_1)\n",
    "    J[6:9, 0:3] = -RightJacobianInv_SO3(theta_2).dot(R_gj.T.dot(R_gi))\n",
    "    J[6:9, 6:9] = RightJacobianInv_SO3(theta_2)\n",
    "    J[9:12, 0:3] = R_gi.T.dot(skew(t_gj-t_gi)).dot(R_gi)\n",
    "    J[9:12, 3:6] = -R_gi.T\n",
    "    J[9:12, 9:12] = R_gi.T\n",
    "    delta_x = -np.linalg.inv(J.T.dot(J)).dot(J.T.dot(r))\n",
    "    assert(delta_x.shape == ret.shape)\n",
    "    return delta_x\n",
    "\n",
    "R_gi_hat = T_gi_hat[:3, :3]\n",
    "t_gi_hat = T_gi_hat[:3, [3]]\n",
    "R_gi_gj_hat = T_gi_gj_hat[:3, :3]\n",
    "t_gi_gj_hat = T_gi_gj_hat[:3, [3]]\n",
    "\n",
    "STEPS = 5\n",
    "for i in range(STEPS):\n",
    "    R_gi = T_gi[:3, :3]\n",
    "    t_gi = T_gi[:3, [3]]\n",
    "    R_gj = T_gj[:3, :3]\n",
    "    t_gj = T_gj[:3, [3]]\n",
    "    \n",
    "    delta = Optimize(R_gi, t_gi, R_gj, t_gj, R_gi_hat, t_gi_hat, R_gi_gj_hat, t_gi_gj_hat)\n",
    "    R_gi = R_gi.dot(Exp_SO3(delta[0:3,:]))\n",
    "    t_gi = t_gi + delta[3:6]\n",
    "    R_gj = R_gj.dot(Exp_SO3(delta[6:9,:]))\n",
    "    t_gj = t_gj + delta[9:12]\n",
    "    \n",
    "    T_gi[:3, :3] = R_gi\n",
    "    T_gi[:3, [3]] = t_gi\n",
    "    T_gj[:3, :3] = R_gj\n",
    "    T_gj[:3, [3]] = t_gj\n",
    "\n",
    "print('\\nAfter one step optimization, check residuals.')\n",
    "pose_i_anchor_error = Log_SE3(np.linalg.inv(T_gi_hat).dot(T_gi))\n",
    "print(f'Pose i anchor observation error: \\n {np.linalg.norm(pose_i_anchor_error)}')\n",
    "\n",
    "transformation_ij_error = Log_SE3(np.linalg.inv(T_gi_gj_hat).dot(np.linalg.inv(T_gi).dot(T_gj)))\n",
    "print(f'Transformation error: \\n {np.linalg.norm(transformation_ij_error)}')\n",
    "#"
   ]
  },
  {
   "cell_type": "markdown",
   "id": "latest-robin",
   "metadata": {},
   "source": [
    "#### SE(3)\n",
    "In the first pose example, we will separate constraints on rotation and translation. In this case, we will leverage Lie theory on SE(3).\n",
    "$$\n",
    "\\begin{align}\n",
    "\\Delta  \\hat{x} &= \\underset{\\Delta x}{\\operatorname{argmin}}{\\|f(T_{gi}, T_{gj}, \\hat{T}_{gi}, \\hat{T}_{ij})\\|_\\Sigma} \\\\\n",
    "\\end{align}\n",
    "$$\n",
    "\n",
    "\n",
    "$$\n",
    "\\begin{align}\n",
    "\\Delta  \\hat{x} &= \\underset{\\Delta x}{\\operatorname{argmin}}{\n",
    " \\|Log(\\hat{T}_{gi}^{-1} (\\bar{T}_{gi}\\boxplus \\Delta \\xi_{gi}))\\| \\\\\n",
    "+\\|Log(\\hat{T}_{ij}^{-1} (\\bar{T}_{gi}\\boxplus \\Delta \\xi_{gi})^{-1}(\\bar{T}_{gj}\\boxplus \\Delta \\xi_{gj}))\\|\n",
    "} \\\\\n",
    "&= \\underset{\\Delta x}{\\operatorname{argmin}}{\n",
    "\\|Log(\\hat{T}_{gi}^{-1} \\bar{T}_{gi}) + J^{-1}_r(Log(\\hat{T}_{gi}^{-1} \\bar{T}_{gi})) \\mathcal{I}_{3\\times3}\\Delta \\xi_{gi}\\|\\\\\n",
    "+\\|Log(\\hat{T}_{ij}^{-1} \\bar{T}_{gi}^{-1}\\bar{T}_{gj}) \n",
    "- J^{-1}_r(Log(\\hat{T}_{ij}^{-1} \\bar{T}_{gi}^{-1}\\bar{T}_{gj}))Ad_{\\bar{T}^{-1}_{gj}}Ad_{\\bar{T}_{gi}} \\Delta \\xi_{gi}\n",
    "+ J^{-1}_r(Log(\\hat{T}_{ij}^{-1} \\bar{T}_{gi}^{-1}\\bar{T}_{gj}))\\mathcal{I}_{3\\times3}\\Delta\\xi_{gj}\\| \n",
    "}\n",
    "\\end{align}\n",
    "$$"
   ]
  },
  {
   "cell_type": "code",
   "execution_count": 24,
   "id": "pending-flavor",
   "metadata": {
    "code_folding": [
     0
    ]
   },
   "outputs": [],
   "source": [
    "# Lie theory SE(3) libraries\n",
    "\n",
    "def wedge(x):\n",
    "    X = np.zeros((4, 4))\n",
    "    X[:3, :3] = skew(x[3:6])\n",
    "    X[:3, [3]] = LeftJacobian_SO3(x[3:6]).dot(x[0:3]).reshape(3,1)\n",
    "    return X\n",
    "\n",
    "def vee(X):\n",
    "    x = np.zeros((6, 1))\n",
    "    x[3:6] = unskew(X[:3, :3])\n",
    "    x[0:3] = LeftJacobianInv_SO3(x[3:6]).dot(X[:3, [3]])\n",
    "    return x\n",
    "\n",
    "def Exp_SE3(x):\n",
    "    return expm(wedge(x))\n",
    "\n",
    "def Log_SE3(X):\n",
    "    return vee(logm(X))\n",
    "\n",
    "def Adjoint_SE3(T):\n",
    "    ret = np.zeros((6, 6))\n",
    "    R = T[:3, :3]\n",
    "    t = T[:3, [3]]\n",
    "    ret[:3, :3] = R\n",
    "    ret[:3, 3:6] = skew(t).dot(R)\n",
    "    ret[3:6, 3:6] = R\n",
    "    return ret\n",
    "\n",
    "def LeftQ(xi):\n",
    "    w = xi[3:6]\n",
    "    r = xi[0:3]\n",
    "    t = np.linalg.norm(w)\n",
    "    if abs(t) < 1E-8:\n",
    "        return skew(r)\n",
    "    return 0.5*skew(r) + \\\n",
    "+ (t-sin(t))/(t**3) * (skew(w).dot(skew(r)) + skew(r).dot(skew(w)) + skew(w).dot(skew(r)).dot(skew(w))) \\\n",
    "+ (t**2+2*cos(t)-2) / (2*t**4) * (skew(w).dot(skew(w)).dot(skew(r)) + skew(r).dot(skew(r)).dot(skew(w)) - 3*skew(w).dot(skew(r)).dot(skew(w))) \\\n",
    "+ (2*t-3*sin(t)+t*cos(t)) / (2*t**5) * (skew(w).dot(skew(r)).dot(skew(w)).dot(w) + skew(w).dot(skew(w)).dot(skew(r)).dot(w))\n",
    "\n",
    "def RightQ(xi):\n",
    "    return LeftQ(-xi)\n",
    "\n",
    "def RightJacobian_SE3(xi):\n",
    "    w = xi[3:6]\n",
    "    ret = np.zeros((6,6))\n",
    "    ret[0:3, 0:3] = RightJacobian_SO3(w)\n",
    "    ret[0:3, 3:6] = RightQ(xi)\n",
    "    ret[3:6, 3:6] = ret[0:3, 0:3]\n",
    "    return ret\n",
    "\n",
    "def RightJacobianInv_SE3(xi):\n",
    "    w = xi[3:6]\n",
    "    ret = np.zeros((6,6))\n",
    "    ret[0:3, 0:3] = RightJacobianInv_SO3(w)\n",
    "    ret[0:3, 3:6] = -ret[0:3, 0:3].dot(RightQ(xi)).dot(ret[0:3, 0:3])\n",
    "    ret[3:6, 3:6] = ret[0:3, 0:3]\n",
    "    return ret\n",
    "                                                                 \n",
    "def LeftJacobian_SE3(xi):\n",
    "    return RightJacobian_SE3(x-i)\n",
    "        \n",
    "def LeftJacobianInv_SE3(xi):\n",
    "    return RightJacobianInv_SE3(-xi)\n",
    "#"
   ]
  },
  {
   "cell_type": "code",
   "execution_count": 25,
   "id": "obvious-auckland",
   "metadata": {
    "code_folding": [
     0
    ]
   },
   "outputs": [
    {
     "name": "stdout",
     "output_type": "stream",
     "text": [
      "Before optimization, check residuals.\n",
      "Pose i anchor observation error: \n",
      " 5.3971237378566785\n",
      "Transformation error: \n",
      " 5.3971237378566705\n",
      "\n",
      "After one step optimization, check residuals.\n",
      "Pose i anchor observation error: \n",
      " 3.7445745327566424e-16\n",
      "Transformation error: \n",
      " 2.1087465674330853e-15\n"
     ]
    }
   ],
   "source": [
    "# A simple pose graph\n",
    "\n",
    "np.random.seed(0)\n",
    "T_gi = from_rpy_xyz(0, 0, 0, 0, 0, 0)\n",
    "noise = np.random.normal([0, 0, 0, 0, 0, 0], \n",
    "                         [1, 0.1, 0.5, 1, 1, 1])\n",
    "# noise = np.zeros(6)\n",
    "\n",
    "T_gi_hat = T_gi.dot(Exp_SE3(noise))\n",
    "T_gi_gj_hat = from_rpy_xyz(0.1, 0.1, 0.1, 5, 5, 5)\n",
    "T_gj = T_gi.dot(T_gi_gj_hat.dot(Exp_SE3(noise)))\n",
    "\n",
    "print('Before optimization, check residuals.')\n",
    "pose_i_anchor_error = Log_SE3(np.linalg.inv(T_gi_hat).dot(T_gi))\n",
    "print(f'Pose i anchor observation error: \\n {np.linalg.norm(pose_i_anchor_error)}')\n",
    "\n",
    "transformation_ij_error = Log_SE3(np.linalg.inv(T_gi_gj_hat).dot(np.linalg.inv(T_gi).dot(T_gj)))\n",
    "print(f'Transformation error: \\n {np.linalg.norm(transformation_ij_error)}')\n",
    "\n",
    "def Optimize(T_gi, T_gj, T_gi_hat, T_gi_gj_hat):\n",
    "    J = np.zeros((3*4, 12)) # Jacobian\n",
    "    r = np.zeros((3*4, 1)) # Residual\n",
    "    ret = np.zeros((12, 1)) # State update\n",
    "\n",
    "    r1 = Log_SE3(np.linalg.inv(T_gi_hat).dot(T_gi))\n",
    "    r2 = Log_SE3(np.linalg.inv(T_gi_gj_hat).dot(np.linalg.inv(T_gi).dot(T_gj)))\n",
    "    r[0:6] = r1\n",
    "    r[6:12] = r2\n",
    "    # delta_i, delta_j\n",
    "    J[0:6, 0:6] = RightJacobianInv_SE3(r1)\n",
    "    J[6:12, 0:6] = -RightJacobianInv_SE3(r2).dot(Adjoint_SE3(np.linalg.inv(T_gj).dot(T_gi)))\n",
    "    J[6:12, 6:12] = RightJacobianInv_SE3(r2)\n",
    "    delta_x = -np.linalg.inv(J.T.dot(J)).dot(J.T.dot(r))\n",
    "    assert(delta_x.shape == ret.shape)\n",
    "    return delta_x\n",
    "\n",
    "STEPS = 5\n",
    "for i in range(STEPS):\n",
    "    delta = Optimize(T_gi, T_gj, T_gi_hat, T_gi_gj_hat)\n",
    "    T_gi = T_gi.dot(Exp_SE3(delta[0:6,:]))\n",
    "    T_gj = T_gj.dot(Exp_SE3(delta[6:12,:]))\n",
    "\n",
    "print('\\nAfter one step optimization, check residuals.')\n",
    "pose_i_anchor_error = Log_SE3(np.linalg.inv(T_gi_hat).dot(T_gi))\n",
    "print(f'Pose i anchor observation error: \\n {np.linalg.norm(pose_i_anchor_error)}')\n",
    "\n",
    "transformation_ij_error = Log_SE3(np.linalg.inv(T_gi_gj_hat).dot(np.linalg.inv(T_gi).dot(T_gj)))\n",
    "print(f'Transformation error: \\n {np.linalg.norm(transformation_ij_error)}')\n",
    "#"
   ]
  },
  {
   "cell_type": "markdown",
   "id": "cosmetic-anderson",
   "metadata": {},
   "source": [
    "## Summary"
   ]
  },
  {
   "cell_type": "markdown",
   "id": "narrative-cookbook",
   "metadata": {},
   "source": [
    "$$\n",
    "\\begin{align}\n",
    "Exp(\\phi) :=\\ & exp(\\phi^{\\wedge}) = R \\\\\n",
    "Log(R) :=\\ & log(R)^{\\vee} = \\phi \\\\\n",
    "% \\vee \\wedge\n",
    "\\end{align}\n",
    "$$"
   ]
  },
  {
   "cell_type": "markdown",
   "id": "collectible-bones",
   "metadata": {},
   "source": [
    "First-order approximation:\n",
    "$$\n",
    "\\begin{align}\n",
    "Exp(\\phi + \\delta\\phi) &\\approx Exp(\\phi)Exp(J_r(\\phi)\\delta\\phi) \\\\\n",
    "Exp(\\phi + J_r^{-1}(\\phi)\\delta\\phi) &\\approx Exp(\\phi)Exp(J_r(\\phi)J_r^{-1}(\\phi)\\delta\\phi) \\\\\n",
    "Log(Exp(\\phi)Exp(\\delta\\phi)) &\\approx \\phi + J_r^{-1}(\\phi)\\delta\\phi\n",
    "\\end{align}\n",
    "$$\n",
    "\n",
    "$$\n",
    "\\begin{align}\n",
    "Exp(Ad_{\\mathcal{X}} {}^{\\mathcal{X}}\\tau^{\\wedge}) \\circ  \\mathcal{X} &= \\mathcal{X} \\circ  Exp({}^{\\mathcal{X}}\\tau) \\\\\n",
    "Exp(R \\phi) R &= R Exp(\\phi) \\\\\n",
    "Exp(Ad_{\\mathcal{X}^{-1}} {}^{\\mathcal{X}}\\tau^{\\wedge})\\circ \\mathcal{X}^{-1}   &=  \\mathcal{X}^{-1} \\circ Exp({}^{\\mathcal{X}}\\tau)     \\\\\n",
    "Exp({}^{\\mathcal{X}}\\tau)\\circ \\mathcal{X}   &=  \\mathcal{X} \\circ Exp(Ad_{\\mathcal{X}^{-1}} {}^{\\mathcal{X}}\\tau^{\\wedge}) \\\\\n",
    "Exp(\\phi) R &= R Exp(R^T \\phi)\n",
    "\\end{align}\n",
    "$$"
   ]
  },
  {
   "cell_type": "markdown",
   "id": "statewide-sellers",
   "metadata": {},
   "source": [
    "Reference:\n",
    "- Sola et al. `A micro Lie theory for state estimation in robotics`\n",
    "- Barfoot `State Estimation for Robotics`\n",
    "- Mangelson et al. `Characterizing the Uncertainty of Jointly Distributed Poses in the Lie Algebra`\n",
    "- https://gtsam.org/2021/02/23/uncertainties-part3.html"
   ]
  }
 ],
 "metadata": {
  "kernelspec": {
   "display_name": "Python 3",
   "language": "python",
   "name": "python3"
  },
  "language_info": {
   "codemirror_mode": {
    "name": "ipython",
    "version": 3
   },
   "file_extension": ".py",
   "mimetype": "text/x-python",
   "name": "python",
   "nbconvert_exporter": "python",
   "pygments_lexer": "ipython3",
   "version": "3.9.1"
  },
  "toc": {
   "base_numbering": 1,
   "nav_menu": {},
   "number_sections": true,
   "sideBar": true,
   "skip_h1_title": false,
   "title_cell": "Table of Contents",
   "title_sidebar": "Contents",
   "toc_cell": false,
   "toc_position": {
    "height": "calc(100% - 180px)",
    "left": "10px",
    "top": "150px",
    "width": "512px"
   },
   "toc_section_display": true,
   "toc_window_display": true
  }
 },
 "nbformat": 4,
 "nbformat_minor": 5
}
