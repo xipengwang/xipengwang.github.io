{
 "cells": [
  {
   "cell_type": "markdown",
   "id": "empirical-bulletin",
   "metadata": {},
   "source": [
    "# Lie Theory for State Estimation in Robotics"
   ]
  },
  {
   "cell_type": "markdown",
   "id": "alive-consciousness",
   "metadata": {},
   "source": [
    "## Introduction to an Optimization Problem on SO(3)"
   ]
  },
  {
   "cell_type": "markdown",
   "id": "found-quebec",
   "metadata": {},
   "source": [
    "We have robot orientation at time $t$ as $R^{nb}_t$, and given $R^T R = \\mathcal{I}$:\n",
    "$$\n",
    "\\begin{align}\n",
    "d\\frac{R_t}{dt}R_t^T + R_td\\frac{R_t^T}{dt} &= 0 \\\\\n",
    "d\\frac{R_t}{dt}R_t^T + (d\\frac{R_t}{dt}R_t^T)^T &= 0 \\\\\n",
    "\\end{align}\n",
    "$$\n",
    "Define $S_t = d\\frac{R_t}{dt}R_t^T$, then we have $S_t+ S_t^T = 0$. So $S_t$ is a skew matrix as:\n",
    "$$\n",
    "S_t= \\begin{bmatrix}\n",
    "0,& -\\omega_{t,3},& \\omega_{t,2} \\\\\n",
    "\\omega_{t,3},& 0,& -\\omega_{t,1}  \\\\\n",
    "-\\omega_{t,2},& \\omega_{t,1},& 0\\\\\n",
    "\\end{bmatrix}\n",
    "$$. \n"
   ]
  },
  {
   "cell_type": "markdown",
   "id": "social-aurora",
   "metadata": {},
   "source": [
    "If $S_t$ is a constant, we can solve this differentiation equation. **But when can $S_t$ be a constant?** Suppose a rigid body rotate around a normalized $\\phi$ constantly with rotation speed as $\\|\\phi\\|$, then we can have:\n",
    "$$\n",
    "\\begin{align}\n",
    "R_t \\omega &=  \\phi \\\\\n",
    "d\\frac{R_t}{dt}\\phi + R_t d\\frac{\\phi}{dt} &= 0 \\\\\n",
    "d\\frac{R_t}{dt}\\phi &= 0 \\\\\n",
    "S_tR_t\\phi &= 0 \\\\\n",
    "S_t \\phi &= 0 \\\\\n",
    "\\begin{bmatrix}\n",
    "0,& -\\omega_{t,3},& \\omega_{t,2} \\\\\n",
    "\\omega_{t,3},& 0,& -\\omega_{t,1}  \\\\\n",
    "-\\omega_{t,2},& \\omega_{t,1},& 0\\\\\n",
    "\\end{bmatrix} \\begin{bmatrix}\n",
    "\\phi_0 \\\\\n",
    "\\phi_1 \\\\\n",
    "\\phi_2\\\\\n",
    "\\end{bmatrix} &= 0\n",
    "\\end{align}\n",
    "$$\n",
    "In order to make the $S_t \\phi = 0$ always true, $\\omega$ should be the same as $\\phi$ so $[\\omega]_\\times \\phi = 0$."
   ]
  },
  {
   "cell_type": "markdown",
   "id": "universal-catering",
   "metadata": {},
   "source": [
    "Now we can assume we have a constant $S_t$ as $S$ when a rigid body rotate constantly around a vector $\\omega$, we can get\n",
    "$$\n",
    "\\begin{align}\n",
    "S_t &= [\\omega]_\\times \\\\\n",
    "&=\\begin{bmatrix}\n",
    "0,& -\\omega_3,& \\omega_2 \\\\\n",
    "\\omega_3,& 0,& -\\omega_1  \\\\\n",
    "-\\omega_2,& \\omega_1,& 0\\\\\n",
    "\\end{bmatrix}\n",
    "\\end{align}\n",
    "$$"
   ]
  },
  {
   "cell_type": "markdown",
   "id": "public-receiver",
   "metadata": {},
   "source": [
    "By solving $d\\frac{R_t}{dt} = SR_t$, we get\n",
    "$$\n",
    "\\begin{align}\n",
    "R_t &= R_0exp([\\omega]_\\times t) \\\\\n",
    "\\end{align}\n",
    "$$"
   ]
  },
  {
   "cell_type": "markdown",
   "id": "bigger-bacon",
   "metadata": {},
   "source": [
    "**Now we can have two very interesting conclusions:**\n",
    "- If $R_0 = \\mathcal{I}$, then $R_t = exp([\\omega]_\\times t)$. This means we can map a rotation axis $\\omega$ to a rotation matrix with the exponential operation. This is actually exactly same as Rodrigues' rotation formula $exp([\\omega]_\\times) = R = \\mathcal{I} + sin(\\|\\omega\\|)[\\omega]_\\times + (1-cos(\\|\\omega\\|))[\\omega]_\\times^2$. When $\\omega$ is small, we should use Taylor expansion to get R or use an approximation $R \\approx \\mathcal{I} + [\\omega]_\\times$\n",
    "- If $\\omega$ is very small, then we can think $exp([\\omega]_\\times)$ is a small perturbation on the current state $R_0$. This is extremely useful for solving an optimization problem on SO(3) using iterative methods. "
   ]
  },
  {
   "cell_type": "markdown",
   "id": "lightweight-vehicle",
   "metadata": {},
   "source": [
    "### Introduction to $\\boxplus$\n",
    "Suppose the current state is $\\bar{x}$, for approaches like Gauss-Newton, we normally would minimize the cost function $f$ as below. We assume that $\\bar{x}$ and its perturbation $\\Delta x$ in the same Euclidean space so that they be summed together use $+$.\n",
    "\n",
    "$$\n",
    "\\begin{align}\n",
    "\\Delta  \\hat{x} &= \\underset{\\Delta x}{\\operatorname{argmin}}{f(\\bar{x}+\\Delta x)} \n",
    "\\end{align}\n",
    "$$\n",
    "\n",
    "But what is a more general expression for this problem? For example, we have rotation matrix $R \\in \\mathbb{R^9}$ and its perturbation $\\omega \\in \\mathbb{R^3}$. Clearly $+$ wouldn't work in this case. Thus we introduce a new plus here as $\\boxplus$:\n",
    "$$\n",
    "\\begin{align}\n",
    "\\Delta  \\hat{x} &= \\underset{\\Delta x}{\\operatorname{argmin}}{f(\\bar{x} \\boxplus \\Delta x)} \n",
    "\\end{align}\n",
    "$$\n",
    "\n",
    "For rotation:\n",
    "$$\n",
    "\\begin{align}\n",
    "\\bar{R} \\boxplus \\Delta \\omega =  \\bar{R}exp([\\omega]_\\times)\n",
    "\\end{align}\n",
    "$$\n",
    "For translation:\n",
    "$$\n",
    "\\begin{align}\n",
    "\\bar{t} \\boxplus \\Delta t =  \\bar{t} + \\Delta t\n",
    "\\end{align}\n",
    "$$"
   ]
  },
  {
   "cell_type": "markdown",
   "id": "explicit-turkey",
   "metadata": {},
   "source": [
    "### Jacobians"
   ]
  },
  {
   "cell_type": "markdown",
   "id": "pointed-kuwait",
   "metadata": {},
   "source": [
    "For the special case, we can find Jacobian matrix $J^{f(x)}_{x}|_{x = 0}$ to approximate $f$ to be a linear function, then solve the minimization problem. \n",
    "$$\n",
    "\\begin{align}\n",
    "\\Delta  \\hat{x} &= \\underset{\\Delta x}{\\operatorname{argmin}}{f(\\bar{x}+\\Delta x)}  \\\\\n",
    "&\\approx \\underset{\\Delta x}{\\operatorname{argmin}}[f(\\bar{x})+ J^{f(x)}_{x}|_{x = 0}\\Delta x]\n",
    "\\end{align}\n",
    "$$\n",
    "\n",
    "For the general case, it becomes:\n",
    "$$\n",
    "\\begin{align}\n",
    "\\Delta  \\hat{x} &= \\underset{\\Delta x}{\\operatorname{argmin}}{f(\\bar{x} \\boxplus \\Delta x)}  \\\\\n",
    "&\\approx \\underset{\\Delta x}{\\operatorname{argmin}}[f(\\bar{x})+ J^{f(x\\boxplus \\Delta x)}_{x}|_{x = \\bar{x}, \\Delta x = 0}J^{\\bar{x}\\boxplus  x}_{x}|_{x = 0}\\Delta x]\n",
    "\\end{align}\n",
    "$$\n",
    "\n",
    "We actually leverage chain rule to find proper Jacobian matrix as $J^{f(x\\boxplus \\Delta x)}_{x}|_{x = \\bar{x}, \\Delta x = 0}J^{\\bar{x}\\boxplus  x}_{x}|_{x = 0}$. \n",
    "- Though the first part seems complicated, $J^{f(x\\boxplus \\Delta x)}_{x}|_{x = \\bar{x}, \\Delta x = 0}$ is actually just $J^{f(x)}_{x}|_{x = 0}$/\n",
    "- For the second part, if $\\bar{x}$ and perturbation state $x$ in the same Euclidean space, then $J^{\\bar{x}\\boxplus  x}_{x}|_{x = 0} = \\mathcal{I}$. Otherwise we have to calculate it, e.g. $J^{\\bar{R}\\boxplus  \\omega}_{\\omega}|_{\\omega = 0} = J^{\\bar{R}exp([\\omega]_\\times)}_{\\omega}|_{\\omega = 0} = []_{3 \\times 1}$\n",
    "\n",
    "Calculating Jacobian is not hard based on chain rules but is very tedious and error-prone. So using auto-differentiation would be a good idea. However, in order to get them analytically, we need know more about Lie theory which will be introduced throughly in the next section."
   ]
  },
  {
   "cell_type": "markdown",
   "id": "genuine-biography",
   "metadata": {},
   "source": [
    "### State Correction"
   ]
  },
  {
   "cell_type": "markdown",
   "id": "existing-screen",
   "metadata": {},
   "source": [
    "The state correction would be as simple as below:\n",
    "$$\n",
    "\\begin{align}\n",
    "x = \\bar{x} \\boxplus \\Delta  \\hat{x} \n",
    "\\end{align}\n",
    "$$"
   ]
  },
  {
   "cell_type": "markdown",
   "id": "reliable-shield",
   "metadata": {},
   "source": [
    "## More about Lie Theory for State Estimation in Robotics"
   ]
  },
  {
   "cell_type": "markdown",
   "id": "removable-universal",
   "metadata": {},
   "source": [
    "$$\n",
    "\\begin{align}\n",
    "Exp(\\phi) :=\\ & exp(\\phi^{\\wedge}) = R \\\\\n",
    "Log(R) :=\\ & log(R)^{\\vee} = \\phi \\\\\n",
    "% \\vee \\wedge\n",
    "\\end{align}\n",
    "$$"
   ]
  },
  {
   "cell_type": "markdown",
   "id": "senior-heather",
   "metadata": {},
   "source": [
    "First-order approximation:\n",
    "$$\n",
    "\\begin{align}\n",
    "Exp(\\phi + \\delta\\phi) &\\approx Exp(\\phi)Exp(J_r(\\phi)\\delta\\phi) \\\\\n",
    "Exp(\\phi + J_r^{-1}(\\phi)\\delta\\phi) &\\approx Exp(\\phi)Exp(J_r(\\phi)J_r^{-1}(\\phi)\\delta\\phi) \\\\\n",
    "Log(Exp(\\phi)Exp(\\delta\\phi)) &\\approx \\phi + J_r^{-1}(\\phi)\\delta\\phi\n",
    "\\end{align}\n",
    "$$\n",
    "\n",
    "$$\n",
    "\\begin{align}\n",
    "Exp(\\phi) R = R Exp(R^T \\phi) \n",
    "\\end{align}\n",
    "$$"
   ]
  },
  {
   "cell_type": "markdown",
   "id": "initial-robertson",
   "metadata": {},
   "source": [
    "Reference:\n",
    "- Sola et al. `A micro Lie theory for state estimation in robotics`"
   ]
  }
 ],
 "metadata": {
  "kernelspec": {
   "display_name": "Python 3",
   "language": "python",
   "name": "python3"
  },
  "language_info": {
   "codemirror_mode": {
    "name": "ipython",
    "version": 3
   },
   "file_extension": ".py",
   "mimetype": "text/x-python",
   "name": "python",
   "nbconvert_exporter": "python",
   "pygments_lexer": "ipython3",
   "version": "3.9.1"
  },
  "toc": {
   "base_numbering": 1,
   "nav_menu": {},
   "number_sections": true,
   "sideBar": true,
   "skip_h1_title": false,
   "title_cell": "Table of Contents",
   "title_sidebar": "Contents",
   "toc_cell": false,
   "toc_position": {},
   "toc_section_display": true,
   "toc_window_display": true
  }
 },
 "nbformat": 4,
 "nbformat_minor": 5
}
