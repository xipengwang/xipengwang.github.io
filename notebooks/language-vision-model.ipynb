{
 "cells": [
  {
   "cell_type": "markdown",
   "id": "b596eda8",
   "metadata": {},
   "source": [
    "# Language Vision Model (LVM)"
   ]
  },
  {
   "cell_type": "markdown",
   "id": "1d69e113",
   "metadata": {},
   "source": [
    "## Classic Paper List"
   ]
  },
  {
   "cell_type": "markdown",
   "id": "9c0fb7fe",
   "metadata": {},
   "source": [
    "- [AlexNet](https://dl.acm.org/doi/pdf/10.1145/3065386)\n",
    "\n",
    "- ResNet\n",
    "\n",
    "- Transformer\n",
    "\n",
    "- [BERT](https://arxiv.org/abs/1810.04805)\n",
    "    - It is used as a pre-trained model on large language dataset\n",
    "    - It uses WordPiece for tokens\n",
    "    - Unlike for machine translation (using single direction information), pre-trained model could use Bidirectional information. \n",
    "\n",
    "- ViT\n",
    "\n",
    "- MAE\n",
    "\n",
    "- Swin Transformer\n",
    "\n",
    "- CLIP\n",
    "\n",
    "- GPT\n",
    "\n",
    "- DALL-E\n",
    "\n",
    "- [ViLT](https://arxiv.org/abs/2102.03334)\n",
    "    - It combines ideas from BERT(language features) and ViT(visual features)"
   ]
  },
  {
   "cell_type": "markdown",
   "id": "9de52e70",
   "metadata": {},
   "source": [
    "## [BERT](https://arxiv.org/abs/1810.04805)"
   ]
  },
  {
   "cell_type": "markdown",
   "id": "9dc118ae",
   "metadata": {},
   "source": [
    " ##  [ViLT](https://arxiv.org/abs/2102.03334)"
   ]
  }
 ],
 "metadata": {
  "kernelspec": {
   "display_name": "Python 3 (ipykernel)",
   "language": "python",
   "name": "python3"
  },
  "language_info": {
   "codemirror_mode": {
    "name": "ipython",
    "version": 3
   },
   "file_extension": ".py",
   "mimetype": "text/x-python",
   "name": "python",
   "nbconvert_exporter": "python",
   "pygments_lexer": "ipython3",
   "version": "3.10.6"
  },
  "toc": {
   "base_numbering": 1,
   "nav_menu": {},
   "number_sections": true,
   "sideBar": true,
   "skip_h1_title": false,
   "title_cell": "Table of Contents",
   "title_sidebar": "Contents",
   "toc_cell": false,
   "toc_position": {},
   "toc_section_display": true,
   "toc_window_display": true
  }
 },
 "nbformat": 4,
 "nbformat_minor": 5
}
