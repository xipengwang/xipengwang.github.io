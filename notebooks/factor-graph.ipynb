{
 "cells": [
  {
   "cell_type": "markdown",
   "id": "negative-penetration",
   "metadata": {},
   "source": [
    "# Factor Graph"
   ]
  },
  {
   "cell_type": "markdown",
   "id": "latest-liberia",
   "metadata": {},
   "source": [
    "## Formulate SLAM as a Factor Graph\n",
    "Factor graph is a nice representation for optimization problems:\n",
    "\n",
    "$$\n",
    "\\begin{align}\n",
    "\\hat{X} =& \\underset{X}{\\operatorname{argmax}}\\prod_i \\Phi_i\\\\\n",
    "=& \\underset{X}{\\operatorname{argmax}}\\prod_i \\phi_i(X, Z)\n",
    "\\end{align}\n",
    "$$\n",
    "\n",
    "A simple factor graph is shown below. Circles represent state variables, e.g robot poses, and squares represent constraints among variables, e.g. relative transformation. The corresponding optimization problem is:\n",
    "$$\n",
    "\\begin{align}\n",
    "\\hat{X} =& \\underset{X}{\\operatorname{argmax}}\\prod_{i=0}^3 \\Phi_i\\\\\n",
    "=& \\underset{X}{\\operatorname{argmax}}\\phi_0(z_0; x_0, x_1)\\phi_1(z_1; x_0, x_2)\\phi_2(z_2; x_1, x_2)\\phi_3(z_3; x_2)\n",
    "\\end{align}\n",
    "$$\n",
    "where $x$ are state variables to be optimized, and $z$ are observations related to states though a factor potential. "
   ]
  },
  {
   "cell_type": "code",
   "execution_count": 1,
   "id": "handled-product",
   "metadata": {
    "code_folding": []
   },
   "outputs": [
    {
     "data": {
      "image/jpeg": "[encoded data removed]",
      "text/plain": [
       "<IPython.core.display.Image object>"
      ]
     },
     "execution_count": 1,
     "metadata": {
      "image/jpeg": {
       "width": 480
      }
     },
     "output_type": "execute_result"
    }
   ],
   "source": [
    "# A factor graph (e.g. a pose graph)\n",
    "from IPython.display import Image\n",
    "Image('img/simple-factor-graph.jpg', width=480)\n",
    "#"
   ]
  },
  {
   "cell_type": "markdown",
   "id": "elder-commission",
   "metadata": {},
   "source": [
    "Most of SLAM algorithms use probability distributions, e.g. Gaussian distribution, as factor potentials $\\Phi$. For example, \n",
    "$$\n",
    "\\begin{align}\n",
    "\\hat{X} =& \\underset{X}{\\operatorname{argmax}}\\prod_{i=0}^3 \\Phi_i\\\\\n",
    "=& \\underset{X}{\\operatorname{argmax}}\\phi_0(z_0; x_0, x_1)\\phi_1(z_1; x_0, x_2)\\phi_2(z_2; x_1, x_2)\\phi_3(z_3; x_2) \\\\\n",
    "=& \\underset{X}{\\operatorname{argmax}} p_0(z_0; x_0, x_1)p_1(z_1; x_0, x_2)p_2(z_2; x_1, x_2)p_3(z_3; x_2) \\\\\n",
    "\\end{align}\n",
    "$$"
   ]
  },
  {
   "cell_type": "markdown",
   "id": "collected-dynamics",
   "metadata": {},
   "source": [
    "The formulation above can also be viewed as a MLE.\n",
    "$$\n",
    "\\begin{align}\n",
    "p(x_0,x_1,x_2,z_0,z_1,z_2,z_3) =& p(x_1,x_2,z_0,z_1,z_2,z_3|x_0) p(x_0) \\\\\n",
    "=& p(x_2,z_0,z_1,z_2,z_3|x_1,x_0)p(x_1|x_0)p(x_0)\\\\\n",
    "=& p(z_0,z_1,z_2,z_3|x_2, x_1,x_0)p(x_2|x_1, x_0)p(x_1)p(x_0)\\\\\n",
    "=& p(z_1,z_2,z_3|z_0, x_2, x_1, x_0) p(z_0 | x_2, x_1, x_0)p(x_2)p(x_1)p(x_0)\\\\\n",
    "=& p(z_1,z_2,z_3|z_0, x_2, x_1, x_0) p(z_0 |x_1, x_0)p(x_2)p(x_1)p(x_0) \\\\\n",
    "=& p_0(z_0| x_0, x_1)p_1(z_1| x_0, x_2)p_2(z_2| x_1, x_2)p_3(z_3| x_2)p(x_2)p(x_1)p(x_0)\\\\\n",
    "p(x_0,x_1,x_2,z_0,z_1,z_2,z_3) \\propto& p_0(z_0| x_0, x_1)p_1(z_1| x_0, x_2)p_2(z_2| x_1, x_2)p_3(z_3| x_2)\n",
    "\\end{align}\n",
    "$$\n",
    "\n",
    "Then \n",
    "$$\n",
    "\\begin{align}\n",
    "\\hat{X} =& \\underset{X}{\\operatorname{argmax}}p(x_0,x_1,x_2,z_0,z_1,z_2,z_3)\\\\\n",
    "=& \\underset{X}{\\operatorname{argmax}}p_0(z_0| x_0, x_1)p_1(z_1| x_0, x_2)p_2(z_2| x_1, x_2)p_3(z_3| x_2) \\\\\n",
    "\\end{align}\n",
    "$$"
   ]
  },
  {
   "cell_type": "markdown",
   "id": "satellite-court",
   "metadata": {},
   "source": [
    "If we assume the factor potentials are Gaussian distribution whose mean is the residual between observation and prediction based on potential function, then the factor graph can be converted to be a least square problem. For converting non-Gaussian distribution into least square problems, see [Mixture models for least square optimization]({% post_url 2021-05-11-paper-reading-mixture-models-for-least-square-optimization %}).\n",
    "\n",
    "$$\n",
    "\\begin{align}\n",
    "\\hat{X} =& \\underset{X}{\\operatorname{argmax}}\\prod_{i=0}^3 \\Phi_i\\\\\n",
    "=& \\underset{X}{\\operatorname{argmax}}\\phi_0(z_0; x_0, x_1)\\phi_1(z_1; x_0, x_2)\\phi_2(z_2; x_1, x_2)\\phi_3(z_3; x_2) \\\\\n",
    "=& \\underset{X}{\\operatorname{argmax}} p_0(z_0; x_0, x_1)p_1(z_1; x_0, x_2)p_2(z_2; x_1, x_2)p_3(z_3; x_2) \\\\\n",
    "=& \\underset{X}{\\operatorname{argmax}} \\mathcal{N}(z_0-f_0(x_0, x_1), \\Sigma_0)\n",
    "\\mathcal{N}(z_1-f_1(x_0, x_2), \\Sigma_1) \\mathcal{N}(z_2-f_2(x_1, x_2), \\Sigma_2)\\mathcal{N}(z_3-f_3(x_2), \\Sigma_3)\\\\\n",
    "\\propto& \\underset{X}{\\operatorname{argmax}} log(\\mathcal{N}(z_0-f_0(x_0, x_1), \\Sigma_0)\n",
    "\\mathcal{N}(z_1-f_1(x_0, x_2), \\Sigma_1) \\mathcal{N}(z_2-f_2(x_1, x_2), \\Sigma_2)\\mathcal{N}(z_3-f_3(x_2), \\Sigma_3)\\\\\n",
    "=& \\underset{X}{\\operatorname{argmax}} \\|z_0-f_0(x_0, x_1)\\|^2_{\\Sigma_0} + \\|z_1-f_1(x_0, x_2)\\|^2_{\\Sigma_1} + \\|z_2-f_2(x_1, x_2)\\|^2_{\\Sigma_2} + \\|z_3-f_3(x_2)\\|^2_{\\Sigma_3}\n",
    "\\end{align}\n",
    "$$"
   ]
  },
  {
   "cell_type": "markdown",
   "id": "boxed-melissa",
   "metadata": {},
   "source": [
    "## Gauss-Newton Optimization"
   ]
  },
  {
   "cell_type": "markdown",
   "id": "conditional-hotel",
   "metadata": {},
   "source": [
    "Gauss-Newton is an iterative optimization method which tries approaching the minima (maybe a local minima) step by step. It linearize the non-linear functions $f$ based on first-order Taylor expansion.\n",
    "\n",
    "$$\n",
    "\\begin{align}\n",
    "\\hat{X} =& \\underset{X}{\\operatorname{argmax}} \\|z_0-f_0(x_0, x_1)\\|^2_{\\Sigma_0} + \\|z_1-f_1(x_0, x_2)\\|^2_{\\Sigma_1} + \\|z_2-f_2(x_0, x_1)\\|^2_{\\Sigma_2} + \\|z_3-f_3(x_2)\\|^2_{\\Sigma_3}\\\\\n",
    "=& \\|z_0-f_0(\\mu_0, \\mu_1) - J_0 \\Delta_{x_0, x_1}\\|^2_{\\Sigma_0} + \n",
    "\\|z_1-f_0(\\mu_0, \\mu_2) - J_1 \\Delta_{x_0, x_1}\\|^2_{\\Sigma_1} + \n",
    "\\|z_2-f_0(\\mu_0, \\mu_1) - J_2 \\Delta_{x_1, x_2}\\|^2_{\\Sigma_2} + \n",
    "\\|z_3-f_0(\\mu_0, \\mu_1) - J_3 \\Delta_{x_3}\\|^2_{\\Sigma_3}\n",
    "\\end{align}\n",
    "$$\n",
    "\n",
    "Where $J$ is a jacobian matrix."
   ]
  },
  {
   "cell_type": "markdown",
   "id": "infectious-expression",
   "metadata": {},
   "source": [
    "The above equation can be written into a more compact matrix form:\n",
    "$$\n",
    "\\begin{align}\n",
    "\\hat{X} =& \\underset{X}{\\operatorname{argmax}} \\|J\\Delta_X - r\\|_{\\Sigma}\n",
    "\\end{align}\n",
    "$$\n",
    "\n",
    "J is normally a tall rectangular matrix. And the number of rows of J is equal to the number of measurements."
   ]
  },
  {
   "cell_type": "markdown",
   "id": "banner-winter",
   "metadata": {},
   "source": [
    "Without considering the numeric stability, the above linear optimization problem is usually solved using Cholesky decomposition on $J^T \\Sigma J$.  \n",
    "\n",
    "$$\n",
    "\\begin{align}\n",
    "J^T \\Sigma^{-1} J \\hat{X} = J^T\\Sigma^{-1} r\n",
    "\\end{align}\n",
    "$$"
   ]
  },
  {
   "cell_type": "markdown",
   "id": "substantial-medicaid",
   "metadata": {},
   "source": [
    "In practice, $A = J^T \\Sigma J$ and $b = J^T\\Sigma r$ are generated based on local blocks. And $J^T \\Sigma J$ is usually a sparse matrix in SLAM problems. \n",
    "\n",
    "$A$ is a square matrix which has the same number of rows as the number of node states. So in the toy example above, if $x \\in \\mathbb{R}^k$, then $A$ has $3 \\times k$ rows. "
   ]
  },
  {
   "cell_type": "markdown",
   "id": "south-restaurant",
   "metadata": {},
   "source": [
    "The block $\\|z_0-f_0(\\mu_0, \\mu_1) - J_0 \\Delta_{x_0, x_1}\\|^2_{\\Sigma_0}$ will give non-zeros fillings for rows and columns corresponding to state $x_0$ and $x_1$. if $z_0 \\in \\mathbb{R}^l $, then $J_0$ is a $l \\times 2k$ matrix. $J_0^T \\Sigma_0 J_0$ will be $2k \\times 2k$ which will be filled into rows and columns corresponding to state $x_0$ and $x_1$. If you would want to break it down further:\n",
    "\n",
    "$$\n",
    "\\begin{align}\n",
    "\\begin{bmatrix} J_{x_0}^T \\\\ J_{x_1}^T \\end{bmatrix} \\Sigma^{-1} \\begin{bmatrix} J_{x_0}, J_{x_1} \\end{bmatrix} \\hat{X} = \\begin{bmatrix} J_{x_0}^T \\\\ J_{x_1}^T \\end{bmatrix} \\Sigma^{-1} r\n",
    "\\end{align}\n",
    "$$"
   ]
  },
  {
   "cell_type": "markdown",
   "id": "color-lewis",
   "metadata": {},
   "source": [
    "## Cholesky Factorization\n",
    "\n",
    "$$\n",
    "\\begin{align}\n",
    "Ax = b \\\\\n",
    "R^T Rx = b\n",
    "\\end{align}\n",
    "$$\n",
    "$R$ is a upper triangular matrix. Then $R^{T}Rx = b$ will be solved in two steps: 1)\n",
    "solve the lower triangular system $R^{T}y = b$; 2) solve the upper triangular\n",
    "system $Rx = y$."
   ]
  },
  {
   "cell_type": "markdown",
   "id": "round-deployment",
   "metadata": {},
   "source": [
    "Given a $3 \\times 3$ matrix $A$ factorized to be $R^{T}R$:\n",
    "$$\n",
    "\\begin{align}\n",
    "A = R^{T}R & =\n",
    "\\left[\\begin{matrix}   R_{11} & 0 & 0 \\\\\n",
    "   R_{12} & R_{22} & 0 \\\\\n",
    "   R_{13} & R_{23} & R_{33}\\\\\n",
    "\\end{matrix}\\right]\n",
    "\\left[\\begin{matrix}   R_{11} & R_{12} & R_{13} \\\\\n",
    "   0 & R_{22} & R_{23} \\\\\n",
    "   0 & 0 & R_{33}\n",
    "\\end{matrix} \\right]\\\\\n",
    "& =\n",
    "\\left[\\begin{matrix}   R_{11}^2 &  R_{11}R_{12} & R_{11}R_{13}  \\\\\n",
    "   R_{12}R_{11} & R_{12}^2 + R_{22}^2&  R_{12}R_{13}+R_{22}R_{23} \\\\\n",
    "   R_{13}R_{11} & R_{13}R_{12}+R_{23}R_{22} & R_{13}^2 + R_{23}^2+R_{33}^2\n",
    "\\end{matrix}\\right]\n",
    "\\end{align}\n",
    "$$"
   ]
  },
  {
   "cell_type": "markdown",
   "id": "following-auditor",
   "metadata": {},
   "source": [
    "We obtain the following:\n",
    "\n",
    "\\begin{align}\n",
    "R =\n",
    "\\left[\\begin{matrix} \\sqrt{A_{11}} &  \\frac{A_{12}}{R_{11}} & \\frac{A_{13}}{R_{11}}  \\\\\n",
    "0 & \\sqrt{A_{22} - R_{12}^2} & \\frac{ A_{23} - R_{12}R_{13}}{R_{22}} \\\\\n",
    "0 & 0   & \\sqrt{A_{33}- R_{13}^2 - R_{23}^2}\n",
    "\\end{matrix}\\right]\n",
    "\\end{align}"
   ]
  },
  {
   "cell_type": "markdown",
   "id": "curious-spring",
   "metadata": {},
   "source": [
    "Therefore we can get following formulae for the entries of $R$ ($i$ is row index\n",
    "and $j$ is the column index). The whole Cholesky decomposition process is done row by row.\n",
    "$$\n",
    "\\begin{align}\n",
    "\\begin{split}\n",
    "R_{i,i} &= \\sqrt{ A_{i,i} - \\sum_{k=1}^{i-1} R_{k,i}^2 } \\\\\n",
    "R_{i,j} &= \\frac{1}{R_{i,i}} \\left( A_{i,j} - \\sum_{k=1}^{i-1} R_{k,i} R_{k,j} \\right) \\quad j > i.\n",
    "\\end{split}\n",
    "\\end{align}\n",
    "$$\n",
    "\n",
    "Another way to think about Cholesky decomposition is that a non-zero element at row $i$ column $j$ ($j > i$) will contribute a non-zeros fillings to row $j$ later.\n",
    "$$\n",
    "\\begin{align}\n",
    "\\begin{split}\n",
    "R_{i,i} &= \\sqrt{ A_{i,i} - \\sum_{k=1}^{i-1} R_{k,i}^2 } \\\\\n",
    "R_{i,j:} &= \\frac{1}{R_{i,j:}} \\left( A_{i,j} - \\sum_{k=1}^{i-1} R_{k,i} R_{k,j:} \\right) \\quad j > i.\n",
    "\\end{split}\n",
    "\\end{align}\n",
    "$$"
   ]
  },
  {
   "cell_type": "code",
   "execution_count": 2,
   "id": "beautiful-metro",
   "metadata": {},
   "outputs": [
    {
     "name": "stdout",
     "output_type": "stream",
     "text": [
      "Solve linear equation using numpy linear solver: \n",
      " [-0.13043478  2.          0.32608696]\n",
      "Cholesky Decomposition: \n",
      " [[1.        0.5       0.4      ]\n",
      " [0.        0.8660254 0.       ]\n",
      " [0.        0.        1.356466 ]]\n",
      " \n",
      " \n",
      "Solution x impl: \n",
      " [-0.13043478  2.          0.32608696]\n",
      "Cholesky Decomposition impl: \n",
      " [[1.        0.5       0.4      ]\n",
      " [0.        0.8660254 0.       ]\n",
      " [0.        0.        1.356466 ]]\n"
     ]
    }
   ],
   "source": [
    "# Cholesky decomposition\n",
    "\n",
    "import numpy as np\n",
    "A = np.array([[1, 0.5, 0.4],\n",
    "              [0.5, 1, 0.2],\n",
    "              [0.4, 0.2, 2]])\n",
    "b = np.array([1,2,1])\n",
    "x = np.linalg.solve(A, b)\n",
    "L = np.linalg.cholesky(A)\n",
    "print(f'Solve linear equation using numpy linear solver: \\n {x}')\n",
    "print(f'Cholesky Decomposition: \\n {L.T}')\n",
    "\n",
    "def Cholesky(A):\n",
    "    nrows, ncols = A.shape\n",
    "    assert(nrows == ncols)\n",
    "    R = np.zeros(A.shape)\n",
    "    for i in range(nrows):\n",
    "        R[i, i:] = A[i, i:]\n",
    "        \n",
    "    for i in range(nrows):\n",
    "        row_i = R[i, :]\n",
    "        d = row_i[i]\n",
    "        d = np.sqrt(d)\n",
    "        row_i /= d\n",
    "        for j in range(i+1, ncols):\n",
    "            s = row_i[j]\n",
    "            if s == 0:\n",
    "                continue\n",
    "            row_j = R[j, :]\n",
    "            row_j[j:] -= s*row_i[j:]\n",
    "    return R\n",
    "\n",
    "\n",
    "def SolveUpperTriangular(R, y):\n",
    "    nrows, ncols = R.shape\n",
    "    x = np.zeros(y.shape).reshape(nrows)\n",
    "    for inv_i in range(0, nrows):\n",
    "        i = nrows - inv_i - 1\n",
    "        row_i = R[i, :]\n",
    "        y_i = y[i]\n",
    "        for j in range(i+1, nrows):\n",
    "            y_i -= x[j]*row_i[j]\n",
    "        x[i] = y_i / row_i[i]\n",
    "    return x\n",
    "        \n",
    "    \n",
    "def SolveLowerTriangular(R, b):\n",
    "    nrows, ncols = R.shape\n",
    "    y = np.zeros(nrows)\n",
    "    y[:] = b[:]\n",
    "    for i in range(0, nrows):\n",
    "        row_i = R[i, :]\n",
    "        y[i] /= row_i[i]\n",
    "        for j in range(i+1, ncols):\n",
    "            s = row_i[j]\n",
    "            if s == 0:\n",
    "                continue\n",
    "            y[j] -= y[i]*s\n",
    "    return y\n",
    "\n",
    "\n",
    "\n",
    "R = Cholesky(A)\n",
    "y = SolveLowerTriangular(R, b)\n",
    "\n",
    "x = SolveUpperTriangular(R, y)\n",
    "print(f' \\n \\nSolution x impl: \\n {x}')\n",
    "print(f'Cholesky Decomposition impl: \\n {R}')\n",
    "\n",
    "#"
   ]
  },
  {
   "cell_type": "markdown",
   "id": "0f8edf23-be72-4a53-a607-a6e1c5441d48",
   "metadata": {},
   "source": [
    "## Covariance and Factor Contribution"
   ]
  },
  {
   "cell_type": "markdown",
   "id": "98d344d3-1ca7-44c5-a2ac-94666a1b39f3",
   "metadata": {},
   "source": [
    "We have \n",
    "$$\n",
    "\\begin{align}\n",
    "A \\Delta x = b \\\\\n",
    "\\end{align}\n",
    "$$\n",
    "Where $A = J^T \\Sigma^{-1} J$ and $b = J^T \\Sigma^{-1} r$. So the uncertianty of the solution $\\Delta x$ is $A^{-1}$.\n",
    "\n",
    "Among many measurements, how do we know which one affect a particular state most? \n",
    "\n",
    "From above, we have:\n",
    "$$\n",
    "\\begin{align}\n",
    "\\Delta x = A^{-1} * J^T * \\Sigma^{-1} * r \n",
    "\\end{align}\n",
    "$$\n",
    "\n",
    "then assume we have $n$ states and $m$ measurements:\n",
    "\n",
    "$$\n",
    "\\begin{align}\n",
    "\\begin{bmatrix}\n",
    "\\Delta X_0 \\\\\n",
    "\\vdots \\\\\n",
    "\\Delta X_n\n",
    "\\end{bmatrix} = \n",
    "\\begin{bmatrix}\n",
    "\\Sigma_{X_0,X_0} & \\cdots & \\Sigma_{X_n0, X_n} \\\\\n",
    "\\vdots & \\cdots & \\vdots \\\\\n",
    "\\Sigma_{X_n,X_0} & \\cdots & \\Sigma_{X_n, X_n}\n",
    "\\end{bmatrix} \\begin{bmatrix}\n",
    "J^{z_0}_{x_0} & \\cdots & J^{z_m}_{x_n} \\\\\n",
    "\\vdots & \\cdots & \\vdots \\\\\n",
    "J^{z_m}_{x_0} & \\cdots & J^{z_m}_{x_n}\n",
    "\\end{bmatrix} ^T\n",
    "\\begin{bmatrix}\n",
    "\\Sigma^{-1}_{z_0}, 0, \\cdots, 0 \\\\\n",
    "0, \\Sigma^{-1}_{z_1}, \\cdots, 0 \\\\\n",
    "\\vdots, \\cdots , \\cdots, \\vdots \\\\\n",
    "0, \\cdots, 0, \\Sigma^{-1}_{z_n}\n",
    "\\end{bmatrix} \n",
    "\\begin{bmatrix}\n",
    "r_0 \\\\\n",
    "\\vdots \\\\\n",
    "r_m \\\\\n",
    "\\end{bmatrix}\n",
    "\\end{align}\n",
    "$$\n",
    "\n",
    "Now, the constribution of $z_0$ towards $\\Delta_X$ can be calculated as $ (\\Sigma_{X_n, X_0}J_{x_0}^{z_0} + \\cdots + \\Sigma_{X_n, X_n}J_{x_n}^{z_0})*(\\Sigma^{-1}_{z_0}r_0)$ "
   ]
  },
  {
   "cell_type": "code",
   "execution_count": 36,
   "id": "44c5a01c-bd15-4a72-bdfc-a17753eaa0ec",
   "metadata": {},
   "outputs": [
    {
     "name": "stdout",
     "output_type": "stream",
     "text": [
      "A=array([[112.]])\n",
      "[[0.00892857]]\n",
      "b=array([[-9.37]])\n",
      "[[-0.08366071]]=\n",
      "new_x=array([[-0.08366071]])\n",
      "c0=0.0009, c1=0.0125, c2=-0.0982, c3=0.0012\n",
      "c0 + c1 + c2 + c3=-0.0837\n",
      "delta_x.item()=-0.0837\n"
     ]
    }
   ],
   "source": [
    "# Covariance and factor contribution\n",
    "\n",
    "import numpy as np\n",
    "# Robot position\n",
    "x = 0 \n",
    "\n",
    "# Robot position measurements and variance\n",
    "\n",
    "z0 = 0.1\n",
    "s0 = 1\n",
    "r0 = z0 - x\n",
    "\n",
    "z1 = 0.14\n",
    "s1 = 0.1\n",
    "r1 = z1 - x\n",
    "\n",
    "z2 = -0.11\n",
    "s2 = 0.01\n",
    "r2 = z2 - x\n",
    "\n",
    "z3 = 0.13\n",
    "s3 = 1\n",
    "r3 = z3 - x\n",
    "\n",
    "J = np.array([1, 1, 1, 1]).reshape(4, 1)\n",
    "J_transpose = J.T\n",
    "S = np.diag([1.0/s0, 1.0/s1, 1.0/s2, 1.0/s3])\n",
    "r = np.array([r0, r1, r2, r3]).reshape(4, 1)\n",
    "\n",
    "A = J_transpose.dot(S).dot(J)\n",
    "print(f\"{A=}\")\n",
    "A_inv = np.linalg.inv(A)\n",
    "print(f\"{A_inv}\")\n",
    "b = J_transpose.dot(S).dot(r)\n",
    "print(f\"{b=}\")\n",
    "\n",
    "delta_x = A_inv.dot(b)\n",
    "print(f\"{A_inv.dot(b)}=\")\n",
    "\n",
    "new_x = x + delta_x\n",
    "print(f\"{new_x=}\")\n",
    "\n",
    "# r0 contribution to x\n",
    "c0 = A_inv[0, :] @ J_transpose[:, 0] * S[0, 0] * r0\n",
    "\n",
    "c1 = A_inv[0, :] @ J_transpose[:, 1] * S[1, 1] * r1\n",
    "c2 = A_inv[0, :] @ J_transpose[:, 2] * S[2, 2] * r2\n",
    "c3 = A_inv[0, :] @ J_transpose[:, 3] * S[3, 3] * r3\n",
    "\n",
    "print(f\"{c0=:.4f}, {c1=:.4f}, {c2=:.4f}, {c3=:.4f}\")\n",
    "\n",
    "print(f\"{c0 + c1 + c2 + c3=:.4f}\")\n",
    "print(f\"{delta_x.item()=:.4f}\")\n",
    "#"
   ]
  },
  {
   "cell_type": "markdown",
   "id": "independent-pollution",
   "metadata": {
    "jp-MarkdownHeadingCollapsed": true
   },
   "source": [
    "## Incremental Cholesky Factorization"
   ]
  },
  {
   "cell_type": "markdown",
   "id": "legal-fleet",
   "metadata": {},
   "source": [
    "If you follows the Cholesky factorization described from above section, you may notice that we could easily reconstruct $R$ in intermediate steps. Mathematically, \n",
    "\n",
    "$$\n",
    "\\begin{align}\n",
    "  A =\n",
    "  \\begin{bmatrix}\n",
    "    A_{00} & A_{01} \\\\\n",
    "    A_{10} & A_{11}\n",
    "  \\end{bmatrix} \\\\\n",
    "  R =\n",
    "  \\begin{bmatrix}\n",
    "    R_{00} & R_{01} \\\\\n",
    "    \\textbf{0} & R_{11}\n",
    "  \\end{bmatrix}\n",
    "\\end{align}\n",
    "$$"
   ]
  },
  {
   "cell_type": "markdown",
   "id": "valid-china",
   "metadata": {},
   "source": [
    "An intermediate matrix $R^{in}$ of the decomposition process has the form\n",
    "$$\n",
    "\\begin{align}\n",
    "  R^{in} =\n",
    "  \\begin{bmatrix}\n",
    "    R_{00} & R_{01} \\\\\n",
    "    \\textbf{0} & A_{11}^{in}\n",
    "  \\end{bmatrix}\n",
    "\\end{align}\n",
    "$$\n",
    "where $A_{11}^{in}$ is the filled-in version of submatrix $A_{11}$ resulting\n",
    "from the partial factorization. Given the completed factorization $R$, we can\n",
    "compute $A_{11}^{in}$ as\n",
    "$$\n",
    "\\begin{align}\n",
    "  A_{11}^{in}=R_{11}^T R_{11}\n",
    "\\end{align}\n",
    "$$\n",
    "This in turn allows us to reconstruct the intermediate matrix $R^{in}$.\n",
    "\n"
   ]
  },
  {
   "cell_type": "markdown",
   "id": "temporal-liquid",
   "metadata": {},
   "source": [
    "Let $\\tilde{A}$ be the evolved version of $A$ following the addition of new\n",
    "information. This update only affects a portion $A_{11}$ of the information\n",
    "matrix, with corresponding effects to $R_{11}$ in the factorization. That is,\n",
    "the new information matrix $\\tilde{A}$ and its factorization matrix $\\tilde{R}$\n",
    "have the forms:\n",
    "$$\n",
    "\\begin{align}\n",
    "  \\label{aprilsam:eq:updated-information-factorization-forms}\n",
    "  \\tilde{A} =\n",
    "  \\begin{bmatrix}\n",
    "    A_{00} & A_{01} \\\\\n",
    "    A_{10} & A_{11} + A_{new}\n",
    "  \\end{bmatrix} \\ \\\n",
    "  \\tilde{R}=\n",
    "  \\begin{bmatrix}\n",
    "    R_{00} & R_{01} \\\\\n",
    "    \\textbf{0} & \\tilde{R}_{11}\n",
    "  \\end{bmatrix}\n",
    "\\end{align}\n",
    "$$\n",
    "Because $\\tilde{A}=\\tilde{R}^T\\tilde{R}$, we can express the updated portion of\n",
    "the information matrix as\n",
    "\n",
    "$$\n",
    "\\begin{align}\n",
    "  \\tilde{R}_{11}^T\\tilde{R}_{11} = A_{11}^{in} + A_{new}\n",
    "\\end{align}\n",
    "$$\n",
    "Then we can do a reconstruction following with a Cholesky decomposition.\n",
    "$$\n",
    "\\begin{align}\n",
    "  \\tilde{R}_{11}^T\\tilde{R}_{11} &= R_{11}^TR_{11} + A_{new}\n",
    "\\end{align}\n",
    "$$\n",
    "\n",
    "\n"
   ]
  },
  {
   "cell_type": "markdown",
   "id": "differential-certificate",
   "metadata": {},
   "source": [
    "**Note: This incremental process assumes that the linearization points stay the same.** "
   ]
  },
  {
   "cell_type": "code",
   "execution_count": 128,
   "id": "human-coast",
   "metadata": {
    "code_folding": [
     0
    ]
   },
   "outputs": [
    {
     "name": "stdout",
     "output_type": "stream",
     "text": [
      "original A: \n",
      " [[1.  0.5 0.4]\n",
      " [0.5 1.  0.2]\n",
      " [0.4 0.2 2. ]]\n",
      "Reconstructed A: \n",
      " [[1.  0.5 0.4]\n",
      " [0.  1.  0.2]\n",
      " [0.  0.  2. ]] \n",
      "\n",
      "original R: \n",
      " [[1.        0.5       0.4      ]\n",
      " [0.        0.8660254 0.       ]\n",
      " [0.        0.        1.356466 ]]\n",
      "Inc R: \n",
      " [[1.        0.5       0.4      ]\n",
      " [0.        0.8660254 0.       ]\n",
      " [0.        0.        1.356466 ]]\n",
      "original y: \n",
      " [1.         1.73205081 0.44232587]\n",
      "Inc y: \n",
      " [1.         1.73205081 0.44232587]\n"
     ]
    }
   ],
   "source": [
    "# Incremental Cholesky Decomposition\n",
    "\n",
    "def CholeskyReconstructA(R_, stop_row_id):\n",
    "    R = R_.copy()\n",
    "    nrows, ncols = R.shape\n",
    "    for i in range(nrows-1, stop_row_id-1, -1):\n",
    "        row_i = R[i, :]\n",
    "        d = row_i[i]\n",
    "        for j in range(ncols):\n",
    "            s = row_i[j]\n",
    "            if s == 0:\n",
    "                continue\n",
    "            if j > i:\n",
    "                row_j = R[j, :]\n",
    "                row_j[j:] += s*row_i[j:]\n",
    "        row_i[i] *= d\n",
    "    return R\n",
    "\n",
    "def CholeskyInc(R_, start_row_id):\n",
    "    nrows, ncols = R_.shape\n",
    "    assert(nrows == ncols)\n",
    "    R = R_.copy()\n",
    "    for i in range(start_row_id, nrows):\n",
    "        row_i = R[i, :]\n",
    "        d = row_i[i]\n",
    "        d = np.sqrt(d)\n",
    "        row_i /= d\n",
    "        for j in range(ncols):\n",
    "            s = row_i[j]\n",
    "            if s == 0:\n",
    "                continue\n",
    "            if j > i:\n",
    "                row_j = R[j, :]\n",
    "                row_j[j:] -= s*row_i[j:]\n",
    "    return R\n",
    "\n",
    "def CholeskyReconstruct_y(R, y_, stop_row_id):\n",
    "    nrows, ncols = R.shape\n",
    "    y = np.zeros(nrows)\n",
    "    y = y_.copy()\n",
    "    for i in range(nrows-1, stop_row_id-1, -1):\n",
    "        row_i = R[i, :]\n",
    "        for j in range(i+1, ncols):\n",
    "            s = row_i[j]\n",
    "            if s == 0:\n",
    "                continue\n",
    "            y[j] += y[i]*s\n",
    "        y[i] *= row_i[i]\n",
    "    return y\n",
    "\n",
    "def SolveLowerTriangularInc(R, y_, start_row_id):\n",
    "    nrows, ncols = R.shape\n",
    "    y = y_.copy()\n",
    "    for i in range(start_row_id, nrows):\n",
    "        row_i = R[i, :]\n",
    "        y[i] /= row_i[i]\n",
    "        for j in range(i+1, ncols):\n",
    "            s = row_i[j]\n",
    "            if s == 0:\n",
    "                continue\n",
    "            y[j] -= y[i]*s\n",
    "    return y\n",
    "\n",
    "\n",
    "\n",
    "print(f'original A: \\n {A}')\n",
    "R = Cholesky(A)\n",
    "reconstruct_A = CholeskyReconstructA(R, 0)\n",
    "print(f'Reconstructed A: \\n {reconstruct_A} \\n')\n",
    "\n",
    "print(f'original R: \\n {R}')\n",
    "test_row_id = 2\n",
    "reconstruct_partial_A = CholeskyReconstructA(R, test_row_id)\n",
    "inc_R = CholeskyInc(reconstruct_partial_A, test_row_id)\n",
    "print(f'Inc R: \\n {inc_R}')\n",
    "\n",
    "print(f'original y: \\n {y}')\n",
    "test_row_id = 2\n",
    "reconstruct_partial_y = CholeskyReconstruct_y(R, y, test_row_id)\n",
    "inc_y = SolveLowerTriangularInc(R, reconstruct_partial_y, test_row_id)\n",
    "print(f'Inc y: \\n {inc_y}')\n",
    "\n",
    "#"
   ]
  },
  {
   "cell_type": "markdown",
   "id": "graduate-invite",
   "metadata": {},
   "source": [
    "## Incremental Smoothing and Mapping"
   ]
  },
  {
   "cell_type": "markdown",
   "id": "abstract-essex",
   "metadata": {},
   "source": [
    "### Variable Ordering for Cholesky Decomposition"
   ]
  },
  {
   "cell_type": "markdown",
   "id": "direct-anthony",
   "metadata": {},
   "source": [
    "### Incremental Mapping for Odometry Backbone"
   ]
  },
  {
   "cell_type": "markdown",
   "id": "aboriginal-first",
   "metadata": {},
   "source": [
    "### Incremental Mapping for Loop Closure"
   ]
  },
  {
   "cell_type": "markdown",
   "id": "reflected-avatar",
   "metadata": {},
   "source": [
    "### iSAM, iSAM2 and AprilSAM"
   ]
  },
  {
   "cell_type": "markdown",
   "id": "bright-marks",
   "metadata": {},
   "source": [
    "Reference:\n",
    "\n",
    "1. Wang, High Availability Mapping and Localization\n",
    "2. Dellaert, Factor Graphs for Robot Perception"
   ]
  }
 ],
 "metadata": {
  "kernelspec": {
   "display_name": "Python 3 (ipykernel)",
   "language": "python",
   "name": "python3"
  },
  "language_info": {
   "codemirror_mode": {
    "name": "ipython",
    "version": 3
   },
   "file_extension": ".py",
   "mimetype": "text/x-python",
   "name": "python",
   "nbconvert_exporter": "python",
   "pygments_lexer": "ipython3",
   "version": "3.10.13"
  },
  "toc": {
   "base_numbering": 1,
   "nav_menu": {},
   "number_sections": true,
   "sideBar": true,
   "skip_h1_title": false,
   "title_cell": "Table of Contents",
   "title_sidebar": "Contents",
   "toc_cell": false,
   "toc_position": {
    "height": "calc(100% - 180px)",
    "left": "10px",
    "top": "150px",
    "width": "185.6666717529297px"
   },
   "toc_section_display": true,
   "toc_window_display": true
  }
 },
 "nbformat": 4,
 "nbformat_minor": 5
}
