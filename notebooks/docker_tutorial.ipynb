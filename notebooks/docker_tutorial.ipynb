{
 "cells": [
  {
   "cell_type": "markdown",
   "id": "focal-chinese",
   "metadata": {},
   "source": [
    "# Docker Tutorial"
   ]
  },
  {
   "cell_type": "markdown",
   "id": "capital-battery",
   "metadata": {},
   "source": [
    "## Basics\n",
    "\n",
    "- [Docker Hub](https://hub.docker.com/): Docker Hub is the world's easiest way to create, manage, and deliver your team's container applications.\n",
    "- CONTAINER is a running environment of an IMAGE\n",
    "- "
   ]
  },
  {
   "cell_type": "markdown",
   "id": "crucial-detective",
   "metadata": {},
   "source": [
    "## Basic Commands"
   ]
  },
  {
   "cell_type": "markdown",
   "id": "technological-vintage",
   "metadata": {},
   "source": [
    "- Pull images \n",
    "\n",
    "    `docker pull ubuntu:20.04`\n",
    "    \n",
    "    `docker pull [RegistryDomain]/[IMAGENAME]:[TAG]`\n",
    "    \n",
    "    \n",
    "- List images\n",
    "\n",
    "    `docker images `\n",
    "    \n",
    "\n",
    "- Run container \n",
    "\n",
    "    `docker run -p[HOST PORT]:[CONTAINER PORT] -d --name [DOCKER NAME] --net [NETWORK NAME] -e [ENVIRONMENT_VARIABLE_NAME=VALUE] -v [HOST_DIR]:[CONTAINER_DIR] [IMAGE ID]`\n",
    "    \n",
    "    \n",
    "- Create a docker network \n",
    "\n",
    "    `docker network create [NETWORK NAME]`\n",
    "    \n",
    "    `docker network ls`\n",
    "    \n",
    "\n",
    "- List container process\n",
    "\n",
    "    `docker ps -a`\n",
    "    \n",
    "    \n",
    "- Start/stop/Remove container\n",
    "\n",
    "    `docker start/stop/rm [CONTAINER ID]`\n",
    "\n",
    "\n",
    "- Logs\n",
    "\n",
    "    `docker logs [CONTAINER ID]`\n",
    "    \n",
    "\n",
    "- Execute docker \n",
    "\n",
    "    `docker exec -it [CONTAINER ID] /bin/bash`\n",
    "    \n",
    "    `docker exec -it [CONTAINER ID] /bin/sh`\n",
    "    \n",
    "- Tag\n",
    "\n",
    "    `docker tag [IMAGE]:[TAG] [RegistryDomain]/[IMAGENAME]:[TAG]`"
   ]
  },
  {
   "cell_type": "markdown",
   "id": "experienced-world",
   "metadata": {},
   "source": [
    "## Docker Compose\n",
    "\n",
    "- Start all containers \n",
    "\n",
    "    `docker-compose -d -f [COMPOSE FILE NAME] up`\n",
    "  \n",
    "  \n",
    "- Stop all containers\n",
    "\n",
    "    `docker-compose -f [COMPOSE FILE NAME] down`\n",
    " "
   ]
  },
  {
   "cell_type": "markdown",
   "id": "fleet-registration",
   "metadata": {},
   "source": [
    "## Docker  Build\n",
    "\n",
    "- Build docker image using Dockerfile \n",
    "\n",
    "    `docker build -t [IMAGE NAME:TAG_ID] .`\n",
    " "
   ]
  },
  {
   "cell_type": "markdown",
   "id": "manufactured-airport",
   "metadata": {},
   "source": [
    "Reference:\n",
    "- [Tutorial repository](https://github.com/xipengwang/docker-react-tutorial)"
   ]
  }
 ],
 "metadata": {
  "kernelspec": {
   "display_name": "Python 3",
   "language": "python",
   "name": "python3"
  },
  "language_info": {
   "codemirror_mode": {
    "name": "ipython",
    "version": 3
   },
   "file_extension": ".py",
   "mimetype": "text/x-python",
   "name": "python",
   "nbconvert_exporter": "python",
   "pygments_lexer": "ipython3",
   "version": "3.9.12"
  },
  "toc": {
   "base_numbering": 1,
   "nav_menu": {},
   "number_sections": true,
   "sideBar": true,
   "skip_h1_title": false,
   "title_cell": "Table of Contents",
   "title_sidebar": "Contents",
   "toc_cell": false,
   "toc_position": {},
   "toc_section_display": true,
   "toc_window_display": true
  }
 },
 "nbformat": 4,
 "nbformat_minor": 5
}
