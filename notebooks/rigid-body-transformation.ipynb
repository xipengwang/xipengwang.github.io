{
 "cells": [
  {
   "cell_type": "markdown",
   "metadata": {},
   "source": [
    "# Rigid Body Transformation"
   ]
  },
  {
   "cell_type": "markdown",
   "metadata": {},
   "source": [
    "Suppose we have a rigid body frame $b$ rotating and translating in a fix world frame $w$, the transformation from $b$ to $w$ is $T^{wb} = T_{trans}T_{rot}$, then we have the following properties:\n",
    "\n",
    "* $RR^{wb}$ rotates rigid body orientation $R^{wb}$ in $w$ frame\n",
    "* $R^{wb}R$ rotates rigid body orientation $R^{wb}$ in $b$ frame\n",
    "\n",
    "* $TT^{wb}$ rotates and translate rigid body pose $T^{wb}$ in $w$ frame\n",
    "    * $T_{trans}T_{rot}T^{wb}$ rotates and translate rigid body pose $T^{wb}$ in $w$ frame\n",
    "* $T^{wb}T$ rotates and translate rigid body pose $T^{wb}$ in $b$ frame\n",
    "    * $T^{wb}T_{trans}T_{rot}$ rotates and translate rigid body pose $T^{wb}$ in $b$ frame\n"
   ]
  },
  {
   "cell_type": "code",
   "execution_count": null,
   "metadata": {
    "code_folding": [
     0
    ],
    "scrolled": true
   },
   "outputs": [],
   "source": [
    "# k3d plot helper functions\n",
    "\n",
    "import k3d\n",
    "import math\n",
    "import numpy as np\n",
    "import time\n",
    "\n",
    "\n",
    "class XYZ_RBG_Axes():\n",
    "    def __init__(self, plot, name, R, t, color=0xffff00, axis_length = 1):\n",
    "        self.axis_length = axis_length\n",
    "        self.plot = plot\n",
    "        self.R = R\n",
    "        self.t = t.reshape(3, 1)\n",
    "        self.name = name\n",
    "        origin = self.t\n",
    "        x_axis = np.stack((origin, origin + self.R.dot(np.array([axis_length, 0., 0.])).reshape(3,1)), axis=0)\n",
    "        y_axis = np.stack((origin, origin + self.R.dot(np.array([0., axis_length, 0.])).reshape(3,1)), axis=0)\n",
    "        z_axis = np.stack((origin, origin + self.R.dot(np.array([0., 0., axis_length])).reshape(3,1)), axis=0)\n",
    "        self.xline_plot = k3d.line(x_axis, shader='mesh', width=0.05, color=0xff0000, name=name+'_xaxis')\n",
    "        self.yline_plot = k3d.line(y_axis, shader='mesh', width=0.05, color=0x0000ff, name=name+'_yaxis')\n",
    "        self.zline_plot = k3d.line(z_axis, shader='mesh', width=0.05, color=0x00ff00, name=name+'_zaxis')\n",
    "        self.xpoint = k3d.points(origin + self.R.dot(np.array([axis_length, 0., 0.])).reshape(3,1), point_size=0.3, \n",
    "                                  shader='3d', color=color, name=self.name+'_end_point_x')\n",
    "        self.ypoint = k3d.points(origin + self.R.dot(np.array([0., axis_length, 0.])).reshape(3,1), point_size=0.3, \n",
    "                                  shader='3d', color=color, name=self.name+'_end_point_y')\n",
    "        self.zpoint = k3d.points(origin + self.R.dot(np.array([0., 0., axis_length])).reshape(3,1), point_size=0.3, \n",
    "                                  shader='3d', color=color, name=self.name+'_end_point_z')\n",
    "        self.plot += self.xline_plot\n",
    "        self.plot += self.yline_plot\n",
    "        self.plot += self.zline_plot\n",
    "        self.plot += self.xpoint\n",
    "        self.plot += self.ypoint\n",
    "        self.plot += self.zpoint \n",
    "    def update_pose(self, R, t):\n",
    "        self.R = R\n",
    "        self.t = t.reshape(3,1)\n",
    "        origin = self.t\n",
    "        axis_length = self.axis_length\n",
    "        x_axis = np.stack((origin, origin + self.R.dot(np.array([axis_length, 0., 0.])).reshape(3,1)), axis=0)\n",
    "        y_axis = np.stack((origin, origin + self.R.dot(np.array([0., axis_length, 0.])).reshape(3,1)), axis=0)\n",
    "        z_axis = np.stack((origin, origin + self.R.dot(np.array([0., 0., axis_length])).reshape(3,1)), axis=0)\n",
    "        self.xline_plot.vertices = x_axis\n",
    "        self.xpoint.positions = origin + self.R.dot(np.array([axis_length, 0., 0.])).reshape(3,1)\n",
    "        self.yline_plot.vertices = y_axis\n",
    "        self.ypoint.positions = origin + self.R.dot(np.array([0., axis_length, 0.])).reshape(3,1)\n",
    "        self.zline_plot.vertices = z_axis\n",
    "        self.zpoint.positions = origin + self.R.dot(np.array([0., 0., axis_length])).reshape(3,1)\n",
    "\n",
    "\n",
    "plot = k3d.plot(camera_auto_fit=True, grid=(0, 0, 0, 5, 5, 5))\n",
    "C0 = XYZ_RBG_Axes(plot, 'C0', np.eye(3), np.zeros((3,1)))\n",
    "C1 = XYZ_RBG_Axes(plot, 'C1', np.eye(3), np.zeros((3,1)), color=0x00ffff, axis_length=0.5)\n",
    "C2 = XYZ_RBG_Axes(plot, 'C2', np.eye(3), np.zeros((3,1)), color=0xff00ff, axis_length=0.75)\n",
    "\n",
    "r = 0 * math.pi / 180\n",
    "p = 0 * math.pi / 180\n",
    "y = 90 * math.pi / 180\n",
    "c = np.cos([r, p, y])\n",
    "s = np.sin([r, p, y])\n",
    "R01_rpy = np.array([[1, 0, 0],\n",
    "                [0, c[0], -s[0]],\n",
    "                [0, s[0], c[0]]]).dot(\n",
    "                    np.array([[c[1], 0, s[1]],\n",
    "                              [0, 1,  0],\n",
    "                              [-s[1], 0, c[1]]])).dot(\n",
    "                                  np.array([[c[2], -s[2], 0],\n",
    "                                            [s[2], c[2], 0],\n",
    "                                            [0, 0, 1]]))\n",
    "\n",
    "def to_radian(deg):\n",
    "    return deg * math.pi / 180\n",
    "\n",
    "def skew(vector):\n",
    "    return np.array([[0, -vector[2], vector[1]],\n",
    "                     [vector[2], 0, -vector[0]],\n",
    "                     [-vector[1], vector[0], 0]])\n",
    "\n",
    "# rodrigues formula rotation\n",
    "def SO3(theta, omega_):\n",
    "    omega = omega_ / np.linalg.norm(omega_)\n",
    "    return np.eye(3) + math.sin(theta) * skew(omega) + (1 - math.cos(theta)) * skew(omega).dot(skew(omega))\n",
    "   \n",
    "\n",
    "plot.display()\n",
    "\n",
    "#"
   ]
  },
  {
   "cell_type": "markdown",
   "metadata": {},
   "source": [
    "In the following example, I will show you how to rotate the frame in $w$ and $b$ to the get same pose.\n",
    "For rotating in $w$, we first rotate yellow frame at origin around z-axis in w frame 45 degree to get the cyan coordinate. Then we will do 45 degree rotation around y and then around x. Finall we should get a pose $R_{wb^{'}} = R_{roll}R_{pitch}R_{yaw}I$ where $I$ is the identity matrix.\n",
    "For rotating in $b$, we should get a pose $R_{wb^{''}} = IR_{roll}R_{pitch}R_{yaw}$ where $I$ is the identity matrix."
   ]
  },
  {
   "cell_type": "code",
   "execution_count": 55,
   "metadata": {},
   "outputs": [
    {
     "data": {
      "image/jpeg": "[encoded data removed]",
      "text/html": [
       "\n",
       "        <iframe\n",
       "            width=\"500\"\n",
       "            height=\"300\"\n",
       "            src=\"https://www.youtube.com/embed/-6K4vX8zhkI\"\n",
       "            frameborder=\"0\"\n",
       "            allowfullscreen\n",
       "        ></iframe>\n",
       "        "
      ],
      "text/plain": [
       "<IPython.lib.display.YouTubeVideo at 0x111e0ee20>"
      ]
     },
     "execution_count": 55,
     "metadata": {},
     "output_type": "execute_result"
    }
   ],
   "source": [
    "# Display video\n",
    "from IPython.display import YouTubeVideo\n",
    "YouTubeVideo('-6K4vX8zhkI', width=500, height=300)\n",
    "#"
   ]
  },
  {
   "cell_type": "code",
   "execution_count": null,
   "metadata": {
    "code_folding": [
     0
    ]
   },
   "outputs": [],
   "source": [
    "# rotate around z-axis in w -> yaw\n",
    "theta = to_radian(90.0)\n",
    "omega = np.array([0, 0, 1])\n",
    "steps = 100\n",
    "for i in range(steps):\n",
    "    R = SO3(theta / steps, omega)\n",
    "    C1.update_pose(R.dot(C1.R), np.array([0, 0, 0]))\n",
    "    time.sleep(0.01)\n",
    "#"
   ]
  },
  {
   "cell_type": "code",
   "execution_count": null,
   "metadata": {
    "code_folding": [
     0
    ]
   },
   "outputs": [],
   "source": [
    "# rotate around y-axis in w -> pitch\n",
    "time.sleep(1)\n",
    "theta = to_radian(45.0)\n",
    "omega = np.array([0, 1, 0])\n",
    "steps = 100\n",
    "for i in range(steps):\n",
    "    R = SO3(theta / steps, omega)\n",
    "    C1.update_pose(R.dot(C1.R), np.array([0, 0, 0]))\n",
    "    time.sleep(0.01)   \n",
    "#"
   ]
  },
  {
   "cell_type": "code",
   "execution_count": null,
   "metadata": {
    "code_folding": [
     0
    ]
   },
   "outputs": [],
   "source": [
    "# rotate around x-axis in w -> roll\n",
    "time.sleep(1)\n",
    "theta = to_radian(45.0)\n",
    "omega = np.array([1, 0, 0])\n",
    "steps = 100\n",
    "for i in range(steps):\n",
    "    R = SO3(theta / steps, omega)\n",
    "    C1.update_pose(R.dot(C1.R), np.array([0, 0, 0]))\n",
    "    time.sleep(0.01)\n",
    "#"
   ]
  },
  {
   "cell_type": "code",
   "execution_count": null,
   "metadata": {
    "code_folding": [
     0
    ]
   },
   "outputs": [],
   "source": [
    "# rotate around x-axis in b -> roll\n",
    "time.sleep(1)\n",
    "theta = to_radian(45.0)\n",
    "omega = np.array([1, 0, 0])\n",
    "steps = 100\n",
    "for i in range(steps):\n",
    "    R = SO3(theta / steps, omega)\n",
    "    C2.update_pose(C2.R.dot(R), np.array([0, 0, 0]))\n",
    "    time.sleep(0.01)\n",
    "#"
   ]
  },
  {
   "cell_type": "code",
   "execution_count": null,
   "metadata": {
    "code_folding": [
     0
    ]
   },
   "outputs": [],
   "source": [
    "# rotate around y-axis in b -> pitch\n",
    "time.sleep(1)\n",
    "theta = to_radian(45.0)\n",
    "omega = np.array([0, 1, 0])\n",
    "steps = 100\n",
    "for i in range(steps):\n",
    "    R = SO3(theta / steps, omega)\n",
    "    C2.update_pose(C2.R.dot(R), np.array([0, 0, 0]))\n",
    "    time.sleep(0.01)\n",
    "#"
   ]
  },
  {
   "cell_type": "code",
   "execution_count": null,
   "metadata": {
    "code_folding": [
     0
    ]
   },
   "outputs": [],
   "source": [
    "# rotate around z-axis in b -> yaw\n",
    "time.sleep(1)\n",
    "theta = to_radian(90.0)\n",
    "omega = np.array([0, 0, 1])\n",
    "steps = 100\n",
    "for i in range(steps):\n",
    "    R = SO3(theta / steps, omega)\n",
    "    C2.update_pose(C2.R.dot(R), np.array([0, 0, 0]))\n",
    "    time.sleep(0.01)\n",
    "#"
   ]
  },
  {
   "cell_type": "code",
   "execution_count": null,
   "metadata": {
    "code_folding": [
     0
    ]
   },
   "outputs": [],
   "source": [
    "# Create new k3d plots to demonstrate both rotation and translation.\n",
    "\n",
    "plot = k3d.plot(camera_auto_fit=True, grid=(0, 0, 0, 5, 5, 5))\n",
    "C0 = XYZ_RBG_Axes(plot, 'C0', np.eye(3), np.zeros((3,1)))\n",
    "C1 = XYZ_RBG_Axes(plot, 'C1', SO3(to_radian(90), np.array([0, 0, 1])), np.array([3, 3, 0]), color=0x00ffff, axis_length=0.5)\n",
    "C2 = XYZ_RBG_Axes(plot, 'C2', SO3(to_radian(90), np.array([0, 0, 1])), np.array([3, 3, 0]), color=0xff00ff, axis_length=0.75)\n",
    "plot.display()\n",
    "#"
   ]
  },
  {
   "cell_type": "markdown",
   "metadata": {},
   "source": [
    "Now we let's think about both rotation and translation. $TT_{wb}$ rotates $T_{wb}$ in $w$ frame\n",
    "while $T_{wb}T$ rotates $T_{wb}$ in $b$ frame. As shown in the video below, you won't get the same pose from $TT_{wb} and\n",
    "T_{wb}T$. Cyan represents rotations in $w$ frame and purple represents rotations in $b$ frame."
   ]
  },
  {
   "cell_type": "markdown",
   "metadata": {},
   "source": [
    "How do I animate a rigid body transformation? I actually break $T$ into two parts: $T =\n",
    "T_{trans}T_{rot}$. $T_{trans}$ is a pure translation and $T_{rot}$ is a pure rotation. So I can animate the rigid body transformation in two steps with a linear velocity and angular velocity separately."
   ]
  },
  {
   "cell_type": "code",
   "execution_count": 56,
   "metadata": {},
   "outputs": [
    {
     "data": {
      "image/jpeg": "[encoded data removed]",
      "text/html": [
       "\n",
       "        <iframe\n",
       "            width=\"500\"\n",
       "            height=\"300\"\n",
       "            src=\"https://www.youtube.com/embed/lpMTixuvteY\"\n",
       "            frameborder=\"0\"\n",
       "            allowfullscreen\n",
       "        ></iframe>\n",
       "        "
      ],
      "text/plain": [
       "<IPython.lib.display.YouTubeVideo at 0x1131898e0>"
      ]
     },
     "execution_count": 56,
     "metadata": {},
     "output_type": "execute_result"
    }
   ],
   "source": [
    "# Display video\n",
    "from IPython.display import YouTubeVideo\n",
    "YouTubeVideo('lpMTixuvteY', width=500, height=300)\n",
    "#"
   ]
  },
  {
   "cell_type": "markdown",
   "metadata": {},
   "source": [
    "Firstly, we will move the rigid body in $w$ frame, i.e. $T_{wb^{'}} = TT_{wb}$. In this case, we will do $T_{rot}$ first then $T_{trans}$."
   ]
  },
  {
   "cell_type": "code",
   "execution_count": null,
   "metadata": {
    "code_folding": [
     0
    ]
   },
   "outputs": [],
   "source": [
    "# Move rigid body in w frame\n",
    "theta = to_radian(-90.0)\n",
    "omega = np.array([0, 0, 1])\n",
    "t = np.array([-1, 1, 0]).reshape(3, 1)\n",
    "expected_R = SO3(theta, omega).dot(C1.R) \n",
    "expected_t = SO3(theta, omega).dot(C1.t) + t\n",
    "steps = 100\n",
    "time.sleep(2)\n",
    "for i in range(steps):\n",
    "    R = SO3(theta / steps, omega)\n",
    "    C1.update_pose(R.dot(C1.R), R.dot(C1.t))\n",
    "    time.sleep(0.01)\n",
    "time.sleep(0.5)\n",
    "for i in range(steps):\n",
    "    delta_xyz = t / steps\n",
    "    C1.update_pose(C1.R, C1.t + delta_xyz.reshape(3,1))\n",
    "    time.sleep(0.01)\n",
    "np.set_printoptions(suppress=True)\n",
    "#print(\"=== Rotating in w frame ====\")\n",
    "#print(\"expected_R:\\n {}\".format(expected_R))\n",
    "#print(\"final_R:\\n {}\".format(C1.R))\n",
    "#print(\"expected_t:\\n {}\".format(expected_t))\n",
    "#print(\"final_t:\\n {}\".format(C1.t))\n",
    "#"
   ]
  },
  {
   "cell_type": "markdown",
   "metadata": {},
   "source": [
    "Then, we will move the rigid body in $b$ frame, i.e. $T_{wb^{''}} = T_{wb}T$. In this case, we will do $T_{trans}$ first then $T_{rot}$."
   ]
  },
  {
   "cell_type": "code",
   "execution_count": null,
   "metadata": {
    "code_folding": [
     0
    ]
   },
   "outputs": [],
   "source": [
    "# Move rigid body in r frame\n",
    "expected_R = C2.R.dot(SO3(theta, omega))\n",
    "expected_t = C2.R.dot(t) + C2.t\n",
    "time.sleep(2)\n",
    "for i in range(steps):\n",
    "    delta_xyz = t / steps\n",
    "    C2.update_pose(C2.R, C2.t + C2.R.dot(delta_xyz.reshape(3,1)))\n",
    "    time.sleep(0.01)\n",
    "time.sleep(0.5)\n",
    "for i in range(steps):\n",
    "    R = SO3(theta / steps, omega)\n",
    "    C2.update_pose(C2.R.dot(R), C2.t)\n",
    "    time.sleep(0.01)\n",
    "np.set_printoptions(suppress=True)\n",
    "#print(\"=== Rotating in b frame ====\")\n",
    "#print(\"expected_R:\\n {}\".format(expected_R))\n",
    "#print(\"final_R:\\n {}\".format(C2.R))\n",
    "#print(\"expected_t:\\n {}\".format(expected_t))\n",
    "#print(\"final_t:\\n {}\".format(C2.t))\n",
    "#"
   ]
  },
  {
   "cell_type": "markdown",
   "metadata": {},
   "source": [
    "Now think about what angle axis $\\omega$, rotation angle $\\theta$, and translation $t$ can bring $T_{wb}$ back to $I$. Of course, you can inverse the transformation matrix. But if you understand how rotating in body frame, you can easily figure this out by first find translation vector and then rotation components. "
   ]
  },
  {
   "cell_type": "code",
   "execution_count": null,
   "metadata": {
    "code_folding": [
     0
    ]
   },
   "outputs": [],
   "source": [
    "# Move rigid body back to origin\n",
    "\n",
    "plot = k3d.plot(camera_auto_fit=True, grid=(0, 0, 0, 5, 5, 5))\n",
    "C0 = XYZ_RBG_Axes(plot, 'C0', np.eye(3), np.zeros((3,1)))\n",
    "C1 = XYZ_RBG_Axes(plot, 'C1', SO3(to_radian(90), np.array([0, 0, 1])), np.array([3, 3, 0]), color=0x00ffff, axis_length=0.5)\n",
    "C2 = XYZ_RBG_Axes(plot, 'C2', SO3(to_radian(90), np.array([0, 0, 1])), np.array([3, 3, 0]), color=0xff00ff, axis_length=0.75)\n",
    "plot.display()\n",
    "theta = to_radian(-90.0)\n",
    "omega = np.array([0, 0, 1])\n",
    "t = np.array([-3, 3, 0]).reshape(3, 1)\n",
    "\n",
    "# Rotating in body frame\n",
    "expected_R = C2.R.dot(SO3(theta, omega))\n",
    "expected_t = C2.R.dot(t) + C2.t\n",
    "time.sleep(2)\n",
    "for i in range(steps):\n",
    "    delta_xyz = t / steps\n",
    "    C2.update_pose(C2.R, C2.t + C2.R.dot(delta_xyz.reshape(3,1)))\n",
    "    time.sleep(0.01)\n",
    "time.sleep(0.5)\n",
    "for i in range(steps):\n",
    "    R = SO3(theta / steps, omega)\n",
    "    C2.update_pose(C2.R.dot(R), C2.t)\n",
    "    time.sleep(0.01)\n",
    "np.set_printoptions(suppress=True)\n",
    "#print(\"=== Rotating in b frame ====\")\n",
    "#print(\"expected_R:\\n {}\".format(expected_R))\n",
    "#print(\"final_R:\\n {}\".format(C2.R))\n",
    "#print(\"expected_t:\\n {}\".format(expected_t))\n",
    "#print(\"final_t:\\n {}\".format(C2.t))\n",
    "#"
   ]
  },
  {
   "cell_type": "markdown",
   "metadata": {},
   "source": [
    "But can you animate it with a velocity containing both linear velocity and angular velocity? This was a new thing I learned which is called Twist. Like angular velocity can be represented by a $3x1$ vector, twist can be represented by a 6x1 vector. In the video below, I first show how to move the purple frame back to origin by translating and rotating in its $b$ frame in two steps. Then I show an animation moving cyan frame back to origin smoothly with a combined linear and angular velocity."
   ]
  },
  {
   "cell_type": "code",
   "execution_count": 58,
   "metadata": {},
   "outputs": [
    {
     "data": {
      "image/jpeg": "[encoded data removed]",
      "text/html": [
       "\n",
       "        <iframe\n",
       "            width=\"500\"\n",
       "            height=\"300\"\n",
       "            src=\"https://www.youtube.com/embed/lcZtD6v0hNs\"\n",
       "            frameborder=\"0\"\n",
       "            allowfullscreen\n",
       "        ></iframe>\n",
       "        "
      ],
      "text/plain": [
       "<IPython.lib.display.YouTubeVideo at 0x111e0e970>"
      ]
     },
     "execution_count": 58,
     "metadata": {},
     "output_type": "execute_result"
    }
   ],
   "source": [
    "# Display video\n",
    "from IPython.display import YouTubeVideo\n",
    "YouTubeVideo('lcZtD6v0hNs', width=500, height=300)\n",
    "#"
   ]
  },
  {
   "cell_type": "code",
   "execution_count": null,
   "metadata": {
    "code_folding": [
     0
    ]
   },
   "outputs": [],
   "source": [
    "# Twist demonstration.\n",
    "def SE3(twist_theta, twist_omega_, twist_v):\n",
    "    T = np.eye(4)\n",
    "    twist_omega = twist_omega_ / np.linalg.norm(twist_omega_)\n",
    "    T[0:3, 0:3] = SO3(twist_theta, twist_omega)\n",
    "    T[0:3, [3]] = (\n",
    "                np.eye(3)*twist_theta \n",
    "                + (1-math.cos(twist_theta))*skew(twist_omega) \n",
    "                + (twist_theta-math.sin(twist_theta))*skew(twist_omega).dot(skew(twist_omega))\n",
    "                ).dot(twist_v).reshape(3,1)\n",
    "    return T\n",
    "\n",
    "def TwistV(t, twist_theta, twist_omega_):\n",
    "    twist_omega = twist_omega_ / np.linalg.norm(twist_omega_)\n",
    "    return np.linalg.inv(np.eye(3)*twist_theta \n",
    "                        + (1-math.cos(twist_theta))*skew(twist_omega) \n",
    "                        + (twist_theta-math.sin(twist_theta))*skew(twist_omega).dot(skew(twist_omega))\n",
    "                        ).dot(t).reshape(3,1)\n",
    "\n",
    "expected_R = SO3(theta, omega).dot(C1.R) \n",
    "expected_t = SO3(theta, omega).dot(C1.t) + t\n",
    "C1_R = C1.R\n",
    "C1_t = C1.t\n",
    "twist_v = TwistV(t, theta, omega)\n",
    "steps = 100\n",
    "time.sleep(2)\n",
    "for i in range(steps):\n",
    "    T = SE3((i+1) * theta / steps, omega, twist_v)\n",
    "    C1.update_pose(T[0:3, 0:3].dot(C1_R), T[0:3, 0:3].dot(C1_t)+T[0:3, [3]])\n",
    "    time.sleep(0.01)\n",
    "\n",
    "np.set_printoptions(suppress=True)\n",
    "#print(\"=== Rotating in w frame ====\")\n",
    "#print(\"expected_R:\\n {}\".format(expected_R))\n",
    "#print(\"final_R:\\n {}\".format(C1.R))\n",
    "#print(\"expected_t:\\n {}\".format(expected_t))\n",
    "#print(\"final_t:\\n {}\".format(C1.t))\n",
    "#"
   ]
  },
  {
   "cell_type": "markdown",
   "metadata": {},
   "source": [
    "# Time Derivative of Rotation Matrices "
   ]
  },
  {
   "cell_type": "markdown",
   "metadata": {},
   "source": [
    "We have a rotation matrix $R^{wb}$ and we are interested to know the time derivative of it as $\\dot{R^{wb}}$. The rotation matrix has 9 elements, however we know that the degree of freedom of the angular velocity is 3 which can be represented as a magnitude value $\\theta$ and a normalized direction vector $\\omega$. Then the question is how do we get $\\dot{R^{wb}}$?"
   ]
  },
  {
   "cell_type": "markdown",
   "metadata": {},
   "source": [
    "Firstly, we specify the rotation vector $\\omega_b$ in the body frame. Then in the body frame $b$, for each axis we can get $\\dot{v} = [\\omega_b]_\\times v$. Put them into a matrix form, we can get \n",
    "$$\n",
    "\\begin{align}\n",
    "\\dot{I_b} = [\\omega_b]_\\times \n",
    "\\begin{bmatrix} \n",
    "1, &0, &0 \\\\\n",
    "0, &1, &0 \\\\\n",
    "0, &0, &1\n",
    "\\end{bmatrix}\n",
    "\\end{align}\n",
    "$$\n"
   ]
  },
  {
   "cell_type": "markdown",
   "metadata": {},
   "source": [
    "The math notation might be very rigorous here, but the main idea is that each column is the linear velocity of an axis. If we integrate over time, we can get $R^{bb'} = \\int{\\dot{I_b(t)}}dt = \\int{[\\omega_b]_\\times}dt$, then the new rotation matrix in the world frame will be $R^{wb'} = R^{wb}R^{bb'} = \\int{\\dot{R^{wb}}}dt$. \n",
    "\n",
    "Then we found $\\dot{R_{wb}} = R_{wb}[\\omega_b]_\\times$. "
   ]
  },
  {
   "cell_type": "markdown",
   "metadata": {},
   "source": [
    "## Summary\n",
    "\n",
    "In this blog, I emphasize only on using $\\omega_b$ because it can be measured by IMU in its body frame. \n",
    "\n",
    "$$\n",
    "\\begin{align}\n",
    "\\dot{R_{wb}} &= R_{wb}[\\omega_b]_\\times \\\\\n",
    "\\dot{R_{bw}} &= -[\\omega_b]_\\times R_{bw}\n",
    "\\end{align}\n",
    "$$"
   ]
  }
 ],
 "metadata": {
  "kernelspec": {
   "display_name": "Python 3",
   "language": "python",
   "name": "python3"
  },
  "language_info": {
   "codemirror_mode": {
    "name": "ipython",
    "version": 3
   },
   "file_extension": ".py",
   "mimetype": "text/x-python",
   "name": "python",
   "nbconvert_exporter": "python",
   "pygments_lexer": "ipython3",
   "version": "3.9.12"
  },
  "toc": {
   "base_numbering": 1,
   "nav_menu": {},
   "number_sections": true,
   "sideBar": true,
   "skip_h1_title": false,
   "title_cell": "Table of Contents",
   "title_sidebar": "Contents",
   "toc_cell": false,
   "toc_position": {},
   "toc_section_display": true,
   "toc_window_display": false
  }
 },
 "nbformat": 4,
 "nbformat_minor": 4
}
