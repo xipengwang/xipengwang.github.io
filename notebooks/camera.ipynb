{
 "cells": [
  {
   "cell_type": "markdown",
   "id": "stone-vermont",
   "metadata": {},
   "source": [
    "# Multi-view Geometry"
   ]
  },
  {
   "cell_type": "markdown",
   "id": "excited-configuration",
   "metadata": {},
   "source": [
    "## Camera Intrinsics and Extrinsics"
   ]
  },
  {
   "cell_type": "markdown",
   "id": "unable-mexico",
   "metadata": {},
   "source": [
    "### Basics\n",
    "The projection is shown as below, where $S$ is the sensor frame, $I$ is the image frame, $C$ is the camera frame, and $W$ is the world frame. $I$ frame normally has only a constant offset to $C$, which is so called camera constant.\n",
    "\n",
    "$$\n",
    "\\begin{align}\n",
    "\\begin{bmatrix} u \\\\ v \\\\ 1\n",
    "\\end{bmatrix} = T_{SC} T_{IC} T_{CW} \\begin{bmatrix} X \\\\ Y \\\\ Z \\\\ 1\n",
    "\\end{bmatrix}\n",
    "\\end{align}\n",
    "$$"
   ]
  },
  {
   "cell_type": "markdown",
   "id": "textile-wrestling",
   "metadata": {},
   "source": [
    "Extrinsic parameter is $T_{CW}$ which typically has 6 DoF - 3 for position and 3 for orientation. $O^W_C$ is the world origin expressed in the camera frame $C$. $O^C_W$ is the camera origin expressed in the world frame $W$.\n",
    "\n",
    "$$\n",
    "\\begin{align}\n",
    "T_{CW} = \n",
    "\\begin{bmatrix}\n",
    "R_{CW},& O^W_{C} \\\\\n",
    "0,& 1\n",
    "\\end{bmatrix}\n",
    "\\end{align}\n",
    "$$\n",
    "\n",
    "$$\n",
    "\\begin{align}\n",
    "T_{CW} = \n",
    "\\begin{bmatrix}\n",
    "R_{CW},& -R_{CW} O^C_W \\\\\n",
    "0,& 1\n",
    "\\end{bmatrix}\n",
    "\\end{align}\n",
    "$$"
   ]
  },
  {
   "cell_type": "markdown",
   "id": "interested-terminology",
   "metadata": {},
   "source": [
    "Intrinsic parameter is $T_{SC} T_{IC}$ without considering non-linear distortions. If we consider image plane is at the negative z direction. Then camera constant $c$ will be negative. $x_H$ and $y_H$ are translation from image frame center to sensor frame center. \n",
    "\n",
    "$$\n",
    "\\begin{align}\n",
    "T_{SC} T_{IC} & = \n",
    "\\begin{bmatrix}\n",
    "1,& 0, & x_H \\\\\n",
    "0,& 1, & y_H \\\\\n",
    "0,& 0, & 1\n",
    "\\end{bmatrix}\\begin{bmatrix}\n",
    "c,& 0, & 0 \\\\\n",
    "0,& c, & 0 \\\\\n",
    "0,& 0, & 1\n",
    "\\end{bmatrix} \\\\ \n",
    "& = \\begin{bmatrix}\n",
    "1,& s, & x_H \\\\\n",
    "0,& 1+m, & y_H \\\\\n",
    "0,& 0, & 1\n",
    "\\end{bmatrix}\\begin{bmatrix}\n",
    "c,& 0, & 0 \\\\\n",
    "0,& c, & 0 \\\\\n",
    "0,& 0, & 1\n",
    "\\end{bmatrix}\n",
    "\\end{align}\n",
    "$$\n",
    "\n",
    "$$\n",
    "\\begin{align}\n",
    "K = T_{SC} T_{IC} & = \n",
    "\\begin{bmatrix}\n",
    "c_x,& s_{xy}, & x_H \\\\\n",
    "0,& c_y, & y_H \\\\\n",
    "0,& 0, & 1\n",
    "\\end{bmatrix}\n",
    "\\end{align}\n",
    "$$"
   ]
  },
  {
   "cell_type": "markdown",
   "id": "accessory-sustainability",
   "metadata": {},
   "source": [
    "Non-linear distortion could be caused by non-perfect lens so that each pixel projected onto sensor plane is shifted a little based on its position. $q$ are. the parameters for distortion models, such as barrel distortion, tangent distortion, etc.\n",
    "\n",
    "$$\n",
    "\\begin{align}\n",
    "x_a =& x_s + \\Delta(x_s, q) \\\\\n",
    "y_a =& y_s + \\Delta(y_s, q)\n",
    "\\end{align}\n",
    "$$\n",
    "\n",
    "$$\n",
    "\\begin{align}\n",
    "x_a = H(x_s)x_s\n",
    "\\end{align}\n",
    "$$"
   ]
  },
  {
   "cell_type": "markdown",
   "id": "checked-architecture",
   "metadata": {},
   "source": [
    "### Mapping\n",
    "\n",
    "#### Inverse map from $x_a$ to $x_s$\n",
    "\n",
    "$$\n",
    "\\begin{align}\n",
    "[x_{s}]_{i+1}= [H([x_{s}]_i)]^{-1}x_a\n",
    "\\end{align}\n",
    "$$\n",
    "\n",
    "#### Inverse map from $x_s$ to $X_c$\n",
    "\n",
    "$$\n",
    "\\begin{align}\n",
    "X_c = \\lambda K^{-1}\\begin{bmatrix} u \\\\ v \\\\ 1\n",
    "\\end{bmatrix}\n",
    "\\end{align}\n",
    "$$\n",
    "$$\n",
    "\\begin{align}\n",
    "X_W = O_W^C + \\lambda R_{CW}^{-1}K^{-1}\\begin{bmatrix} u \\\\ v \\\\ 1\n",
    "\\end{bmatrix}\n",
    "\\end{align}\n",
    "$$\n",
    "Where $\\lambda$ is the depth. "
   ]
  },
  {
   "cell_type": "code",
   "execution_count": 37,
   "id": "average-penetration",
   "metadata": {
    "code_folding": [
     0
    ],
    "scrolled": true
   },
   "outputs": [
    {
     "name": "stdout",
     "output_type": "stream",
     "text": [
      "Map world points to sensor frame\n",
      "p_w: [ 1.  0. -5.]\n",
      "p_c: [ 2  0 -5] depth: -5\n",
      "p_s: [400. 200.   1.]\n",
      "\n",
      "Map sensor points to world frame\n",
      "ray: [-0.4  0.   1. ]\n",
      "p_c: [ 2. -0. -5.]\n",
      "p_w: [ 1.  0. -5.]\n"
     ]
    }
   ],
   "source": [
    "# Mapping and inverse mapping\n",
    "\n",
    "import numpy as np\n",
    "\n",
    "print('Map world points to sensor frame')\n",
    "p_w = np.array([1, 0, -5, 1])\n",
    "print(f'p_w: {p_W}')\n",
    "T_cw = np.array([[1, 0, 0, 1], \n",
    "                [0, 1, 0, 0],\n",
    "                [0, 0, 1, 0],\n",
    "                [0, 0, 0, 1]])\n",
    "R_cw = T_cw[0:3, 0:3]\n",
    "O_w = -R_cw.T.dot(T_cw[0:3, 3])\n",
    "\n",
    "p_c = T_cw.dot(p_w)\n",
    "\n",
    "depth = p_c[2]\n",
    "p_c = p_c[0:3]                \n",
    "print(f'p_c: {p_c}', f'depth: {depth}')\n",
    "\n",
    "K = np.array([[-500, 0, 200], [0, -500, 200], [0, 0, 1]])\n",
    "p_i = K.dot(p_c)\n",
    "uv = np.array([p_i[0]/p_i[2], p_i[1]/p_i[2], 1])\n",
    "print(f'p_s: {uv}')\n",
    "print('\\nMap sensor points to world frame')\n",
    "ray = np.linalg.inv(K).dot(uv)\n",
    "print(f'ray: {ray}')\n",
    "\n",
    "p_c = depth * ray\n",
    "print(f'p_c: {p_c}')\n",
    "\n",
    "p_W = O_w + depth * R_cw.T.dot(ray)\n",
    "print(f'p_w: {p_W}')\n",
    "#"
   ]
  },
  {
   "cell_type": "markdown",
   "id": "stuck-senator",
   "metadata": {},
   "source": [
    "### Calibration"
   ]
  },
  {
   "cell_type": "markdown",
   "id": "conceptual-bridal",
   "metadata": {},
   "source": [
    "#### DLT: Direct Linear Transform\n",
    "\n",
    "Key ideas:\n",
    "- Projection matrix $P = T_{SC} T_{IC} T_{CW}$ has 11 DoF.\n",
    "- Given a 2D-to-3D correspondence, we can get two constraints for solving P.\n",
    "- We need at least 6 correspondences so that we will have 12 constraints to solve $P$ with 11 DoF.\n",
    "- Use SVD to find the solution - right singular vector with least singular value.\n",
    "- $ P = [KR| -KRO_W^C]$, so once we get $P$, we can get $KR$ and $O_C^C$\n",
    "- Use QR decomposition on $(KR)^{-1}$ to find $K$ and $R$"
   ]
  },
  {
   "cell_type": "markdown",
   "id": "median-coalition",
   "metadata": {},
   "source": [
    "#### Zhang's homography approach\n",
    "\n",
    "Key ideas:\n",
    "- Use planer object so that $Z_W$ is always 0. \n",
    "- Instead of getting $P$, we are solving equations to get homography matrix $H$. \n",
    "- We need at least 4 points on each image to solve $H$.\n",
    "- Each homography solution gives 2 constraints on $K^TK$.\n",
    "- $K^TK$ is a symmetric matrix with 6 DoF. So we need at least 3 images with each giving us 2 constraints on $K^TK$.\n",
    "- Find $K^TK$, then do Choleskey decomposition to find $K$."
   ]
  },
  {
   "cell_type": "markdown",
   "id": "fifty-manhattan",
   "metadata": {},
   "source": [
    "#### Non-linear Optimization with Gauss-Newton or LM \n",
    "\n",
    "Key ideas:\n",
    "- Use Zhang's approach for initialization.\n",
    "- $K, q, R_i, t_i = \\underset{K, q, R_i, t_i}{\\operatorname{argmin}} {\\sum_n\\sum_i}\\|x_{ni} - \\hat{x}(K, q, R_i, t_i, X_{ni})\\|^2$.\n",
    "- Note that we can set the planar object corner as world origin (0, 0, 0)."
   ]
  }
 ],
 "metadata": {
  "kernelspec": {
   "display_name": "Python 3",
   "language": "python",
   "name": "python3"
  },
  "language_info": {
   "codemirror_mode": {
    "name": "ipython",
    "version": 3
   },
   "file_extension": ".py",
   "mimetype": "text/x-python",
   "name": "python",
   "nbconvert_exporter": "python",
   "pygments_lexer": "ipython3",
   "version": "3.9.12"
  },
  "toc": {
   "base_numbering": 1,
   "nav_menu": {},
   "number_sections": true,
   "sideBar": true,
   "skip_h1_title": false,
   "title_cell": "Table of Contents",
   "title_sidebar": "Contents",
   "toc_cell": false,
   "toc_position": {},
   "toc_section_display": true,
   "toc_window_display": true
  }
 },
 "nbformat": 4,
 "nbformat_minor": 5
}
