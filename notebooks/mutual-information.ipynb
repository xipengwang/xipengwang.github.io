{
 "cells": [
  {
   "cell_type": "markdown",
   "id": "outdoor-updating",
   "metadata": {},
   "source": [
    "# Mutual Information"
   ]
  },
  {
   "cell_type": "markdown",
   "id": "correct-peninsula",
   "metadata": {},
   "source": [
    "## Entropy\n",
    "\n",
    "$$\n",
    "H(x) = -\\sum_i{p(x_i)log(p(x_i))}\n",
    "$$"
   ]
  },
  {
   "cell_type": "markdown",
   "id": "complex-zimbabwe",
   "metadata": {},
   "source": [
    "## Conditional Entropy\n",
    "\n",
    "$$\n",
    "\\begin{align}\n",
    "H(x|y) =& -\\sum_{i,j}{p(x_i, y_j)log{p(x_i|y_j)}} \\\\\n",
    "=& -\\sum_{i,j}{p(x_i, y_j)log{\\frac{p(x_i,y_j)}{p(y_j)}}}\n",
    "\\end{align}\n",
    "$$"
   ]
  },
  {
   "cell_type": "markdown",
   "id": "impressive-universe",
   "metadata": {},
   "source": [
    "## Joint Entropy\n",
    "\n",
    "$$\n",
    "H(x, y) = -\\sum_{i,j}{p(x_i, y_j)log(p(x_i, y_j))}\n",
    "$$"
   ]
  },
  {
   "cell_type": "markdown",
   "id": "quiet-arrangement",
   "metadata": {},
   "source": [
    "## Mutual Information\n",
    "\n",
    "$$\n",
    "MI(x, y) = -\\sum_{i,j}{p(x_i, y_j)log(\\frac{p(x_i)p(y_j)}{p(x_i, y_j)})}\n",
    "$$"
   ]
  },
  {
   "cell_type": "markdown",
   "id": "unknown-latin",
   "metadata": {},
   "source": [
    "## Cross Entropy\n",
    "\n",
    "$$\n",
    "H(p, q) = -\\sum{p(x)log(q(x))} \n",
    "$$"
   ]
  },
  {
   "cell_type": "markdown",
   "id": "direct-bidding",
   "metadata": {},
   "source": [
    "## Kullback–Leibler divergence\n",
    "$p$ is the true distribution while $q$ is the approximation.\n",
    "$$\n",
    "D_{KL}(p \\| q) = -\\sum p(x) log(\\frac{q(x)}{p(x)})\n",
    "$$"
   ]
  },
  {
   "cell_type": "markdown",
   "id": "chronic-startup",
   "metadata": {},
   "source": [
    "## Connections\n",
    "\n",
    ">$$\n",
    "H(X,Y) = H(X) + H(Y|X) = H(Y) + H(X|Y)\n",
    "$$\n",
    "\n",
    ">$$\n",
    "MI(X,Y) = H(X) + H(Y) - H(X,Y) = H(X) - H(X|Y) = H(Y) - H(Y|X)\n",
    "$$\n",
    "\n",
    ">$$\n",
    "MI(X,Y) = D_{KL}(p(x,y) \\| p(x)p(y))\n",
    "$$\n",
    "\n",
    ">$$\n",
    "H(p, q) = H(p) + D_{KL}(p \\| q)\n",
    "$$"
   ]
  },
  {
   "cell_type": "code",
   "execution_count": 4,
   "id": "vocal-struggle",
   "metadata": {
    "code_folding": [
     0
    ]
   },
   "outputs": [],
   "source": [
    "# Some examples\n",
    "\n",
    "import numpy as np\n",
    "# prob\n",
    "p_x0 = 0.3\n",
    "p_x1 = 0.7\n",
    "\n",
    "p_y0 = 0.4\n",
    "p_y1 = 0.6\n",
    "\n",
    "# conditional prob\n",
    "p_x0_y0 = 0.5\n",
    "p_x1_y0 = 0.5\n",
    "p_x0_y1 = 0.3\n",
    "p_x1_y1 = 0.7 \n",
    "\n",
    "\n",
    "# joint prob\n",
    "p_x0y0 = p_y0 * p_x0_y0\n",
    "p_x1y0 = p_y0 * p_x1_y0\n",
    "p_x0y1 = p_y1 * p_x0_y1\n",
    "p_x1y1 = p_y1 * p_x1_y1\n",
    "\n",
    "H_x = -p_x0 * np.log(p_x0) - p_x1 * np.log(p_x1)\n",
    "H_y = -p_y0 * np.log(p_y0) - p_y1 * np.log(p_y1)\n",
    "\n",
    "H_x_y = -p_x0y0*np.log(p_x0_y0) - p_x1y0*np.log(p_x1_y0) - p_x0y1*np.log(p_x0_y1) - p_x1y1 * np.log(p_x1_y1)\n",
    "H_xy = -p_x0y0*np.log(p_x0y0) - p_x1y0*np.log(p_x1y0) - p_x0y1*np.log(p_x0y1) - p_x1y1*np.log(p_x1y1)\n",
    "\n",
    "assert(H_xy == H_y + H_x_y)\n",
    "\n",
    "#"
   ]
  }
 ],
 "metadata": {
  "kernelspec": {
   "display_name": "Python 3",
   "language": "python",
   "name": "python3"
  },
  "language_info": {
   "codemirror_mode": {
    "name": "ipython",
    "version": 3
   },
   "file_extension": ".py",
   "mimetype": "text/x-python",
   "name": "python",
   "nbconvert_exporter": "python",
   "pygments_lexer": "ipython3",
   "version": "3.9.1"
  },
  "toc": {
   "base_numbering": 1,
   "nav_menu": {},
   "number_sections": true,
   "sideBar": true,
   "skip_h1_title": false,
   "title_cell": "Table of Contents",
   "title_sidebar": "Contents",
   "toc_cell": false,
   "toc_position": {},
   "toc_section_display": true,
   "toc_window_display": true
  }
 },
 "nbformat": 4,
 "nbformat_minor": 5
}
