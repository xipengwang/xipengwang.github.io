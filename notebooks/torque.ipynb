{
 "cells": [
  {
   "cell_type": "markdown",
   "id": "actual-zimbabwe",
   "metadata": {},
   "source": [
    "# Torque and Angular Momentum"
   ]
  },
  {
   "cell_type": "markdown",
   "id": "extra-maple",
   "metadata": {},
   "source": [
    "## Useful Equations"
   ]
  },
  {
   "cell_type": "markdown",
   "id": "interesting-sauce",
   "metadata": {},
   "source": [
    "- Linear Velocity $v$ ($m/s$): \n",
    "    - >$v = [\\omega]_\\times r$\n",
    "- Linear Acceleration $a$ ($m/s^2$): \n",
    "    - >$a = [\\alpha]_{\\times} r$\n",
    "- Angular Velocity $\\omega$ ($rad/s$): \n",
    "    - >$\\omega = [r]_\\times v$\n",
    "- Angular Acceleration  $\\alpha$ ($rad/s^2$): \n",
    "    - >$\\alpha = [r]_\\times a$\n",
    "- Torque $\\tau$ ($N \\cdot m$): \n",
    "    - >$\\tau = [r]_\\times F$\n",
    "- Angular Inertia $\\mathcal{I}$ ($kg \\cdot m^2$): \n",
    "    - >$\\mathcal{I} = mr^2$\n",
    "- Momentum $p$ ($kg \\cdot m/s$): \n",
    "    - >$p = mv$\n",
    "- Angular Momentum $\\mathcal{L}$ ($kg \\cdot m^2/s$): \n",
    "    - >$\\mathcal{L} = \\mathcal{I}\\omega$\n",
    "- $\\mathcal{L} = [r]_\\times p = mr^2 \\mathbf{\\omega}$\n",
    "- $\\tau = \\mathcal{I} \\alpha$\n",
    "- $\\tau = \\frac{d\\mathcal{L}}{dt}$"
   ]
  },
  {
   "cell_type": "markdown",
   "id": "standing-state",
   "metadata": {},
   "source": [
    "## Angular Momentum"
   ]
  },
  {
   "cell_type": "markdown",
   "id": "nutritional-purse",
   "metadata": {},
   "source": [
    "Though there are lots of equations expressing relations between different quantities, the real cause to make a object rotate is a force on it. So like: \n",
    "1. Give a force $F$ at $r$\n",
    "2. We get a torque $\\tau = [r]_\\times F$\n",
    "3. We get angular acceleration $\\alpha = \\tau / \\mathcal{I}$\n",
    "4. The object starts to rotate and rotation speed $\\omega = 0 + \\alpha t$\n",
    "5. Remove the force\n",
    "6. Torque becomes 0 \n",
    "7. Angular Momentum stays not changed as $\\frac{d\\mathcal{L}}{dt} = 0$.\n",
    "8. If we reduce $r$, $\\omega$ will increase as $\\mathcal{L} = mr^2\\omega$\n",
    "\n",
    "Based on steps described above, we need to know the force $F$ and $\\mathcal{I}$. Here is a [list](https://en.wikipedia.org/wiki/List_of_moments_of_inertia) of examples for momentum of inertia."
   ]
  },
  {
   "cell_type": "markdown",
   "id": "continuing-puppy",
   "metadata": {},
   "source": [
    "In the code below, we put $F_0$ and $F_1$ onto the object and let it rotate. And it also shows $F_1$ doesn't really change rotation axis since it is much smaller than $F_0$. This is exactly how gyroscope works. We make a disk rotate very very fast so it will keep its angular momentum not changed."
   ]
  },
  {
   "cell_type": "code",
   "execution_count": 96,
   "id": "hearing-ensemble",
   "metadata": {
    "code_folding": []
   },
   "outputs": [
    {
     "data": {
      "application/vnd.jupyter.widget-view+json": {
       "model_id": "38bf5d3a8b2b42aa9f743aa3b5a1d8ed",
       "version_major": 2,
       "version_minor": 0
      },
      "text/plain": [
       "Output()"
      ]
     },
     "metadata": {},
     "output_type": "display_data"
    }
   ],
   "source": [
    "# Torque plot\n",
    "\n",
    "import k3d\n",
    "import k3d.platonic as platonic\n",
    "import math\n",
    "from time import sleep\n",
    "import numpy as np\n",
    "\n",
    "plot = k3d.plot()\n",
    "\n",
    "obj1 = platonic.Cube().mesh\n",
    "obj1.color = 0x00ff00\n",
    "plot += obj1\n",
    "\n",
    "angle_degree = 0\n",
    "gamma = angle_degree * 3.1415926 / 180.0\n",
    "obj1.transform.translation = [0, 0, 0]\n",
    "obj1.transform.rotation = [gamma, angle_axis[0], angle_axis[1], angle_axis[2]]\n",
    "obj2 = platonic.Cube().mesh\n",
    "obj2.color = 0x0000ff\n",
    "plot += obj2\n",
    "obj2.transform.translation = [0, 0, 0]\n",
    "obj2.transform.rotation = [gamma, angle_axis[0], angle_axis[1], angle_axis[2]]\n",
    "\n",
    "plot.display()\n",
    "\n",
    "weight = 6 # kg\n",
    "# https://en.wikipedia.org/wiki/List_of_moments_of_inertia\n",
    "inertia = 1 # kg * m^2\n",
    "\n",
    "\n",
    "SIMULATION_TIME_SEC = 3\n",
    "r = np.array([1, 0, 0])\n",
    "F0 = np.array([0, 10, 0])\n",
    "F1 = np.array([0, 0, 0.1])\n",
    "F = F0 + F1\n",
    "\n",
    "\n",
    "torque = np.cross(r, F)\n",
    "alpha = torque / inertia\n",
    "ACCELERATION_DURATION = 2\n",
    "omega = alpha * ACCELERATION_DURATION\n",
    "rotation_axis = np.stack((np.array([0, 0, 0], dtype=np.float32), 2 * omega / np.linalg.norm(omega)), axis=0)\n",
    "plot += k3d.line(rotation_axis, shader='mesh', width=0.05, color=0xff0000, name='rotation axis')\n",
    "\n",
    "SLEEP_TIME_SEC = 0.01\n",
    "gamma = 0\n",
    "for i in range(int(SIMULATION_TIME_SEC / SLEEP_TIME_SEC)):\n",
    "    angle_axis = omega / np.linalg.norm(omega)\n",
    "    gamma += np.linalg.norm(omega) * SLEEP_TIME_SEC\n",
    "    obj1.transform.translation = [0, 0, 0]\n",
    "    obj1.transform.rotation = [gamma, angle_axis[0], angle_axis[1], angle_axis[2]]\n",
    "    sleep(SLEEP_TIME_SEC)\n",
    "#"
   ]
  }
 ],
 "metadata": {
  "kernelspec": {
   "display_name": "Python 3",
   "language": "python",
   "name": "python3"
  },
  "language_info": {
   "codemirror_mode": {
    "name": "ipython",
    "version": 3
   },
   "file_extension": ".py",
   "mimetype": "text/x-python",
   "name": "python",
   "nbconvert_exporter": "python",
   "pygments_lexer": "ipython3",
   "version": "3.9.1"
  },
  "toc": {
   "base_numbering": 1,
   "nav_menu": {},
   "number_sections": true,
   "sideBar": true,
   "skip_h1_title": false,
   "title_cell": "Table of Contents",
   "title_sidebar": "Contents",
   "toc_cell": false,
   "toc_position": {},
   "toc_section_display": true,
   "toc_window_display": false
  }
 },
 "nbformat": 4,
 "nbformat_minor": 5
}
