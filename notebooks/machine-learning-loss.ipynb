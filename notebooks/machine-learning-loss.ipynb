{
 "cells": [
  {
   "cell_type": "markdown",
   "id": "textile-northern",
   "metadata": {},
   "source": [
    "# Machine Learning Study Notes\n",
    "\n",
    "This post contains notes of building a neural network with Softmax loss and Hinge loss.\n",
    "\n",
    "This post is one of an ongoing series on machine learning studies:\n",
    "1. [Pytorch]({% post_url 2021-05-04-machine-learning-pytorch %})\n",
    "2. [Loss function(this)]({% post_url 2021-05-07-machine-learning-loss %}): Hinge Loss, Softmax\n",
    "3. [Backpropagation]({% post_url 2021-05-07-machine-learning-backpropagation %})"
   ]
  }
 ],
 "metadata": {
  "kernelspec": {
   "display_name": "Python 3",
   "language": "python",
   "name": "python3"
  },
  "language_info": {
   "codemirror_mode": {
    "name": "ipython",
    "version": 3
   },
   "file_extension": ".py",
   "mimetype": "text/x-python",
   "name": "python",
   "nbconvert_exporter": "python",
   "pygments_lexer": "ipython3",
   "version": "3.9.1"
  },
  "toc": {
   "base_numbering": 1,
   "nav_menu": {},
   "number_sections": true,
   "sideBar": true,
   "skip_h1_title": false,
   "title_cell": "Table of Contents",
   "title_sidebar": "Contents",
   "toc_cell": false,
   "toc_position": {},
   "toc_section_display": true,
   "toc_window_display": false
  }
 },
 "nbformat": 4,
 "nbformat_minor": 5
}
