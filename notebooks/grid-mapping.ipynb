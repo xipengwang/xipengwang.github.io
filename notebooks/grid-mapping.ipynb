{
 "cells": [
  {
   "cell_type": "markdown",
   "id": "regulation-burke",
   "metadata": {},
   "source": [
    "# Grid Mapping: From Occupancy Map to Semantic Map"
   ]
  },
  {
   "cell_type": "markdown",
   "id": "caring-youth",
   "metadata": {},
   "source": [
    "## Binary Bayes Filters"
   ]
  },
  {
   "cell_type": "markdown",
   "id": "suspended-bradford",
   "metadata": {},
   "source": [
    "Suppose a cell has a binary state that does not change over time, e.g. occupancy state, the belief of state can be described as:\n",
    "\n",
    "$$\n",
    "\\begin{align}\n",
    "bel_t(x) =& p(x| z_{1, \\cdots, t})\n",
    "\\end{align}\n",
    "$$\n",
    "\n",
    "The state is chosen from two: $x$ and $\\neg x$, where $bel_t(x) + bel_t(\\neg x) = 1$."
   ]
  },
  {
   "cell_type": "markdown",
   "id": "polished-kuwait",
   "metadata": {},
   "source": [
    "### Recursive Estimation\n",
    "\n",
    "$$\n",
    "\\begin{align}\n",
    "bel_t(x) =& p(x| z_{1, \\cdots, t}) \\\\\n",
    "=& \\frac{p(z_t | x, z_{1, \\cdots, t-1})p(x|z_{1, \\cdots, t-1})}{p(z_t | z_{1, \\cdots, t-1})} \\\\\n",
    "=& \\frac{p(z_t | x)bel_{t-1}(x)}{p(z_t | z_{1, \\cdots, t-1})} \\\\\n",
    "bel_t(\\neg x) =& p(\\neg x| z_{1, \\cdots, t}) \\\\\n",
    "=& \\frac{p(z_t | \\neg x)bel_{t-1}(\\neg x)}{p(z_t | z_{1, \\cdots, t-1})} \\\\\n",
    "\\end{align}\n",
    "$$\n",
    "\n",
    "Then we can get:\n",
    "\n",
    "$$\n",
    "\\begin{align}\n",
    "\\frac{bel_t(x)}{bel_t(\\neg x)} =& \\frac{p(z_t | x)bel_{t-1}(x)}{p(z_t | \\neg x)bel_{t-1}(\\neg x)}\n",
    "\\end{align}\n",
    "$$\n",
    "\n",
    "Normally, we will use log-based update:\n",
    "\n",
    "$$\n",
    "\\begin{align}\n",
    "ln(\\frac{bel_t(x)}{bel_t(\\neg x)}) =& ln(\\frac{p(z_t | x)bel_{t-1}(x)}{p(z_t | \\neg x)bel_{t-1}(\\neg x)})\\\\\n",
    "l_t =& l_{t-1} + ln(\\frac{p(z_t | x)}{p(z_t | \\neg x)})\n",
    "\\end{align}\n",
    "$$\n",
    "**where $bel_t(x) = 1 - \\frac{1}{1+e^{l_t}}$**"
   ]
  },
  {
   "cell_type": "markdown",
   "id": "minimal-youth",
   "metadata": {},
   "source": [
    "We call $p(z_t | x)$ as **forward model** as it calculate the likelihood distribution. However, sometimes, it is hard to get the the likelihood distribution over distributions, e.g. measurement is an image. In such case, it is much easier to get the **inverse model**, aka $p(x | z_t$). Then we will have:\n",
    "\n",
    "$$\n",
    "\\begin{align}\n",
    "ln(\\frac{bel_t(x)}{bel_t(\\neg x)}) =& ln(\\frac{p(z_t | x)bel_{t-1}(x)}{p(z_t | \\neg x)bel_{t-1}(\\neg x)})\\\\\n",
    "l_t =& l_{t-1} + ln(\\frac{p(x|z_t)p(\\neg x_0)}{p(\\neg x|z_t)p(x_0)}) \\\\\n",
    "l_t =& l_{t-1} - l_0 + ln(\\frac{p(x|z_t)}{1- p(x|z_t)})\n",
    "\\end{align}\n",
    "$$"
   ]
  },
  {
   "cell_type": "code",
   "execution_count": 71,
   "id": "funded-maker",
   "metadata": {
    "code_folding": [
     0
    ],
    "scrolled": true
   },
   "outputs": [
    {
     "name": "stdout",
     "output_type": "stream",
     "text": [
      "observations: ['occupied', 'empty', 'occupied', 'occupied', 'occupied', 'empty', 'occupied', 'empty', 'occupied', 'empty']\n"
     ]
    },
    {
     "data": {
      "image/png": "[encoded data removed]",
      "text/plain": [
       "<Figure size 432x288 with 1 Axes>"
      ]
     },
     "metadata": {},
     "output_type": "display_data"
    }
   ],
   "source": [
    "# Binary Bayes Filters with Recursive Estimation\n",
    "\n",
    "%matplotlib inline\n",
    "import numpy as np\n",
    "import matplotlib.pyplot as plt\n",
    "\n",
    "labels = ['Occupied', 'Empty']\n",
    "bel_0 = [0.5, 0.5]\n",
    "assert(bel_0[0] + bel_0[1] == 1)\n",
    "colors = ['b', 'g']\n",
    "\n",
    "gt_state = 1 # occupied\n",
    "# p(z=0 | gt_state = 1) = 0.3\n",
    "# p(z=1 | gt_state = 1) = 0.7\n",
    "probs = [0.3, 0.7]\n",
    "data = []\n",
    "npoints = 10\n",
    "for e in np.random.uniform(0, 1, npoints):\n",
    "    if e <= probs[0]:\n",
    "        obs = 0\n",
    "    else:\n",
    "        obs = 1\n",
    "    data.append(obs)\n",
    "\n",
    "# Inverse model\n",
    "# p(gt_state = 1 | z=0) = 0.3\n",
    "# p(gt_state = 0 | z=0) = 0.7\n",
    "# p(gt_state = 1 | z=1) = 0.8\n",
    "# p(gt_state = 0 | z=1) = 0.2\n",
    "l_0 = np.log(bel_0[0] / (1-bel_0[0]))\n",
    "\n",
    "def l_to_bel(l):\n",
    "    return 1 - 1.0/(1 + np.exp(l))\n",
    "\n",
    "bels = []\n",
    "l = l_0\n",
    "for obs in data:\n",
    "    if obs == 0:\n",
    "        p = 0.3\n",
    "    else:\n",
    "        p = 0.8\n",
    "    l = l - l_0 + np.log(p/(1-p))\n",
    "    bels.append(l_to_bel(l))\n",
    "data_str = ['occupied' if obs == 1 else 'empty' for obs in data]\n",
    "print(f'observations: {data_str}')\n",
    "stats = plt.pie([bels[-1], 1-bels[-1]], labels=labels, colors=colors, autopct='%1.2f%%')\n",
    "\n",
    "#"
   ]
  },
  {
   "cell_type": "markdown",
   "id": "collectible-providence",
   "metadata": {},
   "source": [
    "### Beta Distribution as Conjugate Prior\n",
    "\n",
    "[Dirichlet distribution](https://en.wikipedia.org/wiki/Dirichlet_distribution) is the conjugate prior for the Categorical distribution. For the binary case, Dirichlet distribution is a [Beta distribution](https://en.wikipedia.org/wiki/Beta_distribution).  We can track the posterior distribution use a Beta distribution.  "
   ]
  },
  {
   "cell_type": "code",
   "execution_count": 51,
   "id": "charged-cloud",
   "metadata": {
    "code_folding": [
     0
    ]
   },
   "outputs": [
    {
     "data": {
      "image/png": "[encoded data removed]",
      "text/plain": [
       "<Figure size 432x288 with 1 Axes>"
      ]
     },
     "metadata": {},
     "output_type": "display_data"
    }
   ],
   "source": [
    "# Beta Distribution as Conjugate Prior\n",
    "\n",
    "import numpy as np\n",
    "import matplotlib.pyplot as plt\n",
    "\n",
    "# Pie chart, where the slices will be ordered and plotted counter-clockwise:\n",
    "labels = ['Occupied', 'Empty']\n",
    "assert(bel_0[0] + bel_0[1] == 1)\n",
    "colors = ['b', 'g']\n",
    "\n",
    "\n",
    "gt_state = 1 # occupied\n",
    "# p(z=0 | gt_state = 1) = 0.3\n",
    "# p(z=1 | gt_state = 1) = 0.7\n",
    "probs = [0.3, 0.7]\n",
    "data = []\n",
    "npoints = 1000\n",
    "for e in np.random.uniform(0, 1, npoints):\n",
    "    if e <= probs[0]:\n",
    "        obs = 0\n",
    "    else:\n",
    "        obs = 1\n",
    "    data.append(obs)\n",
    "\n",
    "alpha_occu = 0\n",
    "alpha_empty = 0\n",
    "\n",
    "\n",
    "for obs in data:\n",
    "    if obs == 0:\n",
    "        alpha_empty += 1\n",
    "    else:\n",
    "        alpha_occu += 1\n",
    "    alpha_sum = alpha_empty + alpha_occu\n",
    "modes = [(alpha_occu - 1) / (alpha_sum - 2), (alpha_empty - 1) / (alpha_sum - 2)]\n",
    "\n",
    "plt.subplots()\n",
    "pie = plt.pie(modes, labels=labels, colors=colors, autopct='%1.2f%%')\n",
    "\n",
    "#"
   ]
  },
  {
   "cell_type": "markdown",
   "id": "cultural-patent",
   "metadata": {},
   "source": [
    "## Occupancy Grid Map"
   ]
  },
  {
   "cell_type": "markdown",
   "id": "fundamental-celebration",
   "metadata": {},
   "source": [
    "Occupancy grid map is an idea that extends from a single cell to many cells and considers cell states are independent:\n",
    "\n",
    "$$\n",
    "p(m | z_{1:t}, x_{1:t}) = \\prod p(m_i | z_{1:t}, x_{1:t})\n",
    "$$\n",
    "\n",
    "$$\n",
    "\\begin{align}\n",
    "l_t =& l_{t-1} - l_0 + ln(\\frac{p(m_i|z_t)}{1- p(m_i|z_t)})\n",
    "\\end{align}\n",
    "$$"
   ]
  },
  {
   "cell_type": "markdown",
   "id": "derived-preservation",
   "metadata": {},
   "source": [
    "## Semantic Map\n",
    "\n",
    "Occupancy grid map only consider binary states in a cell, whereas semantic map maintains a categorical distribution in a cell. "
   ]
  },
  {
   "cell_type": "markdown",
   "id": "occupational-exemption",
   "metadata": {},
   "source": [
    "### Recursive Estimation with Histogram Filters\n",
    "\n",
    "For forward model:\n",
    "$$\n",
    "\\begin{align}\n",
    "bel_t(x) =& p(x| z_{1, \\cdots, t}) \\\\\n",
    "=& \\frac{p(z_t | x, z_{1, \\cdots, t-1})p(x|z_{1, \\cdots, t-1})}{p(z_t | z_{1, \\cdots, t-1})} \\\\\n",
    "=& \\frac{p(z_t | x)bel_{t-1}(x)}{p(z_t | z_{1, \\cdots, t-1})} \\\\\n",
    "\\propto& p(z_t | x)bel_{t-1}(x) \\\\\n",
    "\\end{align}\n",
    "$$\n",
    "\n",
    "For inverse model:\n",
    "$$\n",
    "\\begin{align}\n",
    "bel_t(x) =& p(x| z_{1, \\cdots, t}) \\\\\n",
    "=& \\frac{p(x| z_t)p(z_t)bel_{t-1}(x)}{p(z_t | z_{1, \\cdots, t-1})p(x_0)} \\\\\n",
    "\\propto& \\frac{p(x | z_t)bel_{t-1}(x)}{p(x)} \\\\\n",
    "\\end{align}\n",
    "$$"
   ]
  },
  {
   "cell_type": "markdown",
   "id": "organized-funds",
   "metadata": {},
   "source": [
    "Since state $x$ can take multiple values for semantic mapping, we will use a histogram to track the categorical distribution in a cell. The table below shows one example using forward model.\n",
    "\n",
    "|        | state:r | state:g | state:b |\n",
    "|--------|---------|---------|---------|\n",
    "| obs: r | 0.7     | 0.1     | 0.1     |\n",
    "| obs: g | 0.2     | 0.7     | 0.1     |\n",
    "| obs: b | 0.1     | 0.2     | 0.8     |"
   ]
  },
  {
   "cell_type": "code",
   "execution_count": 93,
   "id": "political-montgomery",
   "metadata": {
    "code_folding": []
   },
   "outputs": [
    {
     "name": "stdout",
     "output_type": "stream",
     "text": [
      "GT: r:0.2, g:0.2, b:0.6\n",
      "Observations: [2, 2, 0, 2, 1, 0, 1, 0, 2, 2]\n",
      "Estimation: r:0.03, g:0.03, b:0.94\n"
     ]
    },
    {
     "data": {
      "image/png": "[encoded data removed]",
      "text/plain": [
       "<Figure size 432x288 with 1 Axes>"
      ]
     },
     "metadata": {},
     "output_type": "display_data"
    }
   ],
   "source": [
    "# Recursive Estimation with Histogram Filters\n",
    "\n",
    "import numpy as np\n",
    "import scipy.stats as stats\n",
    "import matplotlib.pyplot as plt\n",
    "import time\n",
    "\n",
    "# Pie chart, where the slices will be ordered and plotted counter-clockwise:\n",
    "labels = 'Red', 'Green', 'Blue'\n",
    "probs = [0.2, 0.2, 0.6]\n",
    "colors = ['r', 'g', 'b']\n",
    "print(f'GT: r:{probs[0]}, g:{probs[1]}, b:{probs[2]}')\n",
    "data = []\n",
    "r_cnt = 0\n",
    "g_cnt = 0\n",
    "b_cnt = 0\n",
    "npoints = 10\n",
    "for e in np.random.uniform(0, 1, npoints):\n",
    "    if e <= probs[0]:\n",
    "        obs = 0\n",
    "    elif e <= probs[0] + probs[1]:\n",
    "        obs = 1\n",
    "    else:\n",
    "        obs = 2\n",
    "    data.append(obs)\n",
    "    \n",
    "bel_0 = [0.3, 0.3, 0.4] # prior\n",
    "bel = bel_0\n",
    "\n",
    "# Use forward model \n",
    "trans_matrix = np.array([\n",
    "    [0.7, 0.1, 0.1],\n",
    "    [0.2, 0.7, 0.1],\n",
    "    [0.1, 0.2, 0.8]\n",
    "])\n",
    "\n",
    "for obs in data:\n",
    "    trans_v = trans_matrix[obs, :]\n",
    "    bel = np.multiply(bel, trans_v)\n",
    "    bel = bel / np.sum(bel) # re-normalize\n",
    "#\n",
    "\n",
    "plt.subplots()\n",
    "pie = plt.pie(bel, labels=labels, colors=colors, autopct='%1.2f%%')\n",
    "print(f'Observations: {data}')\n",
    "print(f'Estimation: r:{bel[0]:.2f}, g:{bel[1]:.2f}, b:{bel[2]:.2f}')\n",
    "\n",
    "#"
   ]
  },
  {
   "cell_type": "markdown",
   "id": "middle-grant",
   "metadata": {},
   "source": [
    "### Dirichlet Distribution as Conjugate Prior"
   ]
  },
  {
   "cell_type": "markdown",
   "id": "color-cleaner",
   "metadata": {},
   "source": [
    "[Dirichlet distribution](https://en.wikipedia.org/wiki/Dirichlet_distribution) is the conjugate prior for the Categorical distribution. The example below shows the MAP of the categorical distribution for a single cell."
   ]
  },
  {
   "cell_type": "code",
   "execution_count": 55,
   "id": "olympic-proceeding",
   "metadata": {
    "code_folding": [],
    "scrolled": true
   },
   "outputs": [
    {
     "name": "stdout",
     "output_type": "stream",
     "text": [
      "GT: r:0.2, g:0.3, b:0.5\n",
      "Estimation: r:0.20, g:0.30, b:0.50\n"
     ]
    },
    {
     "data": {
      "image/png": "[encoded data removed]",
      "text/plain": [
       "<Figure size 432x288 with 1 Axes>"
      ]
     },
     "metadata": {},
     "output_type": "display_data"
    }
   ],
   "source": [
    "# Semantic mapping for single cell\n",
    "\n",
    "import numpy as np\n",
    "import scipy.stats as stats\n",
    "import matplotlib.pyplot as plt\n",
    "import time\n",
    "\n",
    "# Pie chart, where the slices will be ordered and plotted counter-clockwise:\n",
    "labels = 'Red', 'Green', 'Blue'\n",
    "probs = [0.2, 0.3, 0.5]\n",
    "colors = ['r', 'g', 'b']\n",
    "\n",
    "#plt.subplot()\n",
    "#pie = plt.pie(probs, labels=labels, colors=colors, autopct='%1.2f%%')\n",
    "#plt.title('GT class distribution')\n",
    "#plt.axis('equal')  \n",
    "print(f'GT: r:{probs[0]}, g:{probs[1]}, b:{probs[2]}')\n",
    "data = []\n",
    "r_cnt = 0\n",
    "g_cnt = 0\n",
    "b_cnt = 0\n",
    "for e in np.random.uniform(0, 1, 10000):\n",
    "    if e <= probs[0]:\n",
    "        obs = 'r'\n",
    "    elif e <= probs[0] + probs[1]:\n",
    "        obs = 'g'\n",
    "    else:\n",
    "        obs = 'b'\n",
    "    data.append(obs)\n",
    "\n",
    "\n",
    "alpha_r = 2\n",
    "alpha_g = 4\n",
    "alpha_b = 4\n",
    "alpha = (alpha_r, alpha_g, alpha_b)\n",
    "\n",
    "\n",
    "for elem in data:\n",
    "    if elem == 'r':\n",
    "        alpha_r += 1\n",
    "    elif elem == 'g':\n",
    "        alpha_g += 1\n",
    "    elif elem == 'b':\n",
    "        alpha_b += 1\n",
    "    alpha_sum = alpha_r + alpha_g + alpha_b\n",
    "    modes = [(alpha_r - 1) / (alpha_sum - 3), (alpha_g - 1) / (alpha_sum - 3), (alpha_b - 1) / (alpha_sum - 3)]\n",
    "\n",
    "plt.subplots()\n",
    "pie = plt.pie(modes, labels=labels, colors=colors, autopct='%1.2f%%')\n",
    "\n",
    "print(f'Estimation: r:{modes[0]:.2f}, g:{modes[1]:.2f}, b:{modes[2]:.2f}')\n",
    "\n",
    "#"
   ]
  },
  {
   "cell_type": "markdown",
   "id": "czech-aerospace",
   "metadata": {},
   "source": [
    "The example below shows the MAP of the categorical distribution for lane estimation."
   ]
  },
  {
   "cell_type": "code",
   "execution_count": 56,
   "id": "classical-conviction",
   "metadata": {
    "code_folding": [
     0
    ],
    "scrolled": true
   },
   "outputs": [
    {
     "name": "stdout",
     "output_type": "stream",
     "text": [
      "(70, 100, 3)\n"
     ]
    },
    {
     "data": {
      "text/plain": [
       "<matplotlib.image.AxesImage at 0x13a9b0f10>"
      ]
     },
     "execution_count": 56,
     "metadata": {},
     "output_type": "execute_result"
    },
    {
     "data": {
      "image/png": "[encoded data removed]",
      "text/plain": [
       "<Figure size 432x288 with 1 Axes>"
      ]
     },
     "metadata": {
      "needs_background": "light"
     },
     "output_type": "display_data"
    }
   ],
   "source": [
    "# Grid based semantic mapping, suppose we have a grid map 20mx14m(WxH, res:0.2m)\n",
    "\n",
    "%matplotlib inline\n",
    "import numpy as np\n",
    "import scipy.stats as stats\n",
    "import matplotlib.pyplot as plt\n",
    "import time\n",
    "\n",
    "res = 0.2\n",
    "W_m = 20\n",
    "H_m = 14\n",
    "W = int(W_m / res)\n",
    "H = int(H_m / res)\n",
    "gt_im = np.zeros((H, W, 3))\n",
    "# --> x, W\n",
    "# |\n",
    "# |\n",
    "# y\n",
    "# H\n",
    "#gt_im[1, 3, 0] = 1. # red\n",
    "#gt_im[3, 1, 1] = 1. # green\n",
    "#gt_im[3, 3, 2] = 1. # blue\n",
    "\n",
    "# boundaries at y = 1.5, 12.5\n",
    "# lane lines at y = 4.5, 9.5 \n",
    "b_l_y = 1.5\n",
    "b_r_y = 12.5\n",
    "line_l_y = 4.5\n",
    "line_r_y = 9.5\n",
    "print(gt_im.shape)\n",
    "gt_im[int(b_l_y/res), :, 0] = 1 # red bounadry\n",
    "gt_im[int(b_r_y/res), :, 0] = 1\n",
    "gt_im[int(line_l_y/res), :, 1] = 1 # green line\n",
    "gt_im[int(line_r_y/res), :, 1] = 1\n",
    "gt_im[int(line_l_y/res)+1 : int(line_r_y/res), :, 2] = 1 # blue lane\n",
    "\n",
    "plt.imshow(gt_im)\n",
    "\n",
    "#"
   ]
  },
  {
   "cell_type": "code",
   "execution_count": 58,
   "id": "above-universe",
   "metadata": {
    "code_folding": [
     0
    ],
    "scrolled": true
   },
   "outputs": [
    {
     "name": "stderr",
     "output_type": "stream",
     "text": [
      "Clipping input data to the valid range for imshow with RGB data ([0..1] for floats or [0..255] for integers).\n"
     ]
    },
    {
     "name": "stdout",
     "output_type": "stream",
     "text": [
      "Aggregated observations\n"
     ]
    },
    {
     "data": {
      "text/plain": [
       "<matplotlib.image.AxesImage at 0x13abc0f10>"
      ]
     },
     "execution_count": 58,
     "metadata": {},
     "output_type": "execute_result"
    },
    {
     "data": {
      "image/png": "[encoded data removed]",
      "text/plain": [
       "<Figure size 432x288 with 1 Axes>"
      ]
     },
     "metadata": {
      "needs_background": "light"
     },
     "output_type": "display_data"
    }
   ],
   "source": [
    "# Generate simulated observations\n",
    "\n",
    "max_runs = 20\n",
    "r = 0\n",
    "g = 1\n",
    "b = 2\n",
    "car_L_h = 1.5\n",
    "car_W_h = 0.75\n",
    "def clip_x(xs):\n",
    "    #if isinstance(xs, list) or isinstance(xs, (np.ndarray, np.generic)):\n",
    "    #    return np.clip([int(x) for x in xs], 0, W-1)\n",
    "    return np.clip(int(xs), 0, W-1)\n",
    "def clip_y(ys):\n",
    "    #if isinstance(ys, list) or isinstance(ys, (np.ndarray, np.generic)):\n",
    "    #    return np.clip([int(y) for y in ys], 0, H-1)\n",
    "    return np.clip(int(ys), 0, H-1)\n",
    "\n",
    "obs_im = np.zeros((H, W, 3))\n",
    "b_x_n = 0.1\n",
    "b_y_n = 0.2\n",
    "l_x_n = 0.1\n",
    "k_y_n = 0.2\n",
    "sample_dist = 0.1\n",
    "obs_blind_range = 0\n",
    "\n",
    "for i in range(max_runs):\n",
    "    # print(f'iter: {i}')\n",
    "    car_x = np.random.uniform(-10, W_m)\n",
    "    car_y = np.random.uniform(H_m/2-0.25, H_m/2+0.25)\n",
    "    # print(f'car at: ({car_x, car_y})')\n",
    "    # TODO: orientation\n",
    "    start_x = clip_x((car_x-car_L_h)/res)\n",
    "    end_x = clip_x((car_x+car_L_h)/res)\n",
    "    x_indices = range(start_x, end_x)\n",
    "    start_y = clip_y((car_y-car_W_h)/res)\n",
    "    end_y = clip_y((car_y+car_W_h)/res+1)\n",
    "    y_indices = range(start_y, end_y)\n",
    "    if start_x != end_x and start_y != end_y:\n",
    "        yv, xv = np.meshgrid(y_indices, x_indices, indexing='ij')\n",
    "        obs_im[yv, xv, b] += 1\n",
    "    # Get boundary and lane line detections\n",
    "    # step 1: sample points\n",
    "    sampled_points = np.arange(car_x + car_L_h + obs_blind_range, W_m, sample_dist)\n",
    "    for p in sampled_points:\n",
    "        # line\n",
    "        p_x = p+np.random.normal(0, l_x_n)\n",
    "        p_y = line_l_y+np.random.normal(0, b_y_n)     \n",
    "        obs_im[clip_y(p_y/res), clip_x(p_x/res), g] += 1\n",
    "        \n",
    "        p_x = p+np.random.normal(0, l_x_n)\n",
    "        p_y = line_r_y+np.random.normal(0, b_y_n)     \n",
    "        obs_im[clip_y(p_y/res), clip_x(p_x/res), g] += 1\n",
    "        \n",
    "        # boundary\n",
    "        p_x = p+np.random.normal(0, b_x_n)\n",
    "        p_y = b_l_y+np.random.normal(0, b_y_n)     \n",
    "        obs_im[clip_y(p_y/res), clip_x(p_x/res), r] += 1\n",
    "        \n",
    "        p_x = p+np.random.normal(0, b_x_n)\n",
    "        p_y = b_r_y+np.random.normal(0, b_y_n)     \n",
    "        obs_im[clip_y(p_y/res), clip_x(p_x/res), r] += 1\n",
    "\n",
    "#obs_im /= max_runs\n",
    "print('Aggregated observations')\n",
    "plt.imshow(obs_im)\n",
    "\n",
    "#"
   ]
  },
  {
   "cell_type": "code",
   "execution_count": 63,
   "id": "antique-rebate",
   "metadata": {
    "code_folding": [
     0
    ]
   },
   "outputs": [
    {
     "name": "stdout",
     "output_type": "stream",
     "text": [
      "Segmentation map without kernel smoothing\n"
     ]
    },
    {
     "data": {
      "image/png": "[encoded data removed]",
      "text/plain": [
       "<Figure size 432x288 with 1 Axes>"
      ]
     },
     "metadata": {
      "needs_background": "light"
     },
     "output_type": "display_data"
    }
   ],
   "source": [
    "# Mapping using Dirichlet as Conjugate Prior\n",
    "\n",
    "grid_alpha_c = np.full((H, W, 4), (1.0, 1.0, 1.0, 1.0)) # if prior is less than 1, there will be a problem. \n",
    "for y in range(H):\n",
    "    for x in range(W):   \n",
    "        obs = obs_im[y, x, :]\n",
    "        grid_alpha_c[y, x, 0] += obs[0]\n",
    "        grid_alpha_c[y, x, 1] += obs[1] \n",
    "        grid_alpha_c[y, x, 2] += obs[2]\n",
    "        grid_alpha_c[y, x, 3] += max_runs - np.sum(obs)\n",
    "        \n",
    "pred_im = np.zeros((H, W, 3))\n",
    "for y in range(H):\n",
    "    for x in range(W):\n",
    "        r = grid_alpha_c[y, x, 0]\n",
    "        g = grid_alpha_c[y, x, 1]\n",
    "        b = grid_alpha_c[y, x, 2]\n",
    "        u = grid_alpha_c[y, x, 3]\n",
    "        #total = r + g + b + u\n",
    "        #pred_im[y, x, 0] = (r-1) / (total-4)\n",
    "        #pred_im[y, x, 1] = (g-1) / (total-4)\n",
    "        #pred_im[y, x, 2] = (b-1) / (total-4)\n",
    "        total = r + g + b\n",
    "        if (total <= 3):\n",
    "            continue;\n",
    "        pred_im[y, x, 0] = (r-1) / (total-3)\n",
    "        pred_im[y, x, 1] = (g-1) / (total-3)\n",
    "        pred_im[y, x, 2] = (b-1) / (total-3)\n",
    "\n",
    "pred_im_no_kernel = pred_im\n",
    "\n",
    "def hacky_region_growing(pred_im):\n",
    "    for col in range(W):\n",
    "        last_pixel_l_line = -1\n",
    "        first_pixel_r_line = -1\n",
    "        for row in range(H):\n",
    "            if row < H / 2 and pred_im[row, col, 1] > 0:\n",
    "                last_pixel_l_line = row\n",
    "            if row > H / 2 and pred_im[row, col, 1] > 0:\n",
    "                first_pixel_r_line = row\n",
    "                break\n",
    "        if last_pixel_l_line != -1 and first_pixel_r_line != -1:\n",
    "            pred_im[last_pixel_l_line+1:first_pixel_r_line, col, 2] = 1\n",
    "    return pred_im\n",
    "\n",
    "pred_im_no_kernel = hacky_region_growing(pred_im)\n",
    "plt.imshow(pred_im_no_kernel)\n",
    "print('Segmentation map without kernel smoothing')\n",
    "\n",
    "#"
   ]
  },
  {
   "cell_type": "code",
   "execution_count": 60,
   "id": "lyric-roman",
   "metadata": {
    "code_folding": [
     0
    ]
   },
   "outputs": [
    {
     "data": {
      "image/png": "[encoded data removed]",
      "text/plain": [
       "<Figure size 432x288 with 1 Axes>"
      ]
     },
     "metadata": {
      "needs_background": "light"
     },
     "output_type": "display_data"
    }
   ],
   "source": [
    "# A Sparse kernels\n",
    "\n",
    "import math\n",
    "def kernel_xy(x, y, l):\n",
    "    d = math.sqrt((x[0]-y[0]) ** 2 +  (x[1]-y[1]) ** 2)\n",
    "    return kernel(d, l)\n",
    "\n",
    "def kernel(d, l):\n",
    "    s = 0.1    \n",
    "    ret = s * ((2+np.cos(2*math.pi*d/l))/3.0 * (1-d/l)  +  np.sin(2*math.pi*d/l)/(2*math.pi))\n",
    "    ret[d >= l] = 0\n",
    "    return ret\n",
    "\n",
    "x_range = np.linspace(-2, 2, 1000)\n",
    "y = kernel(np.abs(x_range), 0.5)\n",
    "plt.subplots()\n",
    "plt.plot(x_range, y, linewidth=3, color='b')\n",
    "plt.show()\n",
    "\n",
    "#"
   ]
  },
  {
   "cell_type": "code",
   "execution_count": 62,
   "id": "cooperative-surveillance",
   "metadata": {
    "code_folding": [
     0
    ]
   },
   "outputs": [
    {
     "name": "stderr",
     "output_type": "stream",
     "text": [
      "Clipping input data to the valid range for imshow with RGB data ([0..1] for floats or [0..255] for integers).\n"
     ]
    },
    {
     "name": "stdout",
     "output_type": "stream",
     "text": [
      "Segmentation map with sparse kernel smoothing\n"
     ]
    },
    {
     "data": {
      "image/png": "[encoded data removed]",
      "text/plain": [
       "<Figure size 432x288 with 1 Axes>"
      ]
     },
     "metadata": {
      "needs_background": "light"
     },
     "output_type": "display_data"
    }
   ],
   "source": [
    "# Segmentation map with kernel smoothing\n",
    "\n",
    "grid_alpha_c = np.full((H, W, 4), (1.0, 1.0, 1.0, 1.0))\n",
    "l = 0.3\n",
    "l_in_pixel = int(l / res)\n",
    "for y in range(H):\n",
    "    for x in range(W):\n",
    "        for j in range(-l_in_pixel, l_in_pixel+1):\n",
    "            for i in range(-l_in_pixel, l_in_pixel+1):\n",
    "                yj = y + j\n",
    "                xi = x + i\n",
    "                if 0 <= yj and yj < H and 0 <= xi and xi < W:\n",
    "                    obs = obs_im[yj, xi, :]\n",
    "                    kernel_dist = kernel(np.array([math.sqrt((i*res)**2 + (j*res)**2)]), l)\n",
    "                    grid_alpha_c[y, x, 0] += kernel_dist * obs[0]\n",
    "                    grid_alpha_c[y, x, 1] += kernel_dist * obs[1]\n",
    "                    grid_alpha_c[y, x, 2] += kernel_dist * obs[2]\n",
    "                    grid_alpha_c[y, x, 3] += kernel_dist * (max_runs - np.sum(obs))\n",
    "        \n",
    "pred_im = np.zeros((H, W, 3))\n",
    "for y in range(H):\n",
    "    for x in range(W):\n",
    "        r = grid_alpha_c[y, x, 0]\n",
    "        g = grid_alpha_c[y, x, 1]\n",
    "        b = grid_alpha_c[y, x, 2]\n",
    "        u = grid_alpha_c[y, x, 3]\n",
    "        #total = r + g + b + u\n",
    "        #pred_im[y, x, 0] = (r-1) / (total-4)\n",
    "        #pred_im[y, x, 1] = (g-1) / (total-4)\n",
    "        #pred_im[y, x, 2] = (b-1) / (total-4)\n",
    "        total = r + g + b\n",
    "        if (total <= 3):\n",
    "            continue;\n",
    "        pred_im[y, x, 0] = (r-1) / (total-3)\n",
    "        pred_im[y, x, 1] = (g-1) / (total-3)\n",
    "        pred_im[y, x, 2] = (b-1) / (total-3)\n",
    "plt.imshow(hacky_region_growing(pred_im))\n",
    "print('Segmentation map with sparse kernel smoothing')\n",
    "\n",
    "#"
   ]
  },
  {
   "cell_type": "markdown",
   "id": "coastal-disease",
   "metadata": {},
   "source": [
    "Reference:\n",
    "- Lu, `Bayesian Spatial Kernel Smoothing for Scalable Dense Semantic Mapping`\n",
    "- Thrun, `Probabilistic Robotics`\n",
    "- Tu, `The Dirichlet-Multinomial and Dirichlet-Categorical models for Bayesian inference`"
   ]
  }
 ],
 "metadata": {
  "kernelspec": {
   "display_name": "Python 3",
   "language": "python",
   "name": "python3"
  },
  "language_info": {
   "codemirror_mode": {
    "name": "ipython",
    "version": 3
   },
   "file_extension": ".py",
   "mimetype": "text/x-python",
   "name": "python",
   "nbconvert_exporter": "python",
   "pygments_lexer": "ipython3",
   "version": "3.9.1"
  },
  "toc": {
   "base_numbering": 1,
   "nav_menu": {},
   "number_sections": true,
   "sideBar": true,
   "skip_h1_title": false,
   "title_cell": "Table of Contents",
   "title_sidebar": "Contents",
   "toc_cell": false,
   "toc_position": {},
   "toc_section_display": true,
   "toc_window_display": true
  }
 },
 "nbformat": 4,
 "nbformat_minor": 5
}
