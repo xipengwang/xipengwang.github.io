{
 "cells": [
  {
   "cell_type": "markdown",
   "id": "oriented-double",
   "metadata": {},
   "source": [
    "# Autonomous Robots"
   ]
  },
  {
   "cell_type": "markdown",
   "id": "animal-repository",
   "metadata": {},
   "source": [
    "## Introduction\n",
    "\n",
    "There are lots of great books about autonomous mobile robots out there. Personally, most of them try to provide comprehensive and deep views on too many topics. In contrary to them, I am trying to provide the minimal (I hope) contents you need to know to build an autonomous mobile robot."
   ]
  },
  {
   "cell_type": "markdown",
   "id": "distinct-universe",
   "metadata": {},
   "source": [
    "## Chapters\n",
    "\n",
    "1. Introduction\n",
    "2. [Linear algebra]({% post_url 2021-01-29-autonomous-rotots-linear-algebra %})\n",
    "3. [Probability]({% post_url 2021-02-05-autonomous-rotots-probability %})\n",
    "4. Gaussian distribution\n",
    "      * Covariance projection\n",
    "5. Non-linear optimization\n",
    "6. Position and Orientation\n",
    "7. Map Representations\n",
    "  * Geometry map\n",
    "  * Semantic map\n",
    "8. Filters\n",
    "  * KF, EKF, Particle filters\n",
    "9. Perception\n",
    "  * Sensors\n",
    "  * Detection\n",
    "  * Tracking\n",
    "10. Localization\n",
    "11. Mapping\n",
    "  * Offline\n",
    "  * SLAM\n",
    "12. Planning and Control\n",
    "  * Route planning\n",
    "  * Path planning\n",
    "  * Control\n",
    "    * PID\n",
    "    * MPC\n"
   ]
  }
 ],
 "metadata": {
  "kernelspec": {
   "display_name": "Python 3",
   "language": "python",
   "name": "python3"
  },
  "language_info": {
   "codemirror_mode": {
    "name": "ipython",
    "version": 3
   },
   "file_extension": ".py",
   "mimetype": "text/x-python",
   "name": "python",
   "nbconvert_exporter": "python",
   "pygments_lexer": "ipython3",
   "version": "3.9.1"
  },
  "toc": {
   "base_numbering": 1,
   "nav_menu": {},
   "number_sections": true,
   "sideBar": true,
   "skip_h1_title": false,
   "title_cell": "Table of Contents",
   "title_sidebar": "Contents",
   "toc_cell": false,
   "toc_position": {},
   "toc_section_display": true,
   "toc_window_display": false
  }
 },
 "nbformat": 4,
 "nbformat_minor": 5
}
