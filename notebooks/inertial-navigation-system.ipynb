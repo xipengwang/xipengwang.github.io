{
 "cells": [
  {
   "cell_type": "markdown",
   "id": "gothic-hawaii",
   "metadata": {},
   "source": [
    "# Inertial Navigation System"
   ]
  },
  {
   "cell_type": "markdown",
   "id": "dominican-northern",
   "metadata": {},
   "source": [
    "## Coordinate Frames"
   ]
  },
  {
   "cell_type": "markdown",
   "id": "opposite-hawaiian",
   "metadata": {},
   "source": [
    "**The body frame b** is the coordinate frame of the moving IMU. Its origin is located in the center of the accelerometer triad and it is aligned to the casing. All the inertial measurements are resolved in this frame.\n",
    "\n",
    "**The local navigation frame n** is a local geographic frame in which we want to navigate. We are interested in the position and orientation of the **b-frame** with respect to this **n-frame**. \n",
    "\n",
    "**The inertial frame i** is a stationary frame. The IMU measures linear acceleration and angular velocity with respect to this frame. Its origin is located at the center of the earth and its axes are aligned with respect to the stars.\n",
    "\n",
    "**The earth (ECEF) frame e** coincides with the i-frame, but rotates with the earth. That is, it has its origin at the center of the earth and axes which are fixed with respect to the earth."
   ]
  },
  {
   "cell_type": "markdown",
   "id": "impressive-option",
   "metadata": {},
   "source": [
    "## IMU measurements"
   ]
  },
  {
   "cell_type": "markdown",
   "id": "detailed-butler",
   "metadata": {},
   "source": [
    "### Angular Velocity"
   ]
  },
  {
   "cell_type": "markdown",
   "id": "limiting-castle",
   "metadata": {},
   "source": [
    "The gyroscope measures the angular velocity of the body frame with respect to the inertial frame, expressed in the body frame denoted by $\\omega_{ib}^b$ . \n",
    "$$\n",
    "\\begin{align}\n",
    "\\omega_{ib}^b = R^{bn}(\\omega_{ie}^n + \\omega_{en}^n) + \\omega_{nb}^b\n",
    "\\end{align}\n",
    "$$"
   ]
  },
  {
   "cell_type": "markdown",
   "id": "favorite-shark",
   "metadata": {},
   "source": [
    "where $R^{bn}$ is a rotation matrix from local navigation frame to body frame. $\\omega_{ie}^n$ is the earth rotating rate with respected to inertial frame expressed in local navigation frame, which is about $7.29*10^{−5}\\ \\text{rad/s}$. $\\omega_{en}^n$ is 0 if the local navigation system is defined stationary on the earth."
   ]
  },
  {
   "cell_type": "markdown",
   "id": "unable-discretion",
   "metadata": {},
   "source": [
    "### Linear  Acceleration "
   ]
  },
  {
   "cell_type": "markdown",
   "id": "instructional-forge",
   "metadata": {},
   "source": [
    "The accelerometer measures the specific force $a^b$ in the body frame.\n",
    "$$\n",
    "\\begin{align}\n",
    "a_{ii}^b = R^{bn}(a_{ii}^n - g^n)\n",
    "\\end{align}\n",
    "$$\n",
    "where $g$ is the gravity vector expressed in local navigation frame, and $a_{ii}^n$ is the linear acceleration expressed in local navigation frame.\n",
    "$$\n",
    "\\begin{align}\n",
    "a_{ii}^n = R^{ni}a_{ii}^i\n",
    "\\end{align}\n",
    "$$"
   ]
  },
  {
   "cell_type": "markdown",
   "id": "recognized-haven",
   "metadata": {},
   "source": [
    "The velocity and acceleration can be obtained by differentiation in a corresponding frame as:\n",
    "$$\n",
    "\\begin{align}\n",
    "\\frac{\\partial}{\\partial{t}}p^n|_n = v_n^n \\\\ \n",
    "\\frac{\\partial}{\\partial{t}}v^n|_n = a_{nn}^n \\\\\n",
    "\\end{align}\n",
    "$$"
   ]
  },
  {
   "cell_type": "markdown",
   "id": "structural-toyota",
   "metadata": {},
   "source": [
    "**Concept Review**"
   ]
  },
  {
   "cell_type": "markdown",
   "id": "informational-stanford",
   "metadata": {},
   "source": [
    "Suppose we have a frame v is only rotating with respect to frame u, then in general we have:"
   ]
  },
  {
   "cell_type": "markdown",
   "id": "bored-yugoslavia",
   "metadata": {},
   "source": [
    "$$\n",
    "\\begin{align}\n",
    "\\frac{\\partial}{\\partial{t}}x^u|_u &= \\frac{\\partial}{\\partial{t}}R^{uv}x^v|_u \\\\\n",
    "&= R^{uv}\\frac{\\partial}{\\partial{t}}x^v|_v + \\frac{\\partial}{\\partial{t}}R^{uv}x^v \\\\\n",
    "&= R^{uv}\\frac{\\partial}{\\partial{t}}x^v|_v + [\\omega_{uv}^{u}]_{\\times}R^{uv}x^v \\\\\n",
    "&= R^{uv}\\frac{\\partial}{\\partial{t}}x^v|_v + [\\omega_{uv}^{u}]_{\\times}x^u\n",
    "\\end{align}\n",
    "$$\n"
   ]
  },
  {
   "cell_type": "markdown",
   "id": "expensive-nicholas",
   "metadata": {},
   "source": [
    "$$\n",
    "\\begin{align}\n",
    "\\frac{\\partial}{\\partial{t}}x^u|_u &= \\frac{\\partial}{\\partial{t}}R^{uv}x^v|_u \\\\\n",
    "&= R^{uv}\\frac{\\partial}{\\partial{t}}x^v|_v + \\frac{\\partial}{\\partial{t}}R^{uv}x^v \\\\\n",
    "&= R^{uv}\\frac{\\partial}{\\partial{t}}x^v|_v + R^{uv}[\\omega_{uv}^{v}]_{\\times}x^v \\\\\n",
    "&= R^{uv}(\\frac{\\partial}{\\partial{t}}x^v|_v + [\\omega_{uv}^{v}]_{\\times}x^v)\n",
    "\\end{align}\n",
    "$$"
   ]
  },
  {
   "cell_type": "markdown",
   "id": "breathing-calculation",
   "metadata": {},
   "source": [
    "Suppose we have a frame v is rotating and moving with respect to frame u, then in general we have:"
   ]
  },
  {
   "cell_type": "markdown",
   "id": "exceptional-institute",
   "metadata": {},
   "source": [
    "$$\n",
    "\\begin{align}\n",
    "\\frac{\\partial}{\\partial{t}}x^u|_u &= \\frac{\\partial}{\\partial{t}}(R^{uv}x^v+r_{uv}^u)|_u \\\\\n",
    "&= R^{uv}\\frac{\\partial}{\\partial{t}}x^v|_v + \\frac{\\partial}{\\partial{t}}R^{uv}x^v + \\frac{\\partial}{\\partial{t}}r_{uv}^u|_u\\\\\n",
    "&= R^{uv}\\frac{\\partial}{\\partial{t}}x^v|_v + R^{uv}[\\omega_{uv}^{v}]_{\\times}x^v + \\frac{\\partial}{\\partial{t}}r_{uv}^u|_u\\\\\n",
    "&= R^{uv}(\\frac{\\partial}{\\partial{t}}x^v|_v + [\\omega_{uv}^{v}]_{\\times}x^v) + \\frac{\\partial}{\\partial{t}}r_{uv}^u|_u\n",
    "\\end{align}\n",
    "$$"
   ]
  },
  {
   "cell_type": "markdown",
   "id": "smaller-demand",
   "metadata": {},
   "source": [
    "where $\\frac{\\partial}{\\partial{t}}r_{uv}^u|_u$ is the moving speed, $\\omega_{uv}^{v}$ is angular velocity expressed in the moving frame $v$."
   ]
  },
  {
   "cell_type": "markdown",
   "id": "experienced-coral",
   "metadata": {},
   "source": [
    "So suppose b frame, e.g. earth frame, is rotating with respect g frame, e.g. inertial frame, but without any translation, given $v = [\\omega]_{\\times}r $, then for a point $p$ in frame b, we have its velocity and acceleration expressed in frame g as:\n",
    "$$\n",
    "\\begin{align}\n",
    "v^g_{g} &= R^{gb}(v^b_{b} +[\\omega_{gb}^b]_{\\times}r_{o^{b}p}^b) \\\\\n",
    "a^g_{gg} &= R^{gb}(a^b_{bb} + \\dot{\\omega}_{gb}^b + 2[\\omega_{gb}^b]_{\\times}v^b_{b} + [\\omega_{gb}^b]_{\\times}([\\omega_{gb}^b]_{\\times}r_{o^{b}p}^b))\n",
    "\\end{align}\n",
    "$$\n",
    "where $\\dot{\\omega}_{gb}^b$ is angular acceleration, $2[\\omega_{gb}^b]_{\\times}v^b_{b}$ is Coriolis acceleration, $[\\omega_{gb}^b]_{\\times}([\\omega_{gb}^b]_{\\times}r_{o^{b}p}^b$ is Centripetal acceleration.  "
   ]
  },
  {
   "cell_type": "markdown",
   "id": "asian-posting",
   "metadata": {},
   "source": [
    "Since earth frame is only rotating around the inertial frame, so we can get:\n",
    "$$\n",
    "\\begin{align}\n",
    "v_{i}^i &= R^{ie}(v_e^e +  [\\omega_{ie}^e]_{\\times}r_{o^{e}p}^e)\\\\\n",
    "&=v^i_e + [\\omega_{ie}^i]_{\\times}r_{o^{e}p}^i\\\\\n",
    "a_{ii}^i &= R^{ie}(a_{ee}^e + + \\dot{\\omega}_{ie}^e + 2[\\omega_{ie}^e]_{\\times}v^e_{e} + [\\omega_{ie}^e]_{\\times}([\\omega_{ie}^e]_{\\times}r_{o^{e}p}^e))\\\\\n",
    "&= a^i_{ee} + 0 + 2[\\omega_{ie}^i]_{\\times}v_e^i + [\\omega_{ie}^i]_{\\times}([\\omega_{ie}^i]_{\\times}r_{o^{e}p}^i)\n",
    "\\end{align}\n",
    "$$\n",
    "where we assume the angular velocity of the earth is constant, i.e. $\\dot{\\omega}_{ie}^e = 0$"
   ]
  },
  {
   "cell_type": "markdown",
   "id": "general-hanging",
   "metadata": {},
   "source": [
    "Similarly, we can get the velocity and acceleration relation between earth frame and navigation frame where we assume navigation frame is stationary with respect to the earth frame, i.e. $[\\omega_{en}^n] = 0$: \n",
    "$$\n",
    "\\begin{align}\n",
    "v_{e}^e &= R^{en}(v_n^n +  [\\omega_{en}^n]_{\\times}r_{o^{n}p}^n)\\\\\n",
    "&=v^e_n \\\\\n",
    "v_e^n &= R^{ne}v_n^e = v_n^n \\\\\n",
    "a_{ee}^e &= R^{en}(a_{nn}^n + + \\dot{\\omega}_{en}^e + 2[\\omega_{en}^n]_{\\times}v^n_{n} + [\\omega_{en}^n]_{\\times}([\\omega_{en}^n]_{\\times}r_{o^{n}p}^n))\\\\\n",
    "&= a^e_{nn} \\\\\n",
    "a_{ee}^n &= R^{ne}a_{nn}^e = a_{nn}^n\n",
    "\\end{align}\n",
    "$$\n"
   ]
  },
  {
   "cell_type": "markdown",
   "id": "military-summer",
   "metadata": {},
   "source": [
    "Because we have:\n",
    "$$\n",
    "\\begin{align}\n",
    "v_e^n &= R^{ne}v_n^e = v_n^n \\\\\n",
    "a_{ee}^n &= R^{ne}a_{nn}^e = a_{nn}^n\n",
    "\\end{align}\n",
    "$$"
   ]
  },
  {
   "cell_type": "markdown",
   "id": "professional-sentence",
   "metadata": {},
   "source": [
    "**Finally, we get an important equation:**\n",
    "$$\n",
    "\\begin{align}\n",
    "a_{ii}^n &= R^{ni}a_{ii}^i \\\\\n",
    "& = R^{ni}(a^i_{ee} + 0 + 2[\\omega_{ie}^i]_{\\times}v_e^i + [\\omega_{ie}^i]_{\\times}([\\omega_{ie}^i]_{\\times}r_{o^{e}p}^i)) \\\\\n",
    "& = a^n_{ee} + 2[\\omega_{ie}^n]_{\\times}v_e^n + [\\omega_{ie}^n]_{\\times}([\\omega_{ie}^n]_{\\times}r_{o^{e}p}^n)\\\\\n",
    "& = a^n_{nn} + 2[\\omega_{ie}^n]_{\\times}v_n^n + [\\omega_{ie}^n]_{\\times}([\\omega_{ie}^n]_{\\times}r_{o^{e}p}^n)\n",
    "\\end{align}\n",
    "$$"
   ]
  },
  {
   "cell_type": "markdown",
   "id": "twelve-karma",
   "metadata": {},
   "source": [
    "Recall that we have the measurement model as:\n",
    " $$\n",
    "\\begin{align}\n",
    "a^b = R^{bn}(a_{ii}^n - g^n)\n",
    "\\end{align}\n",
    "$$\n",
    "So we can get a correlation between the measurement $a^b$ and the acceleration state $a^n_{nn}$ in local navigation frame."
   ]
  },
  {
   "cell_type": "markdown",
   "id": "pretty-punishment",
   "metadata": {},
   "source": [
    "Normally, because Centrifugal acceleration is small in the order of $10^{−2}\\ m/s^2$ given earth rotation is about $7.29*10^{−5}\\ \\text{rad}/s$. For Coriolis acceleration, when car travel 80 miles per hour, it is in the order of $10^{−3}\\ m/s^2$. **So we can normally use** $a_{ii}^n = a_{nn}^n$ "
   ]
  },
  {
   "cell_type": "markdown",
   "id": "federal-manor",
   "metadata": {},
   "source": [
    "**So we have the measurement model as:**\n",
    "Recall that we have the measurement model as:\n",
    "$$\n",
    "\\begin{align}\n",
    "a^b = R^{bn}(a_{nn}^n - g^n)\n",
    "\\end{align}\n",
    "$$"
   ]
  },
  {
   "cell_type": "markdown",
   "id": "dimensional-target",
   "metadata": {},
   "source": [
    "### Measurement Model"
   ]
  },
  {
   "cell_type": "markdown",
   "id": "compact-valuation",
   "metadata": {},
   "source": [
    "#### Gyroscope measurement models"
   ]
  },
  {
   "cell_type": "markdown",
   "id": "thick-group",
   "metadata": {},
   "source": [
    "The gyroscope measures the angular velocity $\\omega^{b}_{ib} $ at each time instance $t$, but its measurements are corrupted by a slowly time-varying bias $\\delta_{\\omega,t}$, and noise $e_{\\omega,t}$:\n",
    "$$\n",
    "\\begin{align}\n",
    "y_{\\omega,t} = \\omega^{b}_{ib,t} + \\delta_{\\omega,t}^b + e_{\\omega,t}^b\n",
    "\\end{align}\n",
    "$$"
   ]
  },
  {
   "cell_type": "markdown",
   "id": "resident-defendant",
   "metadata": {},
   "source": [
    "where $e_{\\omega,t}^b \\sim \\mathcal{N}(0, \\Sigma_{\\omega})$. If the gyroscope is properly calibrated, we can think that measurements in three gyroscope axes are independent."
   ]
  },
  {
   "cell_type": "markdown",
   "id": "productive-allowance",
   "metadata": {},
   "source": [
    "The gyroscope bias $\\delta_{\\omega,t}^b$ is slowly time-varying:\n",
    "$$\n",
    "\\begin{align}\n",
    "\\delta_{\\omega,t+1}^b = \\delta_{\\omega,t}^b + e_{\\delta_{\\omega},t}^b\n",
    "\\end{align}\n",
    "$$\n",
    "where $e_{\\delta_{\\omega},t}^b \\sim \\mathcal{N}(0, \\Sigma_{\\delta_{\\omega}})$"
   ]
  },
  {
   "cell_type": "markdown",
   "id": "micro-passenger",
   "metadata": {},
   "source": [
    "From previous section we have $\\omega_{ib}^b = R^{bn}(\\omega_{ie}^n + \\omega_{en}^n) + \\omega_{nb}^b$. If we assume local navigation frame is stationary and neglect earth rotation, we can get:\n",
    "$$\n",
    "\\begin{align}\n",
    "\\omega_{ib}^b = \\omega_{nb}^b\n",
    "\\end{align}\n",
    "$$"
   ]
  },
  {
   "cell_type": "markdown",
   "id": "packed-genesis",
   "metadata": {},
   "source": [
    "Then we can get **gyroscope measurement model** as:\n",
    "$$\n",
    "\\begin{align}\n",
    "y_{\\omega,t} = \\omega^{b}_{nb,t} + \\delta_{\\omega,t}^b + e_{\\omega,t}^b\n",
    "\\end{align}\n",
    "$$"
   ]
  },
  {
   "cell_type": "markdown",
   "id": "medium-bachelor",
   "metadata": {},
   "source": [
    "#### Accelerometer measurement models"
   ]
  },
  {
   "cell_type": "markdown",
   "id": "short-stability",
   "metadata": {},
   "source": [
    "The accelerometer measures the acceleration $a^{b}_{ii} $ at each time instance $t$, but its measurements are corrupted by a slowly time-varying bias $\\delta_{a,t}$, and noise $e_{a,t}$:\n",
    "$$\n",
    "\\begin{align}\n",
    "y_{a,t} = a^{b}_{ii,t} + \\delta_{a,t}^b + e_{a,t}^b\n",
    "\\end{align}\n",
    "$$"
   ]
  },
  {
   "cell_type": "markdown",
   "id": "instant-sweet",
   "metadata": {},
   "source": [
    "where $e_{a,t}^b \\sim \\mathcal{N}(0, \\Sigma_{a})$. If the gyroscope is properly calibrated, we can think that measurements in three gyroscope axes are independent."
   ]
  },
  {
   "cell_type": "markdown",
   "id": "devoted-firmware",
   "metadata": {},
   "source": [
    "The accelerometer bias $\\delta_{a,t}^b$ is slowly time-varying:\n",
    "$$\n",
    "\\begin{align}\n",
    "\\delta_{a,t+1}^b = \\delta_{a,t}^b + e_{\\delta_{a},t}^b\n",
    "\\end{align}\n",
    "$$\n",
    "where $e_{\\delta_{a},t}^b \\sim \\mathcal{N}(0, \\Sigma_{\\delta_{a}})$"
   ]
  },
  {
   "cell_type": "markdown",
   "id": "proper-blackberry",
   "metadata": {},
   "source": [
    "As we discussed in the previous section that we have $a_{ii}^b = R^{bn}(a_{ii}^n - g^n)$, then\n",
    "$$\n",
    "\\begin{align}\n",
    "y_{a,t} = a^{b}_{ii,t} + \\delta_{a,t}^b + e_{a,t}^b\n",
    "\\end{align}\n",
    "$$"
   ]
  },
  {
   "cell_type": "markdown",
   "id": "humanitarian-extra",
   "metadata": {},
   "source": [
    "If we neglect Centrifugal acceleration and Coriolis acceleration, we have $a_{ii}^n = a_{nn}^n$, the we can get **accelerometer measurement model** as:\n",
    "$$\n",
    "\\begin{align}\n",
    "y_{a,t} = R^{bn}(a_{nn}^n - g^n) + \\delta_{a,t}^b + e_{a,t}^b\n",
    "\\end{align}\n",
    "$$"
   ]
  },
  {
   "cell_type": "markdown",
   "id": "ranking-numbers",
   "metadata": {},
   "source": [
    "## State and Dynamics"
   ]
  },
  {
   "cell_type": "markdown",
   "id": "correct-element",
   "metadata": {},
   "source": [
    "Recall that we have two measurement models: \n",
    "$$\n",
    "\\begin{align}\n",
    "y_{\\omega,t} &= \\omega^{b}_{nb,t} + \\delta_{\\omega,t}^b + e_{\\omega,t}^b \\\\\n",
    "y_{a,t} &= R^{bn}(a_{nn}^n - g^n) + \\delta_{a,t}^b + e_{a,t}^b\n",
    "\\end{align}\n",
    "$$"
   ]
  },
  {
   "cell_type": "markdown",
   "id": "convenient-steering",
   "metadata": {},
   "source": [
    "### Constant Acceleration Model"
   ]
  },
  {
   "cell_type": "markdown",
   "id": "heavy-wheel",
   "metadata": {},
   "source": [
    "We can have a state vector as $x_t = (p_t^n, v_{n,t}^n, a_{nn,t}^n, \\delta_{a,t}^b, q^{nb}_t, \\omega^b_{nb, t}, \\delta_{\\omega,t}^b )$. "
   ]
  },
  {
   "cell_type": "markdown",
   "id": "superb-constitutional",
   "metadata": {},
   "source": [
    "Assume that acceleration is constant and angular velocity is constant, we can get:\n",
    "$$\n",
    "\\begin{align}\n",
    "p_{t+1}^n   &= p_t^n + T v_{n,t}^n + \\frac{T^2}{2}a_{nn,t}^n \\\\\n",
    "v_{n,t+1}^n &= v_{n,t}^n + T a_{nn,t}^n \\\\\n",
    "a_{nn,t+1}^n &= a_{nn,t} + e_{a,t} \\\\\n",
    "\\delta_{a,t+1}^b &= \\delta_{a,t}^b + e_{\\delta_{a},t}^b \\\\\n",
    "q^{nb}_{t+1} &= q^{nb}_t  \\odot Exp_q(\\frac{T}{2}\\omega^b_{nb, t}) = R^{nb}_t Exp_R(T\\omega^b_{nb, t})\\\\\n",
    "\\omega^b_{nb, t+1} &= \\omega^b_{nb, t} + e_{\\omega,t} \\\\\n",
    "\\delta_{\\omega,t+1}^b &= \\delta_{\\omega,t}^b + e_{\\delta_{\\omega},t}^b\n",
    "\\end{align}\n",
    "$$"
   ]
  },
  {
   "cell_type": "markdown",
   "id": "associate-command",
   "metadata": {},
   "source": [
    "where $e_{a,t} \\sim \\mathcal{N}(0, \\Sigma_{a})$, $e_{\\omega,t} \\sim \\mathcal{N}(0, \\Sigma_{\\omega})$. $Exp()$ is an exponential operation as:\n",
    "$$\n",
    "\\begin{align}\n",
    "Exp_q(\\eta) &= (cos(\\|\\eta\\|), \\frac{\\eta}{\\|\\eta\\|}sin(\\|\\eta\\|)))^T \\\\\n",
    "Exp_R(\\eta) &= \\mathcal{I}_3 + sin(\\|\\eta\\|)[\\frac{\\eta}{\\|\\eta\\|}]_{\\times} + (1-cos(\\|\\eta\\|)[\\frac{\\eta}{\\|\\eta\\|}]_{\\times}^2 \n",
    "\\end{align}\n",
    "$$\n",
    "**Note** for an angle axis vector described as $(\\alpha, \\textbf{n})$, it is equal to $Exp_q(\\frac{\\alpha}{2}\\textbf{n})$ and $Exp_R(\\alpha\\textbf{n})$."
   ]
  },
  {
   "cell_type": "markdown",
   "id": "english-mathematics",
   "metadata": {},
   "source": [
    "### Inertial Measurements Driven Model"
   ]
  },
  {
   "cell_type": "markdown",
   "id": "latest-effectiveness",
   "metadata": {},
   "source": [
    "Instead of modeling $a_{nn,t}^n$ and $\\omega^b_{nb, t}$ in the state vector, we could use IMU's measurements $y_{\\omega,t}$ and $y_{a,t}$ to update the state. Hence, the state vector will be $(p_t^n, v_{n,t}^n, \\delta_{a,t}^b, q^{nb}_t,  \\delta_{\\omega,t}^b )$"
   ]
  },
  {
   "cell_type": "markdown",
   "id": "adequate-termination",
   "metadata": {},
   "source": [
    "$$\n",
    "\\begin{align}\n",
    "p_{t+1}^n   &= p_t^n + T v_{n,t}^n + \\frac{T^2}{2}(q_t^{nb}(y_{a,t}-\\delta_{a,t}^b-e_{a,t}^b)+g^n) \\\\\n",
    "v_{n,t+1}^n &= v_{n,t}^n + T (q_t^{nb}(y_{a,t}-\\delta_{a,t}^b-e_{a,t}^b)+g^n) \\\\\n",
    "\\delta_{a,t+1}^b &= \\delta_{a,t}^b + e_{\\delta_{a},t}^b \\\\\n",
    "q^{nb}_{t+1} &= q^{nb}_t  \\odot Exp_q(\\frac{T}{2}(y_{\\omega, t} - \\delta_{\\omega,t}^b - e_{\\omega,t}^b))\\\\\n",
    "\\delta_{\\omega,t+1}^b &= \\delta_{\\omega,t}^b + e_{\\delta_{\\omega},t}^b\n",
    "\\end{align}\n",
    "$$\n",
    "\n",
    "Note $(q_t^{nb}(y_{a,t}-\\delta_{a,t}^b-e_{a,t}^b)+g^n)$ could be simplified as $(q_t^{nb}(y_{a,t}-\\delta_{a,t}^b)-e_{a,t}^b+g^n)$ if we consider $e_{a,t}$ have same noise for three axes as $\\sim \\mathcal{N}(0, \\sigma_a^2\\mathcal{I}_3)$."
   ]
  },
  {
   "cell_type": "markdown",
   "id": "opposite-tourist",
   "metadata": {},
   "source": [
    "## State Estimation"
   ]
  },
  {
   "cell_type": "markdown",
   "id": "exposed-brooklyn",
   "metadata": {},
   "source": [
    "### Factor Graph based Optimization"
   ]
  },
  {
   "cell_type": "markdown",
   "id": "worthy-glucose",
   "metadata": {},
   "source": [
    "Firstly we will define the cost function to minimize along with the variables we want to optimize over. For position and orientation estimation of INS, if we use state vector as $(p_t^n, v_{n,t}^n, \\delta_{a,t}^b, q^{nb}_t,  \\delta_{\\omega,t}^b )$, we can define the optimization problem as:\n",
    "$$\n",
    "\\begin{align}\n",
    "\\hat{x}_{0:N} = \\underset{x_{0:N}}{\\operatorname{argmin}} \n",
    "\\|e_{p,0}\\|_{\\Sigma^{-1}_{p^n_0}} \n",
    "+ \\|e_{v,0}\\|_{\\Sigma^{-1}_{v^n_0}}\n",
    "+ \\|e_{q,0}\\|_{\\Sigma^{-1}_{q^{nb}_0}}\n",
    "+ \\|e_{p,a,t}\\|_{\\Sigma^{-1}_{e_a}}\n",
    "+ \\|e_{v,a,t}\\|_{\\Sigma^{-1}_{e_a}}\n",
    "+ \\|e_{\\omega,t}\\|_{\\Sigma^{-1}_{e_{\\omega}}}\n",
    "+ \\|e_{\\delta_{\\omega},t}\\|_{\\Sigma^{-1}_{\\delta_{\\omega}}}\n",
    "+ \\|e_{\\delta_{a},t}\\|_{\\Sigma^{-1}_{\\delta_{a}}}\n",
    "+ \\|e_{m,t}\\|_{\\Sigma^{-1}_{e_m}}\n",
    "\\end{align}\n",
    "$$\n",
    "\n",
    "**Note:** we could optimize over state deviation, e.g. orientation deviation $\\eta^{nb}$ instead of orientation $q^{nb}$. "
   ]
  },
  {
   "cell_type": "markdown",
   "id": "expired-filter",
   "metadata": {},
   "source": [
    "Prior errors:\n",
    "$$\n",
    "\\begin{align}\n",
    "e_{p,0} &= p^n_0 - y_{p,0} \\\\\n",
    "e_{v,0} &= v^n_0 - y_{v,0} \\\\\n",
    "e_{q,0} &= Log(q^{nb}_0 \\odot y_{q, 0})\n",
    "\\end{align}\n",
    "$$"
   ]
  },
  {
   "cell_type": "markdown",
   "id": "caring-pencil",
   "metadata": {},
   "source": [
    "IMU dynamics errors:\n",
    "$$\n",
    "\\begin{align}\n",
    "e_{p,a,t} &= \\frac{2}{T^2}(p^n_{t+1} - p^n_{t} - T v^n_{n,t}) - g^n - q^{bn} \\odot(y_{a,t}-\\delta_{a,t}^b) \\\\\n",
    "e_{v,a,t} &= \\frac{1}{T}(v^n_{t+1}-v^n_{t}) - g^n - q^{bn} \\odot(y_{a,t}-\\delta_{a,t}^b)  \\\\\n",
    "e_{\\omega,t} &= \\frac{2}{T}Log(q_t^{bn} \\odot q_{t+1}^{nb}) - y_{\\omega,t} + \\delta_{\\omega,t}\n",
    "\\end{align}\n",
    "$$"
   ]
  },
  {
   "cell_type": "markdown",
   "id": "mighty-conflict",
   "metadata": {},
   "source": [
    "Bias errors:\n",
    "$$\n",
    "\\begin{align}\n",
    "e_{\\delta_{\\omega},t} &= \\delta_{a,t+1}^b - \\delta_{a,t}^b\\\\\n",
    "e_{\\delta_{a},t} &= \\delta_{\\omega,t+1}^b - \\delta_{\\omega,t}^b\n",
    "\\end{align}\n",
    "$$"
   ]
  },
  {
   "cell_type": "markdown",
   "id": "adult-following",
   "metadata": {},
   "source": [
    "Measurement errors:\n",
    "- Position measurements\n",
    "\n",
    "$$\n",
    "\\begin{align}\n",
    "e_{m,t} &= p^n_t - y_{p,t}\n",
    "\\end{align}\n",
    "$$\n",
    "\n",
    "- Velocity measurements from wheel-encoder\n",
    "\n",
    "$$\n",
    "\\begin{align}\n",
    "e_{m,t} &= R^{vb}R^{bn}v^n_{n,t} - y_{v,t}\n",
    "\\end{align}\n",
    "$$\n",
    "\n",
    "- Zero angular velocity\n",
    "$$\n",
    "\\begin{align}\n",
    "e_{m,t} &= Log(q_t^{bn} \\odot q_{t+1}^{nb})\n",
    "\\end{align}\n",
    "$$\n",
    "- Zero linear velocity\n",
    "$$\n",
    "\\begin{align}\n",
    "e_{m,t} &= v_t^n\n",
    "\\end{align}\n",
    "$$\n",
    "- Zero acceleration \n",
    "$$\n",
    "\\begin{align}\n",
    "e_{m,t} &= v_{t+1}^n - v_t^n\n",
    "\\end{align}\n",
    "$$"
   ]
  },
  {
   "cell_type": "markdown",
   "id": "broadband-distributor",
   "metadata": {},
   "source": [
    "I think a challenge to use IMU measurements driven model is that additional measurements might arrive at different freuqency than IMU measurements. We could interpolate the measurements for batch optimization since we have complete information for the whole time. **TODO: IMU Preintegration on Manifold for Efficient Visual-Inertial Maximum-a-Posteriori Estimation**\n",
    "\n",
    "Alternatively, if we use constant acceleration model, we could handle different measurements easily. However, I think a challenge is to set proper covariance for transition model given different transition time. **TODO: how does open source system work?**"
   ]
  },
  {
   "cell_type": "markdown",
   "id": "distinguished-accreditation",
   "metadata": {},
   "source": [
    "### Extended Kalman Filter based Filtering"
   ]
  }
 ],
 "metadata": {
  "kernelspec": {
   "display_name": "Python 3",
   "language": "python",
   "name": "python3"
  },
  "language_info": {
   "codemirror_mode": {
    "name": "ipython",
    "version": 3
   },
   "file_extension": ".py",
   "mimetype": "text/x-python",
   "name": "python",
   "nbconvert_exporter": "python",
   "pygments_lexer": "ipython3",
   "version": "3.9.1"
  },
  "toc": {
   "base_numbering": 1,
   "nav_menu": {},
   "number_sections": true,
   "sideBar": true,
   "skip_h1_title": false,
   "title_cell": "Table of Contents",
   "title_sidebar": "Contents",
   "toc_cell": false,
   "toc_position": {},
   "toc_section_display": true,
   "toc_window_display": true
  }
 },
 "nbformat": 4,
 "nbformat_minor": 5
}
