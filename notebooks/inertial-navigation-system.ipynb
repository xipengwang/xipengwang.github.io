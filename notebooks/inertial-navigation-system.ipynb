{
 "cells": [
  {
   "cell_type": "markdown",
   "id": "gothic-hawaii",
   "metadata": {},
   "source": [
    "# Inertial Navigation System"
   ]
  },
  {
   "cell_type": "markdown",
   "id": "color-whole",
   "metadata": {},
   "source": [
    "## Coordinate Frames"
   ]
  },
  {
   "cell_type": "markdown",
   "id": "middle-praise",
   "metadata": {},
   "source": [
    "**The body frame b** is the coordinate frame of the moving IMU. Its origin is located in the center of the accelerometer triad and it is aligned to the casing. All the inertial measurements are resolved in this frame.\n",
    "\n",
    "**The local navigation frame n** is a local geographic frame in which we want to navigate. We are interested in the position and orientation of the **b-frame** with respect to this **n-frame**. \n",
    "\n",
    "**The inertial frame i** is a stationary frame. The IMU measures linear acceleration and angular velocity with respect to this frame. Its origin is located at the center of the earth and its axes are aligned with respect to the stars.\n",
    "\n",
    "**The earth (ECEF) frame e** coincides with the i-frame, but rotates with the earth. That is, it has its origin at the center of the earth and axes which are fixed with respect to the earth."
   ]
  },
  {
   "cell_type": "markdown",
   "id": "passing-truck",
   "metadata": {},
   "source": [
    "## IMU measurements"
   ]
  },
  {
   "cell_type": "markdown",
   "id": "suspected-picture",
   "metadata": {},
   "source": [
    "### Angular Velocity"
   ]
  },
  {
   "cell_type": "markdown",
   "id": "altered-violation",
   "metadata": {},
   "source": [
    "The gyroscope measures the angular velocity of the body frame with respect to the inertial frame, expressed in the body frame denoted by $\\omega_{ib}^b$ . \n",
    "$$\n",
    "\\begin{align}\n",
    "\\omega_{ib}^b = R^{bn}(\\omega_{ie}^n + \\omega_{en}^n) + \\omega_{nb}^b\n",
    "\\end{align}\n",
    "$$"
   ]
  },
  {
   "cell_type": "markdown",
   "id": "excessive-weather",
   "metadata": {},
   "source": [
    "where $R^{bn}$ is a rotation matrix from local navigation frame to body frame. $\\omega_{ie}^n$ is the earth rotating rate with respected to inertial frame expressed in local navigation frame, which is about $7.29*10^{−5}\\ \\text{rad/s}$. $\\omega_{en}^n$ is 0 if the local navigation system is defined stationary on the earth."
   ]
  },
  {
   "cell_type": "markdown",
   "id": "controlling-execution",
   "metadata": {},
   "source": [
    "### Linear  Acceleration "
   ]
  },
  {
   "cell_type": "markdown",
   "id": "hourly-bennett",
   "metadata": {},
   "source": [
    "The accelerometer measures the specific force $a^b$ in the body frame.\n",
    "$$\n",
    "\\begin{align}\n",
    "a_{ii}^b = R^{bn}(a_{ii}^n - g^n)\n",
    "\\end{align}\n",
    "$$\n",
    "where $g$ is the gravity vector expressed in local navigation frame, and $a_{ii}^n$ is the linear acceleration expressed in local navigation frame.\n",
    "$$\n",
    "\\begin{align}\n",
    "a_{ii}^n = R^{ni}a_{ii}^i\n",
    "\\end{align}\n",
    "$$"
   ]
  },
  {
   "cell_type": "markdown",
   "id": "assured-redhead",
   "metadata": {},
   "source": [
    "The velocity and acceleration can be obtained by differentiation in a corresponding frame as:\n",
    "$$\n",
    "\\begin{align}\n",
    "\\frac{\\partial}{\\partial{t}}p^n|_n = v_n^n \\\\ \n",
    "\\frac{\\partial}{\\partial{t}}v^n|_n = a_{nn}^n \\\\\n",
    "\\end{align}\n",
    "$$"
   ]
  },
  {
   "cell_type": "markdown",
   "id": "narrative-hawaiian",
   "metadata": {},
   "source": [
    "**Concept Review**"
   ]
  },
  {
   "cell_type": "markdown",
   "id": "designing-sacramento",
   "metadata": {},
   "source": [
    "Suppose we have a frame v is only rotating with respect to frame u, then in general we have:"
   ]
  },
  {
   "cell_type": "markdown",
   "id": "boring-jefferson",
   "metadata": {},
   "source": [
    "$$\n",
    "\\begin{align}\n",
    "\\frac{\\partial}{\\partial{t}}x^u|_u &= \\frac{\\partial}{\\partial{t}}R^{uv}x^v|_u \\\\\n",
    "&= R^{uv}\\frac{\\partial}{\\partial{t}}x^v|_v + \\frac{\\partial}{\\partial{t}}R^{uv}x^v \\\\\n",
    "&= R^{uv}\\frac{\\partial}{\\partial{t}}x^v|_v + [\\omega_{uv}^{u}]_{\\times}R^{uv}x^v \\\\\n",
    "&= R^{uv}\\frac{\\partial}{\\partial{t}}x^v|_v + [\\omega_{uv}^{u}]_{\\times}x^u\n",
    "\\end{align}\n",
    "$$\n"
   ]
  },
  {
   "cell_type": "markdown",
   "id": "handmade-timer",
   "metadata": {},
   "source": [
    "$$\n",
    "\\begin{align}\n",
    "\\frac{\\partial}{\\partial{t}}x^u|_u &= \\frac{\\partial}{\\partial{t}}R^{uv}x^v|_u \\\\\n",
    "&= R^{uv}\\frac{\\partial}{\\partial{t}}x^v|_v + \\frac{\\partial}{\\partial{t}}R^{uv}x^v \\\\\n",
    "&= R^{uv}\\frac{\\partial}{\\partial{t}}x^v|_v + R^{uv}[\\omega_{uv}^{v}]_{\\times}x^v \\\\\n",
    "&= R^{uv}(\\frac{\\partial}{\\partial{t}}x^v|_v + [\\omega_{uv}^{v}]_{\\times}x^v)\n",
    "\\end{align}\n",
    "$$"
   ]
  },
  {
   "cell_type": "markdown",
   "id": "worst-package",
   "metadata": {},
   "source": [
    "Suppose we have a frame v is rotating and moving with respect to frame u, then in general we have:"
   ]
  },
  {
   "cell_type": "markdown",
   "id": "elect-curve",
   "metadata": {},
   "source": [
    "$$\n",
    "\\begin{align}\n",
    "\\frac{\\partial}{\\partial{t}}x^u|_u &= \\frac{\\partial}{\\partial{t}}(R^{uv}x^v+r_{uv}^u)|_u \\\\\n",
    "&= R^{uv}\\frac{\\partial}{\\partial{t}}x^v|_v + \\frac{\\partial}{\\partial{t}}R^{uv}x^v + \\frac{\\partial}{\\partial{t}}r_{uv}^u|_u\\\\\n",
    "&= R^{uv}\\frac{\\partial}{\\partial{t}}x^v|_v + R^{uv}[\\omega_{uv}^{v}]_{\\times}x^v + \\frac{\\partial}{\\partial{t}}r_{uv}^u|_u\\\\\n",
    "&= R^{uv}(\\frac{\\partial}{\\partial{t}}x^v|_v + [\\omega_{uv}^{v}]_{\\times}x^v) + \\frac{\\partial}{\\partial{t}}r_{uv}^u|_u\n",
    "\\end{align}\n",
    "$$"
   ]
  },
  {
   "cell_type": "markdown",
   "id": "persistent-adams",
   "metadata": {},
   "source": [
    "where $\\frac{\\partial}{\\partial{t}}r_{uv}^u|_u$ is the moving speed, $\\omega_{uv}^{v}$ is angular velocity expressed in the moving frame $v$."
   ]
  },
  {
   "cell_type": "markdown",
   "id": "marine-checklist",
   "metadata": {},
   "source": [
    "So suppose b frame, e.g. earth frame, is rotating with respect g frame, e.g. inertial frame, but without any translation, given $v = [\\omega]_{\\times}r $, then for a point $p$ in frame b, we have its velocity and acceleration expressed in frame g as:\n",
    "$$\n",
    "\\begin{align}\n",
    "v^g_{g} &= R^{gb}(v^b_{b} +[\\omega_{gb}^b]_{\\times}r_{o^{b}p}^b) \\\\\n",
    "a^g_{gg} &= R^{gb}(a^b_{bb} + \\dot{\\omega}_{gb}^b + 2[\\omega_{gb}^b]_{\\times}v^b_{b} + [\\omega_{gb}^b]_{\\times}([\\omega_{gb}^b]_{\\times}r_{o^{b}p}^b))\n",
    "\\end{align}\n",
    "$$\n",
    "where $\\dot{\\omega}_{gb}^b$ is angular acceleration, $2[\\omega_{gb}^b]_{\\times}v^b_{b}$ is Coriolis acceleration, $[\\omega_{gb}^b]_{\\times}([\\omega_{gb}^b]_{\\times}r_{o^{b}p}^b$ is Centripetal acceleration.  "
   ]
  },
  {
   "cell_type": "markdown",
   "id": "married-second",
   "metadata": {},
   "source": [
    "Since earth frame is only rotating around the inertial frame, so we can get:\n",
    "$$\n",
    "\\begin{align}\n",
    "v_{i}^i &= R^{ie}(v_e^e +  [\\omega_{ie}^e]_{\\times}r_{o^{e}p}^e)\\\\\n",
    "&=v^i_e + [\\omega_{ie}^i]_{\\times}r_{o^{e}p}^i\\\\\n",
    "a_{ii}^i &= R^{ie}(a_{ee}^e + + \\dot{\\omega}_{ie}^e + 2[\\omega_{ie}^e]_{\\times}v^e_{e} + [\\omega_{ie}^e]_{\\times}([\\omega_{ie}^e]_{\\times}r_{o^{e}p}^e))\\\\\n",
    "&= a^i_{ee} + 0 + 2[\\omega_{ie}^i]_{\\times}v_e^i + [\\omega_{ie}^i]_{\\times}([\\omega_{ie}^i]_{\\times}r_{o^{e}p}^i)\n",
    "\\end{align}\n",
    "$$\n",
    "where we assume the angular velocity of the earth is constant, i.e. $\\dot{\\omega}_{ie}^e = 0$"
   ]
  },
  {
   "cell_type": "markdown",
   "id": "clinical-enclosure",
   "metadata": {},
   "source": [
    "Similarly, we can get the velocity and acceleration relation between earth frame and navigation frame where we assume navigation frame is stationary with respect to the earth frame, i.e. $[\\omega_{en}^n] = 0$: \n",
    "$$\n",
    "\\begin{align}\n",
    "v_{e}^e &= R^{en}(v_n^n +  [\\omega_{en}^n]_{\\times}r_{o^{n}p}^n)\\\\\n",
    "&=v^e_n \\\\\n",
    "v_e^n &= R^{ne}v_n^e = v_n^n \\\\\n",
    "a_{ee}^e &= R^{en}(a_{nn}^n + + \\dot{\\omega}_{en}^e + 2[\\omega_{en}^n]_{\\times}v^n_{n} + [\\omega_{en}^n]_{\\times}([\\omega_{en}^n]_{\\times}r_{o^{n}p}^n))\\\\\n",
    "&= a^e_{nn} \\\\\n",
    "a_{ee}^n &= R^{ne}a_{nn}^e = a_{nn}^n\n",
    "\\end{align}\n",
    "$$\n"
   ]
  },
  {
   "cell_type": "markdown",
   "id": "expected-intro",
   "metadata": {},
   "source": [
    "Because we have:\n",
    "$$\n",
    "\\begin{align}\n",
    "v_e^n &= R^{ne}v_n^e = v_n^n \\\\\n",
    "a_{ee}^n &= R^{ne}a_{nn}^e = a_{nn}^n\n",
    "\\end{align}\n",
    "$$"
   ]
  },
  {
   "cell_type": "markdown",
   "id": "unlimited-robert",
   "metadata": {},
   "source": [
    "**Finally, we get an important equation:**\n",
    "$$\n",
    "\\begin{align}\n",
    "a_{ii}^n &= R^{ni}a_{ii}^i \\\\\n",
    "& = R^{ni}(a^i_{ee} + 0 + 2[\\omega_{ie}^i]_{\\times}v_e^i + [\\omega_{ie}^i]_{\\times}([\\omega_{ie}^i]_{\\times}r_{o^{e}p}^i)) \\\\\n",
    "& = a^n_{ee} + 2[\\omega_{ie}^n]_{\\times}v_e^n + [\\omega_{ie}^n]_{\\times}([\\omega_{ie}^n]_{\\times}r_{o^{e}p}^n)\\\\\n",
    "& = a^n_{nn} + 2[\\omega_{ie}^n]_{\\times}v_n^n + [\\omega_{ie}^n]_{\\times}([\\omega_{ie}^n]_{\\times}r_{o^{e}p}^n)\n",
    "\\end{align}\n",
    "$$"
   ]
  },
  {
   "cell_type": "markdown",
   "id": "secret-bibliography",
   "metadata": {},
   "source": [
    "Recall that we have the measurement model as:\n",
    " $$\n",
    "\\begin{align}\n",
    "a^b = R^{bn}(a_{ii}^n - g^n)\n",
    "\\end{align}\n",
    "$$\n",
    "So we can get a correlation between the measurement $a^b$ and the acceleration state $a^n_{nn}$ in local navigation frame."
   ]
  },
  {
   "cell_type": "markdown",
   "id": "blocked-parade",
   "metadata": {},
   "source": [
    "Normally, because Centrifugal acceleration is small in the order of $10^{−2}\\ m/s^2$ given earth rotation is about $7.29*10^{−5}\\ \\text{rad}/s$. For Coriolis acceleration, when car travel 80 miles per hour, it is in the order of $10^{−3}\\ m/s^2$. **So we can normally use** $a_{ii}^n = a_{nn}^n$ "
   ]
  },
  {
   "cell_type": "markdown",
   "id": "viral-exemption",
   "metadata": {},
   "source": [
    "**So we have the measurement model as:**\n",
    "Recall that we have the measurement model as:\n",
    "$$\n",
    "\\begin{align}\n",
    "a^b = R^{bn}(a_{nn}^n - g^n)\n",
    "\\end{align}\n",
    "$$"
   ]
  },
  {
   "cell_type": "markdown",
   "id": "discrete-pharmaceutical",
   "metadata": {},
   "source": [
    "### Measurement Model"
   ]
  },
  {
   "cell_type": "markdown",
   "id": "confident-cowboy",
   "metadata": {},
   "source": [
    "#### Gyroscope measurement models"
   ]
  },
  {
   "cell_type": "markdown",
   "id": "bizarre-lambda",
   "metadata": {},
   "source": [
    "The gyroscope measures the angular velocity $\\omega^{b}_{ib} $ at each time instance $t$, but its measurements are corrupted by a slowly time-varying bias $\\delta_{\\omega,t}$, and noise $e_{\\omega,t}$:\n",
    "$$\n",
    "\\begin{align}\n",
    "y_{\\omega,t} = \\omega^{b}_{ib,t} + \\delta_{\\omega,t}^b + e_{\\omega,t}^b\n",
    "\\end{align}\n",
    "$$"
   ]
  },
  {
   "cell_type": "markdown",
   "id": "coated-thailand",
   "metadata": {},
   "source": [
    "where $e_{\\omega,t}^b \\sim \\mathcal{N}(0, \\Sigma_{\\omega})$. If the gyroscope is properly calibrated, we can think that measurements in three gyroscope axes are independent."
   ]
  },
  {
   "cell_type": "markdown",
   "id": "light-porter",
   "metadata": {},
   "source": [
    "The gyroscope bias $\\delta_{\\omega,t}^b$ is slowly time-varying:\n",
    "$$\n",
    "\\begin{align}\n",
    "\\delta_{\\omega,t+1}^b = \\delta_{\\omega,t}^b + e_{\\delta_{\\omega},t}^b\n",
    "\\end{align}\n",
    "$$\n",
    "where $e_{\\delta_{\\omega},t}^b \\sim \\mathcal{N}(0, \\Sigma_{\\delta_{\\omega}})$"
   ]
  },
  {
   "cell_type": "markdown",
   "id": "viral-exhaust",
   "metadata": {},
   "source": [
    "From previous section we have $\\omega_{ib}^b = R^{bn}(\\omega_{ie}^n + \\omega_{en}^n) + \\omega_{nb}^b$. If we assume local navigation frame is stationary and neglect earth rotation, we can get:\n",
    "$$\n",
    "\\begin{align}\n",
    "\\omega_{ib}^b = \\omega_{nb}^b\n",
    "\\end{align}\n",
    "$$"
   ]
  },
  {
   "cell_type": "markdown",
   "id": "peaceful-adrian",
   "metadata": {},
   "source": [
    "Then we can get **gyroscope measurement model** as:\n",
    "$$\n",
    "\\begin{align}\n",
    "y_{\\omega,t} = \\omega^{b}_{nb,t} + \\delta_{\\omega,t}^b + e_{\\omega,t}^b\n",
    "\\end{align}\n",
    "$$"
   ]
  },
  {
   "cell_type": "markdown",
   "id": "radical-surgery",
   "metadata": {},
   "source": [
    "#### Accelerometer measurement models"
   ]
  },
  {
   "cell_type": "markdown",
   "id": "advanced-release",
   "metadata": {},
   "source": [
    "The accelerometer measures the acceleration $a^{b}_{ii} $ at each time instance $t$, but its measurements are corrupted by a slowly time-varying bias $\\delta_{a,t}$, and noise $e_{a,t}$:\n",
    "$$\n",
    "\\begin{align}\n",
    "y_{a,t} = a^{b}_{ii,t} + \\delta_{a,t}^b + e_{a,t}^b\n",
    "\\end{align}\n",
    "$$"
   ]
  },
  {
   "cell_type": "markdown",
   "id": "defensive-flour",
   "metadata": {},
   "source": [
    "where $e_{a,t}^b \\sim \\mathcal{N}(0, \\Sigma_{a})$. If the gyroscope is properly calibrated, we can think that measurements in three gyroscope axes are independent."
   ]
  },
  {
   "cell_type": "markdown",
   "id": "manufactured-whole",
   "metadata": {},
   "source": [
    "The accelerometer bias $\\delta_{a,t}^b$ is slowly time-varying:\n",
    "$$\n",
    "\\begin{align}\n",
    "\\delta_{a,t+1}^b = \\delta_{a,t}^b + e_{\\delta_{a},t}^b\n",
    "\\end{align}\n",
    "$$\n",
    "where $e_{\\delta_{a},t}^b \\sim \\mathcal{N}(0, \\Sigma_{\\delta_{a}})$"
   ]
  },
  {
   "cell_type": "markdown",
   "id": "indian-grove",
   "metadata": {},
   "source": [
    "As we discussed in the previous section that we have $a_{ii}^b = R^{bn}(a_{ii}^n - g^n)$, then\n",
    "$$\n",
    "\\begin{align}\n",
    "y_{a,t} = a^{b}_{ii,t} + \\delta_{a,t}^b + e_{a,t}^b\n",
    "\\end{align}\n",
    "$$"
   ]
  },
  {
   "cell_type": "markdown",
   "id": "hazardous-canada",
   "metadata": {},
   "source": [
    "If we neglect Centrifugal acceleration and Coriolis acceleration, we have $a_{ii}^n = a_{nn}^n$, the we can get **accelerometer measurement model** as:\n",
    "$$\n",
    "\\begin{align}\n",
    "y_{a,t} = R^{bn}(a_{nn}^n - g^n) + \\delta_{a,t}^b + e_{a,t}^b\n",
    "\\end{align}\n",
    "$$"
   ]
  },
  {
   "cell_type": "markdown",
   "id": "complete-freight",
   "metadata": {},
   "source": [
    "## State and Dynamics"
   ]
  },
  {
   "cell_type": "markdown",
   "id": "developed-perfume",
   "metadata": {},
   "source": [
    "Recall that we have two measurement models: \n",
    "$$\n",
    "\\begin{align}\n",
    "y_{\\omega,t} &= \\omega^{b}_{nb,t} + \\delta_{\\omega,t}^b + e_{\\omega,t}^b \\\\\n",
    "y_{a,t} &= (q^{nb})^{-1} \\odot (a_{nn}^n - g^n) + \\delta_{a,t}^b + e_{a,t}^b\n",
    "\\end{align}\n",
    "$$"
   ]
  },
  {
   "cell_type": "markdown",
   "id": "occupational-poison",
   "metadata": {},
   "source": [
    "### Constant Acceleration Model"
   ]
  },
  {
   "cell_type": "markdown",
   "id": "young-gentleman",
   "metadata": {},
   "source": [
    "We can have a state vector as $x_t = (p_t^n, v_{n,t}^n, a_{nn,t}^n, \\delta_{a,t}^b, q^{nb}_t, \\omega^b_{nb, t}, \\delta_{\\omega,t}^b )$. "
   ]
  },
  {
   "cell_type": "markdown",
   "id": "listed-pierce",
   "metadata": {},
   "source": [
    "Assume that acceleration is constant and angular velocity is constant, we can get:\n",
    "$$\n",
    "\\begin{align}\n",
    "p_{t+1}^n   &= p_t^n + T v_{n,t}^n + \\frac{T^2}{2}a_{nn,t}^n \\\\\n",
    "v_{n,t+1}^n &= v_{n,t}^n + T a_{nn,t}^n \\\\\n",
    "a_{nn,t+1}^n &= a_{nn,t} + e_{a,t} \\\\\n",
    "\\delta_{a,t+1}^b &= \\delta_{a,t}^b + e_{\\delta_{a},t}^b \\\\\n",
    "q^{nb}_{t+1} &= q^{nb}_t  \\odot Exp_q(\\frac{T}{2}\\omega^b_{nb, t}) = R^{nb}_t Exp_R(T\\omega^b_{nb, t})\\\\\n",
    "\\omega^b_{nb, t+1} &= \\omega^b_{nb, t} + e_{\\omega,t} \\\\\n",
    "\\delta_{\\omega,t+1}^b &= \\delta_{\\omega,t}^b + e_{\\delta_{\\omega},t}^b\n",
    "\\end{align}\n",
    "$$"
   ]
  },
  {
   "cell_type": "markdown",
   "id": "worldwide-lending",
   "metadata": {},
   "source": [
    "where $e_{a,t} \\sim \\mathcal{N}(0, \\Sigma_{a})$, $e_{\\omega,t} \\sim \\mathcal{N}(0, \\Sigma_{\\omega})$. $Exp()$ is an exponential operation as:\n",
    "$$\n",
    "\\begin{align}\n",
    "Exp_q(\\eta) &= (cos(\\|\\eta\\|), \\frac{\\eta}{\\|\\eta\\|}sin(\\|\\eta\\|)))^T \\\\\n",
    "Exp_R(\\eta) &= \\mathcal{I}_3 + sin(\\|\\eta\\|)[\\frac{\\eta}{\\|\\eta\\|}]_{\\times} + (1-cos(\\|\\eta\\|)[\\frac{\\eta}{\\|\\eta\\|}]_{\\times}^2 \n",
    "\\end{align}\n",
    "$$\n",
    "**Note** for an angle axis vector described as $(\\alpha, \\textbf{n})$, it is equal to $Exp_q(\\frac{\\alpha}{2}\\textbf{n})$ and $Exp_R(\\alpha\\textbf{n})$."
   ]
  },
  {
   "cell_type": "markdown",
   "id": "matched-reservoir",
   "metadata": {},
   "source": [
    "### Inertial Measurements Driven Model"
   ]
  },
  {
   "cell_type": "markdown",
   "id": "czech-traveler",
   "metadata": {},
   "source": [
    "Instead of modeling $a_{nn,t}^n$ and $\\omega^b_{nb, t}$ in the state vector, we could use IMU's measurements $y_{\\omega,t}$ and $y_{a,t}$ to update the state. Hence, the state vector will be $(p_t^n, v_{n,t}^n, \\delta_{a,t}^b, q^{nb}_t,  \\delta_{\\omega,t}^b )$"
   ]
  },
  {
   "cell_type": "markdown",
   "id": "technical-paint",
   "metadata": {},
   "source": [
    "$$\n",
    "\\begin{align}\n",
    "p_{t+1}^n   &= p_t^n + T v_{n,t}^n + \\frac{T^2}{2}(q_t^{nb}(y_{a,t}-\\delta_{a,t}^b-e_{a,t}^b)+g^n) \\\\\n",
    "v_{n,t+1}^n &= v_{n,t}^n + T (q_t^{nb}(y_{a,t}-\\delta_{a,t}^b-e_{a,t}^b)+g^n) \\\\\n",
    "\\delta_{a,t+1}^b &= \\delta_{a,t}^b + e_{\\delta_{a},t}^b \\\\\n",
    "q^{nb}_{t+1} &= q^{nb}_t  \\odot Exp_q(\\frac{T}{2}(y_{\\omega, t} - \\delta_{\\omega,t}^b - e_{\\omega,t}^b))\\\\\n",
    "\\delta_{\\omega,t+1}^b &= \\delta_{\\omega,t}^b + e_{\\delta_{\\omega},t}^b\n",
    "\\end{align}\n",
    "$$\n",
    "\n",
    "Note:\n",
    "- $(q_t^{nb}(y_{a,t}-\\delta_{a,t}^b-e_{a,t}^b)+g^n)$ could be simplified as $(q_t^{nb}(y_{a,t}-\\delta_{a,t}^b)-e_{a,t}^b+g^n)$ if we consider $e_{a,t}$ have same noise for three axes as $\\sim \\mathcal{N}(0, \\sigma_a^2\\mathcal{I}_3)$.\n",
    "- This numeric integration of the velocity and position assumes a constant orientation $q^{nb}_t$ for the time of integration between two measurements."
   ]
  },
  {
   "cell_type": "markdown",
   "id": "ready-stanley",
   "metadata": {},
   "source": [
    "## State Estimation"
   ]
  },
  {
   "cell_type": "markdown",
   "id": "environmental-skill",
   "metadata": {},
   "source": [
    "### Factor Graph based Optimization"
   ]
  },
  {
   "cell_type": "markdown",
   "id": "young-inclusion",
   "metadata": {},
   "source": [
    "Firstly we will define the cost function to minimize along with the variables we want to optimize over. For position and orientation estimation of INS, if we use state vector as $(p_t^n, v_{n,t}^n, \\delta_{a,t}^b, q^{nb}_t,  \\delta_{\\omega,t}^b )$, we can define the optimization problem as:\n",
    "\n",
    "$$\n",
    "\\begin{align}\n",
    "\\hat{x}_{0:N} = \\underset{x_{0:N}}{\\operatorname{argmin}}& \n",
    "\\|e_{p,0}\\|_{\\Sigma^{-1}_{p^n_0}} \n",
    "+ \\|e_{v,0}\\|_{\\Sigma^{-1}_{v^n_0}}\n",
    "+ \\|e_{q,0}\\|_{\\Sigma^{-1}_{q^{nb}_0}} \\\\\n",
    "+&\\ \\|e_{p,a,t}\\|_{\\Sigma^{-1}_{e_a}}\n",
    "+ \\|e_{v,a,t}\\|_{\\Sigma^{-1}_{e_a}}\n",
    "+ \\|e_{\\omega,t}\\|_{\\Sigma^{-1}_{e_{\\omega}}} \\\\\n",
    "+&\\ \\|e_{\\delta_{\\omega},t}\\|_{\\Sigma^{-1}_{\\delta_{\\omega}}}\n",
    "+ \\|e_{\\delta_{a},t}\\|_{\\Sigma^{-1}_{\\delta_{a}}} \\\\\n",
    "+&\\ \\|e_{m,t}\\|_{\\Sigma^{-1}_{e_m}}\n",
    "\\end{align}\n",
    "$$\n",
    "\n",
    "**Note:** we could optimize over state deviation, e.g. orientation deviation $\\eta^{nb}$ instead of orientation $q^{nb}$. "
   ]
  },
  {
   "cell_type": "markdown",
   "id": "potential-refund",
   "metadata": {},
   "source": [
    "Prior errors:\n",
    "$$\n",
    "\\begin{align}\n",
    "e_{p,0} &= p^n_0 - y_{p,0} \\\\\n",
    "e_{v,0} &= v^n_0 - y_{v,0} \\\\\n",
    "e_{q,0} &= Log(q^{nb}_0 \\odot y_{q, 0})\n",
    "\\end{align}\n",
    "$$"
   ]
  },
  {
   "cell_type": "markdown",
   "id": "tight-sympathy",
   "metadata": {},
   "source": [
    "IMU dynamics errors:\n",
    "$$\n",
    "\\begin{align}\n",
    "e_{p,a,t} &= \\frac{2}{T^2}(p^n_{t+1} - p^n_{t} - T v^n_{n,t}) - g^n - q^{bn} \\odot(y_{a,t}-\\delta_{a,t}^b) \\\\\n",
    "e_{v,a,t} &= \\frac{1}{T}(v^n_{t+1}-v^n_{t}) - g^n - q^{bn} \\odot(y_{a,t}-\\delta_{a,t}^b)  \\\\\n",
    "e_{\\omega,t} &= \\frac{2}{T}Log(q_t^{bn} \\odot q_{t+1}^{nb}) - y_{\\omega,t} + \\delta_{\\omega,t}\n",
    "\\end{align}\n",
    "$$"
   ]
  },
  {
   "cell_type": "markdown",
   "id": "italian-ready",
   "metadata": {},
   "source": [
    "Bias errors:\n",
    "$$\n",
    "\\begin{align}\n",
    "e_{\\delta_{\\omega},t} &= \\delta_{a,t+1}^b - \\delta_{a,t}^b\\\\\n",
    "e_{\\delta_{a},t} &= \\delta_{\\omega,t+1}^b - \\delta_{\\omega,t}^b\n",
    "\\end{align}\n",
    "$$"
   ]
  },
  {
   "cell_type": "markdown",
   "id": "sophisticated-container",
   "metadata": {},
   "source": [
    "Measurement errors:\n",
    "- Position measurements\n",
    "\n",
    "$$\n",
    "\\begin{align}\n",
    "e_{m,t} &= p^n_t - y_{p,t}\n",
    "\\end{align}\n",
    "$$\n",
    "\n",
    "- Velocity measurements from wheel-encoder\n",
    "\n",
    "$$\n",
    "\\begin{align}\n",
    "e_{m,t} &= R^{vb}R^{bn}v^n_{n,t} - y_{v,t}\n",
    "\\end{align}\n",
    "$$\n",
    "\n",
    "- Zero angular velocity\n",
    "$$\n",
    "\\begin{align}\n",
    "e_{m,t} &= Log(q_t^{bn} \\odot q_{t+1}^{nb})\n",
    "\\end{align}\n",
    "$$\n",
    "- Zero linear velocity\n",
    "$$\n",
    "\\begin{align}\n",
    "e_{m,t} &= v_t^n\n",
    "\\end{align}\n",
    "$$\n",
    "- Zero acceleration \n",
    "$$\n",
    "\\begin{align}\n",
    "e_{m,t} &= v_{t+1}^n - v_t^n\n",
    "\\end{align}\n",
    "$$"
   ]
  },
  {
   "cell_type": "markdown",
   "id": "every-torture",
   "metadata": {},
   "source": [
    "I think a challenge to use IMU measurements driven model is that additional measurements might arrive at different freuqency than IMU measurements. We could interpolate the measurements for batch optimization since we have complete information for the whole time. This assumes that we have a state node in our factor graph when every IMU measurement comes in. This will leads to fast growth number of variables in the optimization. "
   ]
  },
  {
   "cell_type": "markdown",
   "id": "liked-progressive",
   "metadata": {},
   "source": [
    "#### IMU Noise Model"
   ]
  },
  {
   "cell_type": "markdown",
   "id": "surrounded-bobby",
   "metadata": {},
   "source": [
    "- **Noise Density (ND)**: It provides the noise divided by the square root of the sampling rate. The noise density for a gyroscope can be represented as $(^{\\circ}/s)/\\sqrt{Hz}$ or $(^{\\circ}/hr)/\\sqrt{Hz}$.By multiplying the noise density (ND) by the square root of the sampling rate (SR), the noise standard deviation $\\sigma$ at that rate can be recovered $\\sigma = ND * \\sqrt{SR}$. When ND is specified as **Power Spectral Density (PSD)**, it is essentially $PSD = (ND)^2$."
   ]
  },
  {
   "cell_type": "markdown",
   "id": "wanted-member",
   "metadata": {},
   "source": [
    "- **Random Walk (RW)**: The specification for random walk is typically given in units of $^{\\circ}/\\sqrt{s}$ for gyroscopes, and $(m/s)/\\sqrt{s}$ for accelerometers. By multiplying the random walk by the square root of time, the standard deviation of the drift due to noise can be recovered $\\sigma = \\text{RW}\\sqrt{t}$. For unit conversion, we can use $60\\sqrt{s} = \\sqrt{hr}$, $ 1 \\text{milli-g} \\approx 0.01 m/s^2$. "
   ]
  },
  {
   "cell_type": "markdown",
   "id": "intensive-spice",
   "metadata": {},
   "source": [
    "- **Bias**: The bias is a constant offset of the output value from the input value. The in-run bias stability, or often called the bias instability, is a measure of how the bias will drift during operation over time at a constant temperature. This parameter also represents the best possible accuracy with which a sensor's bias can be estimated. Due to this, in-run bias stability is generally the most critical specification as it gives a floor to how accurate a bias can be measured."
   ]
  },
  {
   "cell_type": "markdown",
   "id": "handy-excellence",
   "metadata": {},
   "source": [
    "- **Scale Factor**: Scale factor is a multiplier on a signal that is comprised of a ratio of the output to the input over the measurement range. This factor typically varies over temperature and must be calibrated for over the operational temperature range."
   ]
  },
  {
   "cell_type": "markdown",
   "id": "thorough-ladder",
   "metadata": {},
   "source": [
    "- Summaries:\n",
    "\n",
    "    - $\\sigma_a$ and $\\sigma_{\\omega}$ can be obtained by $\\sigma_{discrete} = ND * \\sqrt{SR} = RW * \\sqrt{SR}$\n",
    "    - Based on Kalibr, $\\sigma_{\\delta_a}$ and $\\sigma_{\\delta_{\\omega}}$ can be obtained by $\\sigma_{discrete} = \\sigma / \\sqrt{SR}$\n",
    "    - Based on Kalibr, we can get continuous [noise values](https://github.com/ethz-asl/kalibr/wiki/IMU-Noise-Model#from-the-allan-standard-deviation-ad) based on Allan Variance plot."
   ]
  },
  {
   "cell_type": "markdown",
   "id": "saved-highlight",
   "metadata": {},
   "source": [
    "Reference: \n",
    "- https://github.com/ethz-asl/kalibr/wiki/IMU-Noise-Model\n",
    "- https://github.com/rpng/kalibr_allan\n",
    "- https://www.mathworks.com/help/fusion/ug/inertial-sensor-noise-analysis-using-allan-variance.html\n",
    "- https://www.vectornav.com/resources/inertial-navigation-primer/specifications--and--error-budgets/specs-imuspecs\n",
    "- https://www.vectornav.com/resources/inertial-navigation-primer/examples/noise\n",
    "- https://telesens.co/wp-content/uploads/2017/05/AllanVariance5087-1.pdf\n",
    "- https://mwrona.com/posts/gyro-noise-analysis/\n",
    "- https://www.cl.cam.ac.uk/techreports/UCAM-CL-TR-696.pdf\n"
   ]
  },
  {
   "cell_type": "code",
   "execution_count": null,
   "id": "wanted-certification",
   "metadata": {
    "code_folding": [
     0
    ]
   },
   "outputs": [],
   "source": [
    "# Allan Plot Sample Code\n",
    "# From blog post: https://mwrona.com/posts/gyro-noise-analysis/\n",
    "\n",
    "import numpy as np\n",
    "import matplotlib.pyplot as plt\n",
    "\n",
    "def AllanDeviation(dataArr, fs, maxNumM=100):\n",
    "    \"\"\"Compute the Allan deviation (sigma) of time-series data.\n",
    "\n",
    "    Algorithm obtained from Mathworks:\n",
    "    https://www.mathworks.com/help/fusion/ug/inertial-sensor-noise-analysis-using-allan-variance.html\n",
    "\n",
    "    Args\n",
    "    ----\n",
    "        dataArr (numpy.ndarray): 1D data array\n",
    "        fs (int, float): Data sample frequency in Hz\n",
    "        maxNumM (int): Number of output points\n",
    "    \n",
    "    Returns\n",
    "    -------\n",
    "        (taus, allanDev): Tuple of results\n",
    "        taus (numpy.ndarray): Array of tau values\n",
    "        allanDev (numpy.ndarray): Array of computed Allan deviations\n",
    "    \"\"\"\n",
    "    ts = 1.0 / fs\n",
    "    N = len(dataArr)\n",
    "    Mmax = 2**np.floor(np.log2(N / 2))\n",
    "    M = np.logspace(np.log10(1), np.log10(Mmax), num=maxNumM)\n",
    "    M = np.ceil(M)  # Round up to integer\n",
    "    M = np.unique(M)  # Remove duplicates\n",
    "    taus = M * ts  # Compute 'cluster durations' tau\n",
    "\n",
    "    # Compute Allan variance\n",
    "    allanVar = np.zeros(len(M))\n",
    "    for i, mi in enumerate(M):\n",
    "        twoMi = int(2 * mi)\n",
    "        mi = int(mi)\n",
    "        allanVar[i] = np.sum(\n",
    "            (dataArr[twoMi:N] - (2.0 * dataArr[mi:N-mi]) + dataArr[0:N-twoMi])**2\n",
    "        )\n",
    "    \n",
    "    allanVar /= (2.0 * taus**2) * (N - (2.0 * M))\n",
    "    return (taus, np.sqrt(allanVar))  # Return deviation (dev = sqrt(var))\n",
    "\n",
    "# Config. params\n",
    "DATA_FILE = 'gyro-data.csv'  # CSV data file \"gx,gy,gz\"\n",
    "fs = 100  # Sample rate [Hz]\n",
    "\n",
    "# Load CSV into np array\n",
    "dataArr = np.genfromtxt(DATA_FILE, delimiter=',')\n",
    "ts = 1.0 / fs\n",
    "\n",
    "# Separate into arrays\n",
    "gx = dataArr[:, 0] * (180.0 / np.pi)  # [deg/s]\n",
    "gy = dataArr[:, 1] * (180.0 / np.pi)\n",
    "gz = dataArr[:, 2] * (180.0 / np.pi)\n",
    "\n",
    "# Calculate gyro angles\n",
    "thetax = np.cumsum(gx) * ts  # [deg]\n",
    "thetay = np.cumsum(gy) * ts\n",
    "thetaz = np.cumsum(gz) * ts\n",
    "\n",
    "# Compute Allan deviations\n",
    "(taux, adx) = AllanDeviation(thetax, fs, maxNumM=200)\n",
    "(tauy, ady) = AllanDeviation(thetay, fs, maxNumM=200)\n",
    "(tauz, adz) = AllanDeviation(thetaz, fs, maxNumM=200)\n",
    "\n",
    "# Plot data on log-scale\n",
    "plt.figure()\n",
    "plt.title('Gyro Allan Deviations')\n",
    "plt.plot(taux, adx, label='gx')\n",
    "plt.plot(tauy, ady, label='gy')\n",
    "plt.plot(tauz, adz, label='gz')\n",
    "plt.xlabel(r'$\\tau$ [sec]')\n",
    "plt.ylabel('Deviation [deg/sec]')\n",
    "plt.grid(True, which=\"both\", ls=\"-\", color='0.65')\n",
    "plt.legend()\n",
    "plt.xscale('log')\n",
    "plt.yscale('log')\n",
    "plt.show()\n",
    "\n",
    "#"
   ]
  },
  {
   "cell_type": "markdown",
   "id": "spare-project",
   "metadata": {},
   "source": [
    "#### IMU Preintegration"
   ]
  },
  {
   "cell_type": "markdown",
   "id": "stuffed-worth",
   "metadata": {},
   "source": [
    "In short, we want to generate IMU factors between keyframes, which can be pre-computed just based on IMU measurements and time interval between keyframes so that they are not required to be recomputed after updating linearization points of state variables. This requires **IMU and keyframe timestamps are synchronized**. "
   ]
  },
  {
   "cell_type": "markdown",
   "id": "fatty-arena",
   "metadata": {},
   "source": [
    "##### **1) Preintegrated IMU Measurements with assumption that bias is constant**."
   ]
  },
  {
   "cell_type": "markdown",
   "id": "encouraging-closer",
   "metadata": {},
   "source": [
    "Suppose we have state $x_i$ at timestamp $t_i$, then\n",
    "$$\n",
    "\\begin{align}\n",
    "\\Delta R_{ij} &= R_i^T R_{j} \\\\ \n",
    "&= \\prod_{k=i}^{j-1} Exp_{R}(T(y_{\\omega, k} - \\delta_{\\omega,k}^b - e_{\\omega,k}^b))\\\\\n",
    "\\Delta v_{ij} &= R_i^T(v_j-v_i-(j-i)Tg) \\\\ \n",
    "&= \\sum_{k=i}^{j-1}[T\\Delta R_{ik}(y_{a,k}-\\delta_{a,k}^b-e_{a,k}^b)]\\\\\n",
    "\\Delta p_{ij} &= R_i^T(p_j - p_i - (j-i)Tv_i -\\frac{1}{2}(j-i)^2T^2g) \\\\\n",
    "&= \\sum_{k=i}^{j-1}[T\\Delta v_{ik} + \\frac{1}{2}\\Delta R_{ik}(j-i)^2T^2(y_{a,k}-\\delta_{a,k}^b-e_{a,k}^b)]\n",
    "\\end{align}\n",
    "$$\n",
    "The equation above clearly describe the relations between state variables and measurements. However, in order to be able to fit into a MAP estimation simply, we need it be in form as $y = f(x) + e$."
   ]
  },
  {
   "cell_type": "markdown",
   "id": "undefined-diagnosis",
   "metadata": {},
   "source": [
    "Given $Exp(\\phi + \\delta\\phi) \\approx\\ Exp(\\phi)Exp(J_r(\\phi)\\delta\\phi)$ and assume $e_{\\omega,k}^b$ is very small, we can have following equations with $\\phi_k = T(y_{\\omega, k} - \\delta_{\\omega,k}^b)$ and $\\delta \\phi = T(-e_{\\omega,k}^b)$\n",
    "$$\n",
    "\\begin{align}\n",
    "\\Delta R_{ij} &= \\prod_{k=i}^{j-1} Exp_{R}(T(y_{\\omega, k} - \\delta_{\\omega,k}^b - e_{\\omega,k}^b)) \\\\\n",
    "&= \\prod_{k=i}^{j-1}Exp_{R}(T(y_{\\omega, k} - \\delta_{\\omega,k}^b))Exp_{R}(J_{r_k}T(-e_{\\omega,k}^b))\n",
    "\\end{align}\n",
    "$$"
   ]
  },
  {
   "cell_type": "markdown",
   "id": "boxed-estonia",
   "metadata": {},
   "source": [
    "Then given $Exp(\\phi) R = R Exp(R^T \\phi)$, we can have following equations with $\\Delta R_k = Exp_{R}(T(y_{\\omega, k} - \\delta_{\\omega,k}^b))$\n",
    "$$\n",
    "\\begin{align}\n",
    "\\Delta R_{ij} &=  \\prod_{k=i}^{j-1}Exp_{R}(T(y_{\\omega, k} - \\delta_{\\omega,k}^b))Exp_{R}(J_{r_k}T(-e_{\\omega,k}^b)) \\\\\n",
    "&= \\Delta R_i Exp_{R}(J_{r_i}T(-e_{\\omega,i}^b)) \\Delta R_{i+1} Exp_{R}(J_{r_{i+1}}T(-e_{\\omega,{i+1}}^b))\\Delta R_{i+2} \\cdots \\\\\n",
    "&= \\Delta R_i \\{Exp_{R}(J_{r_i}T(-e_{\\omega,i}^b)) [\\Delta R_{i+1}\\Delta R_{i+2}]\\} \\{Exp_{R}(\\Delta R_{i+2}^T J_{r_{i+1}}T(-e_{\\omega,{i+1}}^b))\\} \\cdots \\\\\n",
    "&= \\Delta R_i\\Delta R_{i+1}\\Delta R_{i+2} \\{Exp_{R}((\\Delta R_{i+1}\\Delta R_{i+2})^TJ_{r_i}T(-e_{\\omega,i}^b))\\} \\{Exp_{R}(\\Delta R_{i+2}^T J_{r_{i+1}}T(-e_{\\omega,{i+1}}^b))\\} \\cdots \\\\\n",
    "&= \\Delta {\\tilde{R}_{ij}}\\prod_{k=i}^{j-1}[Exp_R(\\Delta {\\tilde{R}_{k+1,j}^T}J_{r_k}T(-e_{\\omega,k}^b))] \\\\\n",
    "&= \\Delta {\\tilde{R}_{ij}}Exp_R(-\\delta \\phi_{ij})\n",
    "\\end{align}\n",
    "$$\n",
    "where $\\Delta {\\tilde{R}_{ij}} = \\prod_{k=i}^{j-1}Exp_{R}(T(y_{\\omega, k} - \\delta_{\\omega,k}^b))$"
   ]
  },
  {
   "cell_type": "markdown",
   "id": "dense-disclosure",
   "metadata": {},
   "source": [
    "Similarly, we can get:\n",
    "$$\n",
    "\\begin{align}\n",
    "\\Delta v_{ij} &= \\sum_{k=i}^{j-1}[T\\Delta R_{ik}(y_{a,k}-\\delta_{a,k}^b-e_{a,k}^b)]\\\\\n",
    "&= \\sum_{k=i}^{j-1}[T\\Delta {\\tilde{R}_{ik}}Exp_R(-\\delta \\phi_{ik})(y_{a,k}-\\delta_{a,k}^b-e_{a,k}^b)]\n",
    "\\end{align}\n",
    "$$\n",
    "With first-order approximation $Exp_R(\\delta \\phi) = \\mathcal{I} + [\\delta \\phi]_{\\times}$, we can get:\n",
    "$$\n",
    "\\begin{align}\n",
    "\\Delta v_{ij} &= \\sum_{k=i}^{j-1}[T\\Delta {\\tilde{R}_{ik}}Exp_R(-\\delta \\phi_{ik})(y_{a,k}-\\delta_{a,k}^b-e_{a,k}^b)]\\\\\n",
    "&= \\sum_{k=i}^{j-1}[T\\Delta {\\tilde{R}_{ik}}(\\mathcal{I}-[\\delta \\phi_{ik}]_\\times)(y_{a,k}-\\delta_{a,k}^b-e_{a,k}^b)] \\\\\n",
    "&= \\sum_{k=i}^{j-1}[T\\Delta {\\tilde{R}_{ik}}(\\mathcal{I}-[\\delta \\phi_{ik}]_\\times)(y_{a,k}-\\delta_{a,k}^b) - T\\Delta {\\tilde{R}_{ik}}e_{a,k}^b] \\\\\n",
    "\\end{align}\n",
    "$$\n",
    "Note that we omit a higher order noise as $T\\Delta {\\tilde{R}_{ik}}\\delta \\phi_{ik}e_{a,k}^b$ in the third line of the equations.\n",
    "\n",
    "Then with $[a]_\\times b = -b_\\times a$\n",
    "$$\n",
    "\\begin{align}\n",
    "\\Delta v_{ij} &= \\sum_{k=i}^{j-1}[T\\Delta {\\tilde{R}_{ik}}(\\mathcal{I}-[\\delta \\phi_{ik}]_\\times)(y_{a,k}-\\delta_{a,k}^b) - T\\Delta {\\tilde{R}_{ik}}e_{a,k}^b] \\\\\n",
    "&= \\Delta{\\tilde{v_{ij}}} - \\sum_{k=i}^{j-1}[T\\Delta {\\tilde{R}_{ik}}(e_{a,k}^b + [\\delta \\phi_{ik}]_\\times(y_{a,k}-\\delta_{a,k}^b))] \\\\\n",
    "&= \\Delta{\\tilde{v_{ij}}} - \\sum_{k=i}^{j-1}[T\\Delta {\\tilde{R}_{ik}}(e_{a,k}^b - [y_{a,k}-\\delta_{a,k}^b]_\\times(\\delta \\phi_{ik}))]\\\\\n",
    "&= \\Delta{\\tilde{v_{ij}}} - \\delta v_{ij}\n",
    "\\end{align}\n",
    "$$\n",
    "where $\\Delta{\\tilde{v_{ij}}} = \\sum_{k=i}^{j-1}[T\\Delta {\\tilde{R}_{ik}}(y_{a,k}-\\delta_{a,k}^b)]$"
   ]
  },
  {
   "cell_type": "markdown",
   "id": "pleased-reservoir",
   "metadata": {},
   "source": [
    "$$\n",
    "\\begin{align}\n",
    "\\Delta p_{ij} &= \\sum_{k=i}^{j-1}[T\\Delta v_{ik} + \\frac{1}{2}\\Delta R_{ik}(j-i)^2T^2(y_{a,k}-\\delta_{a,k}^b-e_{a,k}^b)] \\\\\n",
    "&= \\Delta{\\tilde{p}_{ij}} - \\sum_{k=i}^{j-1}[T\\delta v_{ik} + \\frac{1}{2}T^2\\Delta {\\tilde{R}_{ik}}(e_{a,k}^b -[y_{a,k}-\\delta_{a,k}^b]_\\times(\\delta \\phi_{ik}))] \\\\\n",
    "&= \\Delta{\\tilde{p}_{ij}} - \\delta p_{ij}\n",
    "\\end{align}\n",
    "$$\n",
    "where $\\Delta{\\tilde{p}_{ij}} = \\sum_{k=i}^{j-1}[T\\Delta{\\tilde{v_{ij}}}-\\frac{1}{2}T^2 {\\tilde{R}_{ik}}(y_{a,k}-\\delta_{a,k}^b)]$"
   ]
  },
  {
   "cell_type": "markdown",
   "id": "democratic-elizabeth",
   "metadata": {},
   "source": [
    "##### 2) **Noise propagation**"
   ]
  },
  {
   "cell_type": "markdown",
   "id": "decimal-glasgow",
   "metadata": {},
   "source": [
    "Now we get noise term $\\delta p_{ij}, \\delta v_{ij}, \\delta \\phi_{ij}$, which also follows zero mean Gaussian distribution. How can we get **find correct covariance** for them?"
   ]
  },
  {
   "cell_type": "markdown",
   "id": "entertaining-aberdeen",
   "metadata": {},
   "source": [
    "$$\n",
    "\\begin{align}\n",
    "Exp_R(-\\delta \\phi_{ij}) &= \\prod_{k=i}^{j-1}[Exp_R(\\Delta {\\tilde{R}_{k+1,j}^T}J_{r_k}T(-e_{\\omega,k}^b))] \\\\\n",
    "\\delta \\phi_{ij} &= -Log(\\prod_{k=i}^{j-1}[Exp_R(\\Delta {\\tilde{R}_{k+1,j}^T}J_{r_k}T(-e_{\\omega,k}^b))])\n",
    "\\end{align}\n",
    "$$\n",
    "Given $Log(Exp(\\phi)Exp(\\delta\\phi)) \\approx\\ \\phi + J_r^{-1}(\\phi)\\delta\\phi$, we have $Log(Exp(\\delta \\phi_1)Exp(\\delta\\phi_2)) \\approx\\ \\delta\\phi_1 + \\delta\\phi_2$. Then we have:\n",
    "$$\n",
    "\\begin{align}\n",
    "\\delta \\phi_{ij} &= -Log(\\prod_{k=i}^{j-1}[Exp_R(\\Delta {\\tilde{R}_{k+1,j}^T}J_{r_k}T(-e_{\\omega,k}^b))])\\\\\n",
    "& \\approx \\sum_{k=i}^{j-1} \\Delta \\tilde{R}_{k+1,j}^T J_{r_k}Te_{\\omega,k}^b\n",
    "\\end{align}\n",
    "$$\n",
    "Then we can use linear propagation as \n",
    "$$\n",
    "\\begin{align}\n",
    "\\Sigma_{\\delta \\phi_{ij}} & \\approx  \\sum_{k=i}^{j-1} (\\Delta \\tilde{R}_{k+1,j}^T J_{r_k}T)\\Sigma_{e_{\\omega,k}^b}(\\Delta \\tilde{R}_{k+1,j}^T J_{r_k}T)^T\n",
    "\\end{align}\n",
    "$$\n",
    "Where $\\sigma_{\\omega}$ can be obtained by $\\sigma_{discrete} = ND * \\sqrt{SR} = RW * \\sqrt{SR}$."
   ]
  },
  {
   "cell_type": "markdown",
   "id": "vocal-illness",
   "metadata": {},
   "source": [
    "Similarly, noise propagation for velocity and position are also just linear propagation.\n",
    "$$\n",
    "\\begin{align}\n",
    "\\delta v_{ij} &= \\sum_{k=i}^{j-1}[T\\Delta {\\tilde{R}_{ik}}e_{a,k}^b - T\\Delta {\\tilde{R}_{ik}}[y_{a,k}-\\delta_{a,k}^b]_\\times(\\delta \\phi_{ik})]\n",
    "\\end{align}\n",
    "$$"
   ]
  },
  {
   "cell_type": "markdown",
   "id": "elegant-thriller",
   "metadata": {},
   "source": [
    "$$\n",
    "\\begin{align}\n",
    "\\delta p_{ij} &=  \\sum_{k=i}^{j-1}[T\\delta v_{ik} + \\frac{1}{2}T^2\\Delta {\\tilde{R}_{ik}}e_{a,k}^b -\\frac{1}{2}T^2\\Delta {\\tilde{R}_{ik}}[y_{a,k}-\\delta_{a,k}^b]_\\times(\\delta \\phi_{ik})]\n",
    "\\end{align}\n",
    "$$"
   ]
  },
  {
   "cell_type": "markdown",
   "id": "third-approval",
   "metadata": {},
   "source": [
    "##### 3) **Incorporating non-constant bias**"
   ]
  },
  {
   "cell_type": "markdown",
   "id": "tamil-promise",
   "metadata": {},
   "source": [
    "From the previous section, we know all pre-integrated measurements depend on bias estimation $\\delta_{a,i}$ and $\\delta_{\\omega,i}$, where we assume constant bias between frames, aka $\\delta_{i} == \\delta_{j}$. So this means that if the bias estimation changes, we need to re-calculate all measurements which is exactly what we want to avoid. "
   ]
  },
  {
   "cell_type": "markdown",
   "id": "played-lafayette",
   "metadata": {},
   "source": [
    "The solution is to use Taylor expansion $f(x) \\approx f(a) + J_x|_{x=a}(x-a)$. \n",
    "$$\n",
    "\\begin{align}\n",
    "\\Delta {\\tilde{R}_{ij}} &= \\prod_{k=i}^{j-1}Exp_{R}(T(y_{\\omega, k} - \\delta_{\\omega,k}^b)) \\\\\n",
    "&= f_{R_{ij}}(\\delta_{\\omega,i}^b) \\\\\n",
    "&= f_{R_{ij}}(\\bar{\\delta}_{\\omega,i}^b + \\Delta \\delta_{\\omega,i}^b) \\\\\n",
    "&\\approx f_{R_{ij}}(\\bar{\\delta}_{\\omega,i}^b) + J^{R_{ij}}_{\\delta_{\\omega,i}}|_{\\delta_{\\omega,i} = \\bar{\\delta}_{\\omega,i}^b} \\Delta \\delta_{\\omega,i}^b \\\\\n",
    "\\end{align}\n",
    "$$\n",
    "\n",
    "Calculating the Jacobian matrix $J^{R_{ij}}_{\\delta_{\\omega,i}}|_{\\delta_{\\omega,i}= \\bar{\\delta}_{\\omega,i}^b}$ is not trivial. Next, we will figure it out.\n",
    "\n",
    "$$\n",
    "\\begin{align}\n",
    "\\Delta {\\tilde{R}_{ij}} &= \\prod_{k=i}^{j-1}Exp_{R}(T(y_{\\omega, k} - \\delta_{\\omega,k}^b)) \\\\\n",
    "&= \\prod_{k=i}^{j-1}Exp_{R}(T(y_{\\omega, k} - \\bar{\\delta}_{\\omega,i}^b) - T\\Delta \\delta_{\\omega,i}^b)\n",
    "\\end{align}\n",
    "$$\n",
    "Based on $Exp(\\phi + \\delta\\phi) \\approx Exp(\\phi)Exp(J_r(\\phi)\\delta\\phi)$, $\\phi = T(y_{\\omega, k} - \\bar{\\delta}_{\\omega,i}^b)$ and  $\\delta \\phi = - T\\Delta \\delta_{\\omega,i}^b$,\n",
    "$$\n",
    "\\begin{align}\n",
    "\\Delta {\\tilde{R}_{ij}} &= \\prod_{k=i}^{j-1}Exp_{R}(T(y_{\\omega, k} - \\bar{\\delta}_{\\omega,i}^b) - T\\Delta \\delta_{\\omega,i}^b) \\\\\n",
    "&= \\prod_{k=i}^{j-1}Exp_{R}(T(y_{\\omega, k} - \\bar{\\delta}_{\\omega,i}^b)\\prod_{k=i}^{j-1}Exp_{R}(-J_r^k \\Delta \\delta_{\\omega,i}^b)\n",
    "\\end{align}\n",
    "$$"
   ]
  },
  {
   "cell_type": "markdown",
   "id": "sorted-daniel",
   "metadata": {},
   "source": [
    "Based on similar derivation for $\\Delta R_{ij}$, we can get \n",
    "$$\n",
    "\\begin{align}\n",
    "\\Delta {\\tilde{R}_{ij}} &= \\prod_{k=i}^{j-1}Exp_{R}(T(y_{\\omega, k} - \\bar{\\delta}_{\\omega,i}^b)\\prod_{k=i}^{j-1}Exp_{R}(-J_{r_k} \\Delta \\delta_{\\omega,i}^b)\\\\\n",
    "&= f_{R_{ij}}(\\bar{\\delta}_{\\omega,i}^b)\\prod_{k=i}^{j-1}[Exp_R(f_{R_{k+1,j}}(\\bar{\\delta}_{\\omega,i}^b)^T J_{r_k}T(-\\Delta \\delta_{\\omega,i}^b))] \\\\\n",
    "\\end{align}\n",
    "$$\n",
    "Then based on $Exp(\\phi + J_r^{-1}(\\phi)\\delta\\phi) \\approx Exp(\\phi)Exp(J_r(\\phi)J_r^{-1}(\\phi)\\delta\\phi)$ and assume $f_{R_{_{k+1,j}}}(\\bar{\\delta}_{\\omega,i}^b)^T J_{r_k}T(-\\Delta \\delta_{\\omega,i}^b)$ is also suffient small, we can have:\n",
    "$$\n",
    "\\begin{align}\n",
    "\\Delta {\\tilde{R}_{ij}} &= f_{R_{ij}}(\\bar{\\delta}_{\\omega,i}^b)\\prod_{k=i}^{j-1}[Exp_R(f_{R_{k+1,j}}(\\bar{\\delta}_{\\omega,i}^b)^T J_{r_k}T(-\\Delta \\delta_{\\omega,i}^b))] \\\\\n",
    " &= f_{R_{ij}}(\\bar{\\delta}_{\\omega,i}^b)Exp_R(\\sum_{k=i}^{j-1}[f_{R_{k+1,j}}(\\bar{\\delta}_{\\omega,i}^b)^T J_{r_k}T(-\\Delta \\delta_{\\omega,i}^b)]) \\\\\n",
    " &= f_{R_{ij}}(\\bar{\\delta}_{\\omega,i}^b)Exp_R(\\mathcal{J}_{\\delta_{\\omega,i}^b}^{f_{R_{ij}}}\\Delta \\delta_{\\omega,i}^b)\n",
    "\\end{align}\n",
    "$$\n",
    "where $\\mathcal{J}_{\\delta_{\\omega,i}^b}^{f_{R_{ij}}} = -\\sum_{k=i}^{j-1}[f_{R_{k+1,j}}(\\bar{\\delta}_{\\omega,i}^b)^T J_{r_k}T]$"
   ]
  },
  {
   "cell_type": "markdown",
   "id": "studied-tsunami",
   "metadata": {},
   "source": [
    "Similarly for speed residual, we can have:\n",
    "$$\n",
    "\\begin{align}\n",
    "\\Delta{\\tilde{v}_{ij}} &= \\sum_{k=i}^{j-1}[T\\Delta {\\tilde{R}_{ik}}(y_{a,k}-\\delta_{a,k}^b)]\\\\\n",
    "&= f_{v_{ij}}(\\delta_{a,i}^b, \\delta_{\\omega,i}^b) \\\\\n",
    "&= f_{v_{ij}}(\\bar{\\delta}_{a,i}^b+\\Delta \\delta_{a,i}^b, \\bar{\\delta}_{\\omega,i}^b + \\Delta \\delta_{\\omega,i}^b) \\\\\n",
    "&\\approx f_{v_{ij}}(\\bar{\\delta}_{a,i}^b, \\bar{\\delta}_{\\omega,i}^b) + J^v_{\\delta_{a,i}}|_{\\delta_{a,i}^b=\\bar{\\delta}_{a,i}^b} \\Delta \\delta_{a,i}^b + J^v_{\\delta_{\\omega,i}}|_{\\delta_{\\omega,i} = \\bar{\\delta}_{\\omega,i}^b} \\Delta \\delta_{\\omega,i}^b\n",
    "\\end{align}\n",
    "$$\n",
    "\n",
    "$$\n",
    "\\begin{align}\n",
    "\\Delta{\\tilde{v}_{ij}} &= \\sum_{k=i}^{j-1}[T\\Delta {\\tilde{R}_{ik}}(y_{a,k}-\\delta_{a,k}^b)]\\\\\n",
    "&= \\sum_{k=i}^{j-1}[T f_{R_{ik}}(\\bar{\\delta}_{\\omega,i}^b)Exp_R(\\mathcal{J}_{\\delta_{\\omega,i}^b}^{f_{R_{ik}}}\\Delta \\delta_{\\omega,i}^b))(y_{a,k}-\\bar{\\delta}_{a,i}^b - \\Delta \\delta_{a,i}^b)] \\\\\n",
    "&\\approx \\sum_{k=i}^{j-1}[T f_{R_{ik}}(\\bar{\\delta}_{\\omega,i}^b)(\\mathcal{I} + [\\mathcal{J}_{\\delta_{\\omega,i}^b}^{f_{R_{ik}}}\\Delta \\delta_{\\omega,i}^b)]_{\\times})(y_{a,k}-\\bar{\\delta}_{a,i}^b - \\Delta \\delta_{a,i}^b)] \\\\\n",
    "&= f_{v_{ij}}(\\bar{\\delta}_{a,i}^b, \\bar{\\delta}_{\\omega,i}^b) - \\sum_{k=i}^{j-1}[T f_{R_{ik}}(\\bar{\\delta}_{\\omega,i}^b)\\Delta \\delta_{a,i}^b - T f_{R_{ik}}(\\bar{\\delta}_{\\omega,i}^b)[\\mathcal{J}_{\\delta_{\\omega,i}^b}^{f_{R_{ik}}}\\Delta \\delta_{\\omega,i}^b]_{\\times}(y_{a,k}-\\bar{\\delta}_{a,i}^b)] + o(\\text{high order term})\\\\\n",
    "&= f_{v_{ij}}(\\bar{\\delta}_{a,i}^b, \\bar{\\delta}_{\\omega,i}^b) - \\sum_{k=i}^{j-1}[T f_{R_{ik}}(\\bar{\\delta}_{\\omega,i}^b)\\Delta \\delta_{a,i}^b + T f_{R_{ik}}(\\bar{\\delta}_{\\omega,i}^b)[y_{a,k}-\\bar{\\delta}_{a,i}^b]_{\\times}\\mathcal{J}_{\\delta_{\\omega,i}^b}^{f_{R_{ik}}}\\Delta \\delta_{\\omega,i}^b]\\\\\n",
    "&= f_{v_{ij}}(\\bar{\\delta}_{a,i}^b, \\bar{\\delta}_{\\omega,i}^b) + \\mathcal{J}_{\\delta_{a,i}^b}^{f_{v_{ij}}}\\Delta \\delta_{a,i}^b + \\mathcal{J}_{\\delta_{\\omega,,i}^b}^{f_{v_{ij}}}\\Delta \\delta_{\\omega,i}^b\n",
    "\\end{align}\n",
    "$$"
   ]
  },
  {
   "cell_type": "markdown",
   "id": "sufficient-jones",
   "metadata": {},
   "source": [
    "Similarly for position residual, we can have:\n",
    "$$\n",
    "\\begin{align}\n",
    "\\Delta{\\tilde{p}_{ij}} &= \\sum_{k=i}^{j-1}[T\\Delta{\\tilde{v_{ij}}}-\\frac{1}{2}T^2 {\\tilde{R}_{ik}}(y_{a,k}-\\delta_{a,k}^b)] \\\\\n",
    "&= f_p(\\delta_{a,i}^b, \\delta_{\\omega,i}^b) \\\\\n",
    "&= f_p(\\bar{\\delta}_{a,i}^b+\\Delta \\delta_{a,i}^b, \\bar{\\delta}_{\\omega,i}^b + \\Delta \\delta_{\\omega,i}^b) \\\\\n",
    "&\\approx f_p(\\bar{\\delta}_{a,i}^b, \\bar{\\delta}_{\\omega,i}^b) + J^p_{\\delta_{a,i}}|_{\\delta_{a,i}^b=\\bar{\\delta}_{a,i}^b} \\Delta \\delta_{a,i}^b + J^p_{\\delta_{\\omega,i}}|_{\\delta_{\\omega,i} = \\bar{\\delta}_{\\omega,i}^b} \\Delta \\delta_{\\omega,i}^b\n",
    "\\end{align}\n",
    "$$\n",
    "\n",
    "$$\n",
    "\\begin{align}\n",
    "\\Delta{\\tilde{p}_{ij}} &= \\sum_{k=i}^{j-1}[T\\Delta{\\tilde{v_{ij}}}-\\frac{1}{2}T^2 {\\tilde{R}_{ik}}(y_{a,k}-\\delta_{a,k}^b)] \\\\\n",
    "&= \\sum_{k=i}^{j-1}[T f_{v_{ik}}(\\bar{\\delta}_{a,i}^b, \\bar{\\delta}_{\\omega,i}^b) + T\\mathcal{J}_{\\delta_{a,i}^b}^{f_{v_{ik}}}\\Delta \\delta_{a,i}^b + T\\mathcal{J}_{\\delta_{\\omega,,i}^b}^{f_{v_{ik}}}\\Delta \\delta_{\\omega,i}^b -\\frac{1}{2}T^2 f_{R_{ik}}(\\bar{\\delta}_{\\omega,i}^b)Exp_R(\\mathcal{J}_{\\delta_{\\omega,i}^b}^{f_{R_{ik}}}\\Delta \\delta_{\\omega,i}^b))(y_{a,k}-\\bar{\\delta}_{a,i}^b - \\Delta \\delta_{a,i}^b)] \\\\\n",
    "&\\approx \\sum_{k=i}^{j-1}[T f_{v_{ik}}(\\bar{\\delta}_{a,i}^b, \\bar{\\delta}_{\\omega,i}^b) + T\\mathcal{J}_{\\delta_{a,i}^b}^{f_{v_{ik}}}\\Delta \\delta_{a,i}^b + T\\mathcal{J}_{\\delta_{\\omega,,i}^b}^{f_{v_{ik}}}\\Delta \\delta_{\\omega,i}^b -\\frac{1}{2}T^2 f_{R_{ik}}(\\bar{\\delta}_{\\omega,i}^b)(\\mathcal{I} + [\\mathcal{J}_{\\delta_{\\omega,i}^b}^{f_{R_{ik}}}\\Delta \\delta_{\\omega,i}^b)]_{\\times})(y_{a,k}-\\bar{\\delta}_{a,i}^b - \\Delta \\delta_{a,i}^b)] \\\\\n",
    "&= f_p(\\bar{\\delta}_{a,i}^b, \\bar{\\delta}_{\\omega,i}^b) + \\sum_{k=i}^{j-1}[T\\mathcal{J}_{\\delta_{a,i}^b}^{f_{v_{ik}}}\\Delta \\delta_{a,i}^b + T\\mathcal{J}_{\\delta_{\\omega,,i}^b}^{f_{v_{ik}}}\\Delta \\delta_{\\omega,i}^b -\\frac{1}{2}T^2 f_{R_{ik}}(\\bar{\\delta}_{\\omega,i}^b)\\Delta \\delta_{a,i}^b - \\frac{1}{2}T^2 f_{R_{ik}}(\\bar{\\delta}_{\\omega,i}^b)[\\mathcal{J}_{\\delta_{\\omega,i}^b}^{f_{R_{ik}}}\\Delta \\delta_{\\omega,i}^b]_{\\times}(y_{a,k}-\\bar{\\delta}_{a,i}^b)] + o(\\text{high order term}) \\\\\n",
    "&= f_p(\\bar{\\delta}_{a,i}^b, \\bar{\\delta}_{\\omega,i}^b) + \\sum_{k=i}^{j-1}[T\\mathcal{J}_{\\delta_{a,i}^b}^{f_{v_{ik}}}\\Delta \\delta_{a,i}^b + T\\mathcal{J}_{\\delta_{\\omega,,i}^b}^{f_{v_{ik}}}\\Delta \\delta_{\\omega,i}^b -\\frac{1}{2}T^2 f_{R_{ik}}(\\bar{\\delta}_{\\omega,i}^b)\\Delta \\delta_{a,i}^b - \\frac{1}{2}T^2 f_{R_{ik}}(\\bar{\\delta}_{\\omega,i}^b)[y_{a,k}-\\bar{\\delta}_{a,i}^b]_{\\times}\\mathcal{J}_{\\delta_{\\omega,i}^b}^{f_{R_{ik}}}\\Delta \\delta_{\\omega,i}^b] \\\\\n",
    "&= f_p(\\bar{\\delta}_{a,i}^b, \\bar{\\delta}_{\\omega,i}^b) + \\mathcal{J}_{\\delta_{a,i}^b}^{f_{p_{ij}}}\\Delta \\delta_{a,i}^b + \\mathcal{J}_{\\delta_{\\omega,,i}^b}^{f_{p_{ij}}}\\Delta \\delta_{\\omega,i}^b\n",
    "\\end{align}\n",
    "$$"
   ]
  },
  {
   "cell_type": "markdown",
   "id": "checked-broadcast",
   "metadata": {},
   "source": [
    "##### 4) **Summary**"
   ]
  },
  {
   "cell_type": "markdown",
   "id": "aware-server",
   "metadata": {},
   "source": [
    "Base on the derivations in previous three sections, we can finally find the residual functions as:\n",
    "$$\n",
    "\\begin{align}\n",
    "r_{\\Delta R_{ij}} &= Log(\\Delta {\\tilde{R}_{ij}^T}R_i^TR_j) \\\\\n",
    "&= Log((f_{R_{ij}}(\\bar{\\delta}_{\\omega,i}^b)Exp_R(\\mathcal{J}_{\\delta_{\\omega,i}^b}^{f_{R_{ij}}}\\Delta \\delta_{\\omega,i}^b))^TR_i^TR_j)\n",
    "\\end{align}\n",
    "$$\n",
    "where $f_{R_{ij}}(\\delta_{\\omega,i}^b) = \\prod_{k=i}^{j-1}Exp_{R}(T(y_{\\omega, k} - \\delta_{\\omega,i}^b))$ and $\\mathcal{J}_{\\delta_{\\omega,i}^b}^{f_{R_{ij}}} = -\\sum_{k=i}^{j-1}[f_{R_{k+1,j}}(\\bar{\\delta}_{\\omega,i}^b)^T J_{r_k}T]$"
   ]
  },
  {
   "cell_type": "markdown",
   "id": "auburn-campus",
   "metadata": {},
   "source": [
    "\n",
    "$$\n",
    "\\begin{align}\n",
    "r_{\\Delta v_{ij}} &= R_i^T(v_j-v_i-(j-i)Tg) - \\Delta{\\tilde{v}_{ij}} \\\\\n",
    "&= R_i^T(v_j-v_i-(j-i)Tg) - f_{v_{ij}}(\\bar{\\delta}_{a,i}^b, \\bar{\\delta}_{\\omega,i}^b) - \\mathcal{J}_{\\delta_{a,i}^b}^{f_{v_{ij}}}\\Delta \\delta_{a,i}^b - \\mathcal{J}_{\\delta_{\\omega,i}^b}^{f_{v_{ij}}}\\Delta \\delta_{\\omega,i}^b\n",
    "\\end{align}\n",
    "$$\n",
    "where $f_{v_{ij}}(\\delta_{a,i}^b, \\delta_{\\omega,i}^b) = \\sum_{k=i}^{j-1}[T\\Delta {\\tilde{R}_{ik}}(y_{a,k}-\\delta_{a,k}^b)]$, $\\mathcal{J}_{\\delta_{a,i}^b}^{f_{v_{ij}}} = -\\sum_{k=i}^{j-1}[T f_{R_{ik}}(\\bar{\\delta}_{\\omega,i}^b)]$ and $\\mathcal{J}_{\\delta_{\\omega,,i}^b}^{f_{v_{ij}}} = -\\sum_{k=i}^{j-1}[T f_{R_{ik}}(\\bar{\\delta}_{\\omega,i}^b)[y_{a,k}-\\bar{\\delta}_{a,i}^b]_{\\times}\\mathcal{J}_{\\delta_{\\omega,i}^b}^{f_{R_{ik}}}]$"
   ]
  },
  {
   "cell_type": "markdown",
   "id": "massive-business",
   "metadata": {},
   "source": [
    "$$\n",
    "\\begin{align}\n",
    "r_{\\Delta p_{ij}} &=  R_i^T(p_j - p_i - (j-i)Tv_i -\\frac{1}{2}(j-i)^2T^2g) - \\Delta{\\tilde{p}_{ij}}\\\\\n",
    "&= R_i^T(p_j - p_i - (j-i)Tv_i -\\frac{1}{2}(j-i)^2T^2g) - f_p(\\bar{\\delta}_{a,i}^b, \\bar{\\delta}_{\\omega,i}^b) - \\mathcal{J}_{\\delta_{a,i}^b}^{f_{p_{ij}}}\\Delta \\delta_{a,i}^b - \\mathcal{J}_{\\delta_{\\omega,,i}^b}^{f_{p_{ij}}}\\Delta \\delta_{\\omega,i}^b\n",
    "\\end{align}\n",
    "$$\n",
    "where $f_p(\\delta_{a,i}^b, \\delta_{\\omega,i}^b) = \\sum_{k=i}^{j-1}[T\\Delta{\\tilde{v_{ij}}}-\\frac{1}{2}T^2 {\\tilde{R}_{ik}}(y_{a,k}-\\delta_{a,k}^b)]$, $\\mathcal{J}_{\\delta_{a,i}^b}^{f_{p_{ij}}}=\\sum_{k=i}^{j-1}[T\\mathcal{J}_{\\delta_{a,i}^b}^{f_{v_{ik}}}\\ - \\frac{1}{2}T^2 f_{R_{ik}}(\\bar{\\delta}_{\\omega,i}^b)]$ and $\\mathcal{J}_{\\delta_{\\omega,,i}^b}^{f_{p_{ij}}}=\\sum_{k=i}^{j-1}[T\\mathcal{J}_{\\delta_{\\omega,,i}^b}^{f_{v_{ik}}} - \\frac{1}{2}T^2 f_{R_{ik}}(\\bar{\\delta}_{\\omega,i}^b)[y_{a,k}-\\bar{\\delta}_{a,i}^b]_{\\times}\\mathcal{J}_{\\delta_{\\omega,i}^b}^{f_{R_{ik}}}]$"
   ]
  },
  {
   "cell_type": "markdown",
   "id": "excited-breathing",
   "metadata": {},
   "source": [
    "  **SO what values do we need to calculate between frame $i$ and $j$?**\n",
    "  - $f_{R_{ik}}(\\delta_{\\omega,k}^b)$ and $\\mathcal{J}_{\\delta_{\\omega,i}^b}^{f_{R_{ik}}}$\n",
    "  - $f_{v_{ik}}(\\delta_{a,i}^b, \\delta_{\\omega,i}^b)$ and $\\mathcal{J}_{\\delta_{a,i}^b}^{f_{v_{ik}}}$ and $\\mathcal{J}_{\\delta_{\\omega,i}^b}^{f_{v_{ik}}}$\n",
    "  - $f_{p}(\\delta_{a,i}^b, \\delta_{\\omega,i}^b)$ and $\\mathcal{J}_{\\delta_{a,i}^b}^{f_{p_{ij}}}$ and $\\mathcal{J}_{\\delta_{\\omega,,i}^b}^{f_{p_{ij}}}$\n",
    "  \n",
    "\n",
    "**Another thing to pay attention is that we should use bias delta value as state.**"
   ]
  },
  {
   "cell_type": "markdown",
   "id": "outside-vancouver",
   "metadata": {},
   "source": [
    "**One last thing need to mention is how sufficient small $\\delta \\phi$ need to be so that we can use? equations below?**\n",
    "$$\n",
    "\\begin{align}\n",
    "Exp(\\phi + \\delta\\phi) &\\approx Exp(\\phi)Exp(J_r(\\phi)\\delta\\phi) \\\\\n",
    "Exp(\\phi + J_r^{-1}(\\phi)\\delta\\phi) &\\approx Exp(\\phi)Exp(J_r(\\phi)J_r^{-1}(\\phi)\\delta\\phi) \\\\\n",
    "Log(Exp(\\phi)Exp(\\delta\\phi)) &\\approx \\phi + J_r^{-1}(\\phi)\\delta\\phi\n",
    "\\end{align}\n",
    "$$"
   ]
  },
  {
   "cell_type": "code",
   "execution_count": 22,
   "id": "least-feeding",
   "metadata": {
    "code_folding": [
     0,
     6,
     11,
     14,
     17,
     20,
     23,
     34,
     42,
     50,
     53,
     60,
     67
    ]
   },
   "outputs": [],
   "source": [
    "# SO3 exponential approximation imports\n",
    "\n",
    "from math import sin, cos\n",
    "import numpy as np\n",
    "from scipy.linalg import expm, logm\n",
    "\n",
    "def skew(omega):\n",
    "    return np.array([[0, -omega[2].item(), omega[1].item()],\n",
    "                     [omega[2].item(), 0, -omega[0].item()],\n",
    "                     [-omega[1].item(), omega[0].item(), 0]])\n",
    "\n",
    "def unskew(Omega):\n",
    "    return np.array([[Omega[2, 1].item()], [Omega[0, 2].item()], [Omega[1, 0].item()]])\n",
    "\n",
    "def exp(omega):\n",
    "    return expm(skew(omega))\n",
    "\n",
    "def log(R):\n",
    "    return unskew(logm(R))\n",
    "\n",
    "def Adjoint_SO3(Omega):\n",
    "    return Omega\n",
    "\n",
    "def LeftJacobian_SO3(w):\n",
    "    theta = np.linalg.norm(w)\n",
    "    A = skew(w)\n",
    "    if theta == 0:\n",
    "        return np.eye(3)\n",
    "    # Note: when theta is small, we should use taylor series\n",
    "    return np.eye(3) + ((1-cos(theta))/theta**2)*A + ((theta-sin(theta))/theta**3)*np.matmul(A, A)\n",
    "\n",
    "#def RightJacobian_SO3(w):\n",
    "#    return Adjoint_SO3(expm(skew(-w))).dot(LeftJacobian_SO3(w))\n",
    "\n",
    "def RightJacobian_SO3(w):\n",
    "    theta = np.linalg.norm(w)\n",
    "    A = skew(w)\n",
    "    if theta == 0:\n",
    "        return np.eye(3)\n",
    "    # Note: when theta is small, we should use taylor series\n",
    "    return np.eye(3) - ((1-cos(theta))/theta**2)*A + ((theta-sin(theta))/theta**3)*np.matmul(A, A)\n",
    "\n",
    "def RightJacobian_SO3_inv(w):\n",
    "    theta = np.linalg.norm(w)\n",
    "    A = skew(w)\n",
    "    if theta == 0:\n",
    "        return np.eye(3)\n",
    "    # Note: when theta is small, we should use taylor series\n",
    "    return np.eye(3) + 0.5*A + (1/theta**2 + (1+cos(theta))/(2*theta*sin(theta)))*np.matmul(A, A)\n",
    "\n",
    "def from_rpy(roll, pitch, yaw):\n",
    "    return rotz(yaw).dot(roty(pitch).dot(rotx(roll)))\n",
    "\n",
    "def rotx(t):\n",
    "    c = np.cos(t)\n",
    "    s = np.sin(t)\n",
    "    return np.array([[1, 0, 0],\n",
    "                     [0, c, -s],\n",
    "                     [0, s, c]])\n",
    "\n",
    "def roty(t):\n",
    "    c = np.cos(t)\n",
    "    s = np.sin(t)\n",
    "    return np.array([[c, 0, s],\n",
    "                     [0, 1, 0],\n",
    "                     [-s, 0, c]])\n",
    "\n",
    "def rotz(t):\n",
    "    c = np.cos(t)\n",
    "    s = np.sin(t)\n",
    "    return np.array([[c, -s, 0],\n",
    "                     [s, c, 0],\n",
    "                     [0, 0, 1]])\n",
    "\n",
    "#"
   ]
  },
  {
   "cell_type": "code",
   "execution_count": null,
   "id": "strange-stomach",
   "metadata": {
    "code_folding": []
   },
   "outputs": [],
   "source": [
    "## SO3 exponential approximation\n",
    "import numpy as np\n",
    "\n",
    "small_value_magnitude = 1E-2\n",
    "def cal_exp_approximation_error(small_value_magnitude):\n",
    "    w = np.array([1, 2, 3])\n",
    "    small_w = np.array([1, 1, 1]) * small_value_magnitude\n",
    "    delta = log(exp(w + small_w).T.dot(exp(w).dot(exp(RightJacobian_SO3(w).dot(small_w)))))\n",
    "    return np.linalg.norm(delta)\n",
    "\n",
    "print(f'error norm: {cal_exp_approximation_error(small_value_magnitude)}')\n",
    "#"
   ]
  },
  {
   "cell_type": "markdown",
   "id": "narrow-stupid",
   "metadata": {},
   "source": [
    "Reference \n",
    "- [IMU Preintegration on Manifold for Efficient Visual-Inertial Maximum-a-Posteriori Estimation](http://www.roboticsproceedings.org/rss11/p06.pdf)"
   ]
  },
  {
   "cell_type": "markdown",
   "id": "adequate-recipient",
   "metadata": {},
   "source": [
    "### Extended Kalman Filter based Filtering"
   ]
  }
 ],
 "metadata": {
  "kernelspec": {
   "display_name": "Python 3",
   "language": "python",
   "name": "python3"
  },
  "language_info": {
   "codemirror_mode": {
    "name": "ipython",
    "version": 3
   },
   "file_extension": ".py",
   "mimetype": "text/x-python",
   "name": "python",
   "nbconvert_exporter": "python",
   "pygments_lexer": "ipython3",
   "version": "3.9.1"
  },
  "toc": {
   "base_numbering": 1,
   "nav_menu": {},
   "number_sections": true,
   "sideBar": true,
   "skip_h1_title": false,
   "title_cell": "Table of Contents",
   "title_sidebar": "Contents",
   "toc_cell": false,
   "toc_position": {
    "height": "calc(100% - 180px)",
    "left": "10px",
    "top": "150px",
    "width": "512px"
   },
   "toc_section_display": true,
   "toc_window_display": true
  }
 },
 "nbformat": 4,
 "nbformat_minor": 5
}
