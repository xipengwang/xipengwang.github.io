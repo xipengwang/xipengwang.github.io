{
 "cells": [
  {
   "cell_type": "markdown",
   "id": "japanese-label",
   "metadata": {},
   "source": [
    "# Cooking Notes"
   ]
  },
  {
   "cell_type": "markdown",
   "id": "absolute-argentina",
   "metadata": {},
   "source": [
    "## 主菜"
   ]
  },
  {
   "cell_type": "markdown",
   "id": "intermediate-opposition",
   "metadata": {},
   "source": [
    "### 枣庄辣子鸡\n",
    "\n",
    "**主料**：整鸡（或者鸡腿，鸡翅）， 枣庄薄皮辣椒（青椒）\n",
    "\n",
    "**佐料**：豆瓣酱，料酒，生抽，味极鲜酱油，米醋，大葱，生姜，大蒜，香菜，青花椒，八角，干辣椒段\n",
    "\n",
    "**步骤**：\n",
    "1. 加油烧至4成热，加入花椒炸香\n",
    "2. 加入葱，姜爆香\n",
    "3. 加入洗干净的鸡肉，把水分炒干\n",
    "4. 加入干辣椒，花椒炒香\n",
    "5. 加入料酒，待料酒挥发完毕后加入豆瓣酱\n",
    "6. 酱料炒香后加入米醋，锅边淋入\n",
    "7. 翻炒几下后即入生抽酱油\n",
    "8. 待酱油香味出来后，加入清水没过鸡肉，加老抽调色\n",
    "9. 大火烧开，撇去浮沫，转小火慢炖15分钟，鸡肉炖软\n",
    "10. 开锅加盐调味，中火收汁\n",
    "11. 加入青椒翻炒，小火慢炖几分钟待青椒软嫩\n",
    "12. 加入香油，味极鲜翻炒几下\n",
    "13. 加入香菜翻炒几下，出锅上菜\n",
    "\n",
    "\n",
    "**注意事项**：\n",
    "1. 豆瓣酱要够量，鲁菜突出味道咸香\n",
    "2. 水要足量，否则容易烧干"
   ]
  },
  {
   "cell_type": "markdown",
   "id": "burning-search",
   "metadata": {},
   "source": [
    "## 面食"
   ]
  },
  {
   "cell_type": "markdown",
   "id": "hispanic-departure",
   "metadata": {},
   "source": [
    "## 小吃"
   ]
  }
 ],
 "metadata": {
  "kernelspec": {
   "display_name": "Python 3",
   "language": "python",
   "name": "python3"
  },
  "language_info": {
   "codemirror_mode": {
    "name": "ipython",
    "version": 3
   },
   "file_extension": ".py",
   "mimetype": "text/x-python",
   "name": "python",
   "nbconvert_exporter": "python",
   "pygments_lexer": "ipython3",
   "version": "3.9.1"
  },
  "toc": {
   "base_numbering": 1,
   "nav_menu": {},
   "number_sections": true,
   "sideBar": true,
   "skip_h1_title": false,
   "title_cell": "Table of Contents",
   "title_sidebar": "Contents",
   "toc_cell": false,
   "toc_position": {
    "height": "calc(100% - 180px)",
    "left": "10px",
    "top": "150px",
    "width": "336px"
   },
   "toc_section_display": true,
   "toc_window_display": true
  }
 },
 "nbformat": 4,
 "nbformat_minor": 5
}
