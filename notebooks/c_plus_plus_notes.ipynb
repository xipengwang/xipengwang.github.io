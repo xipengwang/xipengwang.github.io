{
 "cells": [
  {
   "cell_type": "markdown",
   "id": "written-constitutional",
   "metadata": {},
   "source": [
    "# C Plus Plus"
   ]
  },
  {
   "cell_type": "markdown",
   "id": "identified-glucose",
   "metadata": {},
   "source": [
    "## C++ Basics"
   ]
  },
  {
   "cell_type": "markdown",
   "id": "three-radical",
   "metadata": {},
   "source": [
    "### Compiler Generated Functions\n",
    "\n",
    "- 1. Default constructor (generated only if no other constructor declared by users, e.g. 1, 2, 4)\n",
    "- 2. Copy constructor (generated only if no 4 and 5 declared)\n",
    "- 3. Copy assignment (generated only if no 4 and 5 declared)\n",
    "- 4. Move constructor (generated only if no 2, 3, 5, 6 declared)\n",
    "- 5. Move assignment (generated only if no 2, 3, 4, 6 declared)\n",
    "- 6. Destructor (generated only if no virtual destructor is explicitly declared)\n",
    "\n",
    "**`Note`**: Rule 0 or Rule 5. If you need define any one of the others except constructor, then define all of them.\n",
    "\n",
    "<details>\n",
    "  <summary>compiler_generated_functions.cc</summary>\n",
    "  \n",
    "  <script src=\"https://gist.github.com/xipengwang/a3d77603080ee60e41142e5b16a3835b.js\"></script>\n",
    "</details>"
   ]
  },
  {
   "cell_type": "markdown",
   "id": "transparent-condition",
   "metadata": {},
   "source": [
    "### User Defined Literals\n",
    "\n",
    "- Literals are constants\n",
    "- 4 types of literals: integer 1, floating point 0.1, character 'x', string \"abc\".\n",
    "    - type suffix: 1024u -> unsigned int\n",
    "\n",
    "\n",
    "<details>\n",
    "  <summary>user_literals.cc</summary>\n",
    "  \n",
    "  <script src=\"https://gist.github.com/xipengwang/8bae17f1173d74129f45df7ea4233efd.js\"></script>\n",
    "</details>\n"
   ]
  },
  {
   "cell_type": "markdown",
   "id": "mature-there",
   "metadata": {},
   "source": [
    "## C++ Advance"
   ]
  },
  {
   "cell_type": "markdown",
   "id": "sticky-concrete",
   "metadata": {},
   "source": [
    "### Parameter Pack and Fold Expression\n",
    "\n",
    "- Parameter Pack\n",
    "    - In a template-parameter-list (template <parameter-list>), `typename ... t` introduces a template parameter pack.\n",
    "    - In a parameter-declaration-clause (func(parameter-list)), `T ... t` introduces a function parameter pack.\n",
    "    - Ellipsis `...` appears immediately after a parameter name introduces parameter pack expansion\n",
    "- Fold Expression \n",
    "    - 1) Unary right fold (E op ...) becomes (E1 op (... op (EN-1 op EN)))\n",
    "    - 2) Unary left fold (... op E) becomes (((E1 op E2) op ...) op EN)\n",
    "    - 3) Binary right fold (E op ... op I) becomes (E1 op (... op (EN−1 op (EN op I))))\n",
    "    - 4) Binary left fold (I op ... op E) becomes ((((I op E1) op E2) op ...) op EN)\n",
    "- <details>\n",
    "  <summary>parameter_pack.cc</summary>\n",
    "  \n",
    "  <script src=\"https://gist.github.com/xipengwang/2226fe8afb2df2e8dd5c5c84532474c8.js\"></script>\n",
    "</details>"
   ]
  },
  {
   "cell_type": "markdown",
   "id": "weekly-party",
   "metadata": {},
   "source": [
    "### Variant, Optional, Any\n",
    "- std::optional is a wrapper that may or may not hold an object.\n",
    "- std::any is a type that may hold an object of an arbitrary type.\n",
    "- std::variant is a type-safe union.\n",
    "    - <details>\n",
    "      <summary>variant.cc</summary>\n",
    "  \n",
    "      <script src=\"https://gist.github.com/xipengwang/6ccf793534ba3b13b59794fbb98c6a6f.js\"></script>\n",
    "    </details>"
   ]
  },
  {
   "cell_type": "markdown",
   "id": "scheduled-dominican",
   "metadata": {},
   "source": [
    "### Scope Resolution Operator ::\n",
    "\n",
    "- `::func()` call only  in global space, ignore others\n",
    "- `foo::func()` call inside any `foo` namespace I can see\n",
    "- `::foo::func()` call only in test namespace, ignore others\n",
    "- `func()` call this func I can see\n",
    "- `using foo::func` can bring other possible functions to current namespace\n",
    "    - <details>\n",
    "      <summary>scope-operator.cc</summary>\n",
    "  \n",
    "      <script src=\"https://gist.github.com/xipengwang/41efefec3bb7aba74a72f79dc693dfb6.js\"></script>\n",
    "    </details>"
   ]
  },
  {
   "cell_type": "markdown",
   "id": "circular-shift",
   "metadata": {},
   "source": [
    "### Overload and Override\n",
    "- Compile-time polymorphism\n",
    "    - If two overloads are equal, non-template function is preferred over template function. \n",
    "    - Overloads fail when only return type is different unless you use [Covariant Return Types](https://www.sandordargo.com/blog/2020/08/19/covariant-return-types) \n",
    "    - \n",
    "- Run-time polymorphism\n",
    "    - virtual function override\n",
    "- [Tutorial](https://youtu.be/b5Kbzgx1w9A)"
   ]
  },
  {
   "cell_type": "markdown",
   "id": "dangerous-cause",
   "metadata": {},
   "source": [
    "### Smart Pointer"
   ]
  },
  {
   "cell_type": "markdown",
   "id": "private-ireland",
   "metadata": {},
   "source": [
    "- `unique_ptr`\n",
    "    - Unique ownership so `Move-only`\n",
    "- `shared_ptr`\n",
    "    - Simple reference counting\n",
    "- `weak_ptr`\n",
    "    - It tells you when the pointer is dangle. Control object is destroyed but control block is still alive.\n",
    "    - It is just a ticket to get a shared_ptr by using `sptr = wptr.lock()`\n",
    "- `std::enable_shared_from_this()`\n",
    "    - A class pointer becomes its own ticket to get a shared pointer. Maybe?\n",
    "    - If member function of a class is going to extent the class life time dynamically, use this.\n",
    "- Rules of thumbs\n",
    "    - Treat smart pointer just as regular pointer\n",
    "        - Pass by value\n",
    "        - Return by value\n",
    "    - A function/class taking a `unique_ptr` by value shows `transfer of the ownership`\n",
    "    - Prefer `make_unique` over directly using `new`\n",
    "- [Tutorial](https://youtu.be/xGDLkt-jBJ4)\n",
    "- `Tips`:\n",
    "    - variable declaration inside if condition\n",
    "        - `if (auto sptr = wptr.lock()) { Use(sptr); }`\n",
    "        - `if (D *deriv_ptr = dynamic_cast<D*>(base_ptr)) { UseDerive(deriv_ptr); } `"
   ]
  },
  {
   "cell_type": "markdown",
   "id": "center-paragraph",
   "metadata": {},
   "source": [
    "### Template instantiation and specialization\n",
    "- Instantiation \n",
    "    - Substitute function parameters\n",
    "    - Compiler does implicit instantiation, which only instantiate used member functions of a template class\n",
    "    - Explicit instantiation will trigger complier to instantiate all member functions\n",
    "- Specialization\n",
    "    - Substitute function implementations\n",
    "    - Explicit specialization can also be used to prevent other types to be specialized (we can also use Concepts to do this now) \n",
    "        - <details>\n",
    "      <summary>explicit_instantiation.cc</summary>\n",
    "    \n",
    "       <script src=\"https://gist.github.com/xipengwang/6ca2cfe1cccd9f0c34f4536d8d1589de.js\"></script>     \n",
    "      </details>\n",
    "           \n",
    "        - <details>\n",
    "      <summary>explicit_specialization.cc</summary>\n",
    "  \n",
    "      <script src=\"https://gist.github.com/xipengwang/450b9d6a83c76d941bd7027e2b9d27fe.js\"></script>\n",
    "    </details>\n",
    "-[Tutorial](https://youtu.be/XN319NYEOcE) [Tutorial](https://youtu.be/cpkDQaYttR4?t=2624)"
   ]
  },
  {
   "cell_type": "markdown",
   "id": "separated-offer",
   "metadata": {},
   "source": [
    "### Constexpr"
   ]
  },
  {
   "cell_type": "markdown",
   "id": "sustained-inflation",
   "metadata": {},
   "source": [
    "- [Tutorial]()\n",
    "\n",
    "`Tips`:\n",
    "- `constexpr` variables are stack values. They may not be evaluated at compile time [(see this)](https://youtu.be/4pKtPWcl1Go?t=518).\n",
    "- Most of time, you want `static constexpr` to define a constexpr variable.\n",
    "    - Force evaluated at compile time\n",
    "    - However, you can't declare a `static constexpr` inside a `constexpr` function."
   ]
  },
  {
   "cell_type": "markdown",
   "id": "advanced-nature",
   "metadata": {},
   "source": [
    "## C++ STL"
   ]
  },
  {
   "cell_type": "markdown",
   "id": "official-commons",
   "metadata": {},
   "source": [
    "### `chrono`\n",
    "\n",
    "- A precision neutral library for time and date.\n",
    "- Clock: \n",
    "    - `std::chrono::system_clock`: shows current time according to the system (manually changeable).\n",
    "    - `std::chrono::steady_clock`: goes at a uniform rate.\n",
    "    - `std::chrono::high_resolution_clock`: provides smallest possible tick period.\n",
    "    - `std::chrono::steady_clock::period`: is a `std::ratio`.\n",
    "    - `std::chrono::duration<>`: represents time duration,\n",
    "    - `std::chrono::time_point<>`: represents a point of time.\n",
    "    \n",
    "<details>\n",
    "  <summary>chrono.cc</summary>\n",
    "  \n",
    "  <script src=\"https://gist.github.com/xipengwang/b71491adc801ad220a9253f2049b6611.js\"></script>\n",
    "</details>"
   ]
  },
  {
   "cell_type": "markdown",
   "id": "appreciated-crawford",
   "metadata": {},
   "source": [
    "### Containers"
   ]
  },
  {
   "cell_type": "markdown",
   "id": "traditional-mason",
   "metadata": {},
   "source": [
    "- Sequence containers\n",
    "    - vector:\n",
    "        - Fast insert/remove at the end: O(1)\n",
    "        - Slow insert/remove at the beginning or in the middle: O(n)\n",
    "        - Slow search: O(n)\n",
    "        - Contiguous memory: `T* ptr = &vec[0]`\n",
    "        - Random access: `vec[i]`\n",
    "    - deque \n",
    "        - Fast insert/remove at the beginning and end: O(1)\n",
    "        - Slow insert/remove in the middle: O(n)\n",
    "        - Slow search O(n)\n",
    "        - Random access: `deq[i]`\n",
    "    - list (double linked list)\n",
    "        - Fast insert/remove: O(1)\n",
    "        - Slow search O(n)\n",
    "        - No random access \n",
    "    - forward list\n",
    "    - array\n",
    "        - std::array<Type, Size>\n",
    "        - Contiguous memory: `T* ptr = &arr[0]` or `T* ptr = arr.data()`\n",
    "        - Random access: `arr[i]`"
   ]
  },
  {
   "cell_type": "markdown",
   "id": "verbal-latitude",
   "metadata": {},
   "source": [
    "- Associative Containers (binary tree, always sorted)\n",
    "    - set\n",
    "        - `.insert()` Fast insertion: O(log(n))\n",
    "        - `.erase()` Fast removal: O(log(n))\n",
    "        - `.find()` Fast search: O(log(n))\n",
    "        - No random access\n",
    "        - No duplicated elements\n",
    "        - Use equivalence `!(a<b) && !(b>a)`\n",
    "        - Read-only\n",
    "        - Traversing is slower than Sequence containers\n",
    "    - multiset\n",
    "        - No insertion failures\n",
    "        <details>\n",
    "          <summary>multiset.cc</summary>\n",
    "  \n",
    "          <script src=\"https://gist.github.com/xipengwang/0fccf49d47ce748afa1ff6f415af82d5.js\"></script>\n",
    "        </details>\n",
    "    - map\n",
    "        - `std::map<Key, Value>`\n",
    "    - multimap\n",
    "        - <details>\n",
    "          <summary>multimap.cc</summary>\n",
    "  \n",
    "          <script src=\"https://gist.github.com/xipengwang/ce426520dee984c7a727aee4d1a458d2.js\"></script>       \n",
    "        </details>"
   ]
  },
  {
   "cell_type": "markdown",
   "id": "fourth-probability",
   "metadata": {},
   "source": [
    "- Unordered Containers (hash table)\n",
    "    - unordered_set\n",
    "        - Fast insertion, removal, and search O(1)\n",
    "    - unordered_mutiset \n",
    "    - unordered_map\n",
    "        <details>\n",
    "          <summary>unordered_map.cc</summary>\n",
    "          \n",
    "          <script src=\"https://gist.github.com/xipengwang/b500e621e04fc2a6486ee781072a034a.js\"></script>       \n",
    "        </details>\n",
    "    \n",
    "    - unordered_multimap"
   ]
  },
  {
   "cell_type": "markdown",
   "id": "handled-transport",
   "metadata": {},
   "source": [
    "- Container Adaptor\n",
    "    - stack\n",
    "    - queue\n",
    "    - priority_queue"
   ]
  },
  {
   "cell_type": "markdown",
   "id": "fantastic-projector",
   "metadata": {},
   "source": [
    "`Tips`:\n",
    "- Insert or Erase operations will invalidates array based containers, e.g. vector, deque\n",
    "<details>\n",
    "     <summary>container_removal.cc</summary>\n",
    "    \n",
    "    <script src=\"https://gist.github.com/xipengwang/1d2306e5284516b9328e117a760e3233.js\"></script>       \n",
    "</details>\n"
   ]
  },
  {
   "cell_type": "markdown",
   "id": "legendary-timothy",
   "metadata": {},
   "source": [
    "### Iterators\n",
    "- Random Acess Iterators: vector, deque, array\n",
    "    - `std::vector<T>::iterator iter`: `iter++`, `iter--`, `iter += 2`\n",
    "- Bidirectional Iterators: list, set, map\n",
    "    - `iter++`, `iter--`\n",
    "- Forward Iterator: forward_list:\n",
    "    - `iter++`\n",
    "- Unordered containers provide at least forward iterators\n",
    "- Input Iterator\n",
    "    - read and process values while iterating forward\n",
    "- Output Iterator\n",
    "    - output values while iterating forward\n",
    "- Const Iterator\n",
    "    - `std::vector<T>::const_iterator\n",
    "- Iterator functions:\n",
    "    - `std::advance`, `std::distance`, `std::next`\n",
    "- Iterator Adaptor\n",
    "    - Insert Iterator\n",
    "    <details>\n",
    "     <summary>insert_iterator.cc</summary>\n",
    "    \n",
    "    <script src=\"https://gist.github.com/xipengwang/d4253747a2e5556aa78eb078d55e3317.js\"></script>       \n",
    "    </details>\n",
    "    - Stream Iterator\n",
    "    - Reverse Iterator\n",
    "    - Move Iterator"
   ]
  },
  {
   "cell_type": "markdown",
   "id": "anticipated-denmark",
   "metadata": {},
   "source": [
    "### Functors\n",
    "\n",
    "- Build-in functors\n",
    "    - `std::less<T>()`, `greater`, `less_equal`, `not_equal_to`, `logical_and`, `multiplies`, `plus`, `modulus`, etc.\n",
    "    \n",
    "`Tips`:\n",
    "- `mutable` lambda function."
   ]
  },
  {
   "cell_type": "markdown",
   "id": "arbitrary-witch",
   "metadata": {},
   "source": [
    "### Algorithms\n",
    "- Mostly used to replace loops\n",
    "    - `std::min_element`, `std::sort`, `std::copy`, `std::reverse`, `std::find_if`, `std::remove_if`\n",
    "\n",
    "- Non-modifying algorithms\n",
    "    - Counting:\n",
    "        - `count`, `count_if`, \n",
    "    - Min and Max:\n",
    "        - `min_element`(first min), `max_element`(first max), `minmax_element`(first min, last max), \n",
    "    - Linear Search:\n",
    "        - `find`, `find_if`, `find_if_not`, `search_n`, `search`, `find_end`, `find_first_of`, `adjacent_find`\n",
    "    - Comparing Ranges:\n",
    "        - `equal`, `is_permutation`, `mismatch`, `lexicographical_compare`\n",
    "    - Check Attributes:\n",
    "        - `is_sorted`, `is_sorted_until`, `is_partitioned`, `is_heap`, `is_heap_until`, `all_of`, `any_of`, `none_of`\n",
    "        \n",
    "- Modifying algorithms\n",
    "    - Copy:\n",
    "        - `copy`, `copy_if`, `copy_n`, `copy_backward`\n",
    "    - Move: (If move semantics are not defined, copy will be used.)\n",
    "        - `move`, `move_backward`\n",
    "    - Transform: \n",
    "        - `std::transform()`\n",
    "        - <details>\n",
    "         <summary>transform.cc</summary>\n",
    "    \n",
    "        <script src=\"https://gist.github.com/xipengwang/b4e37f96953b453ca6cf5cc696545745.js\"></script>       \n",
    "        </details>\n",
    "    - Swap:\n",
    "        - `swap_ranges`\n",
    "    - Fill:\n",
    "        - `fill`, `fill_n`, `generate`, `generate_n`\n",
    "    - Replace:\n",
    "        - `replace`, `replace_if`, `replace_copy`, `replace_copy_if`\n",
    "    - Remove:\n",
    "        - `remove`, `remove_if`, `remove_copy`, `remove_copy_if`, `unique` (remove consecutive elements), `unique_copy`\n",
    "    - Order-changing\n",
    "        - `reverse`, `reverse_copy`, `rotate`, `rotate_copy`, `next_permutation`, `prev_permutation`, `random_shuffle`, `shuffle`\n",
    "    \n"
   ]
  },
  {
   "cell_type": "markdown",
   "id": "patient-reynolds",
   "metadata": {},
   "source": [
    "- Sorting"
   ]
  },
  {
   "cell_type": "markdown",
   "id": "french-uniform",
   "metadata": {},
   "source": [
    "### Type Traits"
   ]
  },
  {
   "cell_type": "markdown",
   "id": "elect-today",
   "metadata": {},
   "source": [
    "- Conditional compilation\n",
    "    - <details>\n",
    "      <summary>type_traits.cc</summary>\n",
    "    \n",
    "      <script src=\"https://gist.github.com/xipengwang/8fd1bc288214627d2186123a9e983a84.js\"></script>     \n",
    "      </details>\n",
    "- Altering types\n",
    "    - `std::remove_const`, `std::add_const`, `std::conditional`, `std::conjunction`"
   ]
  },
  {
   "cell_type": "markdown",
   "id": "czech-wagon",
   "metadata": {},
   "source": [
    "### Concepts"
   ]
  },
  {
   "cell_type": "markdown",
   "id": "rational-reputation",
   "metadata": {},
   "source": [
    "### String View"
   ]
  },
  {
   "cell_type": "markdown",
   "id": "noticed-education",
   "metadata": {},
   "source": [
    "### Filesystem"
   ]
  },
  {
   "cell_type": "markdown",
   "id": "exceptional-korea",
   "metadata": {},
   "source": [
    "`Tips`:\n",
    "- Efficient insertion in vector: `vec.insert(vec.end(), vec2.begin(), vec2.end())` instead of `std::copy(vec2.begin(), vec2.end(), std::back_inserter(vec))`"
   ]
  },
  {
   "cell_type": "markdown",
   "id": "broke-prayer",
   "metadata": {},
   "source": [
    "## C++ Design"
   ]
  },
  {
   "cell_type": "markdown",
   "id": "agreed-mount",
   "metadata": {},
   "source": [
    "- Composition is preferred over inheritance for code reuse purpose."
   ]
  },
  {
   "cell_type": "markdown",
   "id": "second-switch",
   "metadata": {},
   "source": [
    "## C++ Core Guideline Tips"
   ]
  },
  {
   "cell_type": "markdown",
   "id": "accessory-ecuador",
   "metadata": {},
   "source": [
    "### Interfaces\n",
    "- [I.2](https://isocpp.github.io/CppCoreGuidelines/CppCoreGuidelines#i2-avoid-non-const-global-variables)\n",
    "Avoid non-const global variables. \n",
    "\n",
    "- [I.4](https://isocpp.github.io/CppCoreGuidelines/CppCoreGuidelines#i4-make-interfaces-precisely-and-strongly-typed)\n",
    "Make interfaces precisely and strong typed.\n",
    "\n",
    "- [I.5](https://isocpp.github.io/CppCoreGuidelines/CppCoreGuidelines#i5-state-preconditions-if-any)\n",
    "State preconditions in callee if the arguments have meaning that might constrain their proper use.\n",
    "    - E.g. using [Expects](https://isocpp.github.io/CppCoreGuidelines/CppCoreGuidelines#i6-prefer-expects-for-expressing-preconditions)\n",
    "- [I.7](https://isocpp.github.io/CppCoreGuidelines/CppCoreGuidelines#i7-state-postconditions)\n",
    "State postconditions before function returns.\n",
    "    - E.g. using [Ensures](https://isocpp.github.io/CppCoreGuidelines/CppCoreGuidelines#i8-prefer-ensures-for-expressing-postconditions)\n",
    "\n",
    "- [I.11](https://isocpp.github.io/CppCoreGuidelines/CppCoreGuidelines#i11-never-transfer-ownership-by-a-raw-pointer-t-or-reference-t)\n",
    "Never transfer ownership by a raw pointer (T*) or reference (T&).\n",
    "    - Pass ownership use smart pointers or `gsl::owner`.\n",
    "    - Every object passed as a raw pointer (or iterator) is assumed to be owned by the caller, so that its lifetime is handled by the caller.\n",
    "\n",
    "- [I.12](https://isocpp.github.io/CppCoreGuidelines/CppCoreGuidelines#i12-declare-a-pointer-that-must-not-be-null-as-not_null)\n",
    "Declare a pointer that must not be null as `not_null`.\n",
    "    - Use `gsl::not_null`.\n",
    "    \n",
    "- [I.13](https://isocpp.github.io/CppCoreGuidelines/CppCoreGuidelines#i13-do-not-pass-an-array-as-a-single-pointer)\n",
    "Do not pass an array as a single pointer. \n",
    "    - Use `gsl::span` or `std::span`\n",
    "\n",
    "- [I.23](https://isocpp.github.io/CppCoreGuidelines/CppCoreGuidelines#i23-keep-the-number-of-function-arguments-low)\n",
    "Keep the number of function arguments low (<5).\n",
    "    - Use default parameters or overloads \n",
    "    \n",
    "- [I.24](https://isocpp.github.io/CppCoreGuidelines/CppCoreGuidelines#i24-avoid-adjacent-parameters-that-can-be-invoked-by-the-same-arguments-in-either-order-with-different-meaning)\n",
    "Avoid adjacent parameters that can be invoked by the same arguments in either order with different meaning.\n",
    "\n",
    "- [I.25](https://isocpp.github.io/CppCoreGuidelines/CppCoreGuidelines#i25-prefer-empty-abstract-classes-as-interfaces-to-class-hierarchies)\n",
    "Prefer empty abstract classes as interfaces to class hierarchies\n",
    "\n",
    "- [I.27](https://isocpp.github.io/CppCoreGuidelines/CppCoreGuidelines#i27-for-stable-library-abi-consider-the-pimpl-idiom)\n",
    "For stable library ABI, consider the Pimpl idiom.\n",
    "<details>\n",
    "     <summary>impl_idiom.cc</summary>\n",
    "    \n",
    "    <script src=\"https://gist.github.com/xipengwang/913e467bf4acbeb5054e01871a5ce506.js\"></script>       \n",
    "</details> "
   ]
  },
  {
   "cell_type": "markdown",
   "id": "divine-candidate",
   "metadata": {},
   "source": [
    "-  `Tips`\n",
    "    - Always mark constructor as `explicit` when it only takes a single argument.\n",
    "    - Use `Rule 0` or `Rule 5` when defining compiler generated class functions. \n",
    "    - [A polymorphic class should suppress public copy/move.](https://isocpp.github.io/CppCoreGuidelines/CppCoreGuidelines#c67-a-polymorphic-class-should-suppress-public-copymove)"
   ]
  },
  {
   "cell_type": "markdown",
   "id": "cultural-activation",
   "metadata": {},
   "source": [
    "## Guideline Support Library (gsl)"
   ]
  },
  {
   "cell_type": "markdown",
   "id": "polish-chamber",
   "metadata": {},
   "source": [
    "### `gsl::span`\n",
    "<details>\n",
    "  <summary>gsl_span.cc</summary>\n",
    "  \n",
    "  <script src=\"https://gist.github.com/xipengwang/a4192fb7ab95b1fdfa12ba4dfac05b9f.js\"></script>\n",
    "</details>\n",
    "\n",
    "### `gsl::not_null`\n",
    "<details>\n",
    "  <summary>gsl_span.cc</summary>\n",
    "  \n",
    "  <script src=\"https://gist.github.com/xipengwang/6450f4882a4d5bbc0b2ea7ba442965f0.js\"></script>\n",
    "</details>\n"
   ]
  },
  {
   "cell_type": "markdown",
   "id": "broadband-colors",
   "metadata": {},
   "source": [
    "## Unit Test"
   ]
  },
  {
   "cell_type": "markdown",
   "id": "canadian-essence",
   "metadata": {},
   "source": [
    "### Test Driven Development"
   ]
  },
  {
   "cell_type": "markdown",
   "id": "demographic-repository",
   "metadata": {},
   "source": [
    "### GoogleTest\n",
    "- Macros:\n",
    "    - Nonfatal assertion \n",
    "        - `EXPECT_EQ(expected, tested)`, `EXPECT_TRUE() << \"Error message\" `, `EXPECT_STREQ`\n",
    "    - Fatal assertion\n",
    "        - `ASSERT_EQ()`, `ASSERT_TRUE()`\n",
    "    - Floating \n",
    "        - `EXPECT_FLOAT_EQ()`, `EXPECT_NEAR()`\n",
    "- Death test\n",
    "    - `TEST(mapping_DeathTest, simple_test) {}`: Death tests run before other tests\n",
    "    - `EXPECT_DEATH`, `EXPECT_EXIT`\n",
    "- Exception test\n",
    "    - `TEST(mapping_ExceptionTest)`\n",
    "    - `EXPECT_THROW`, `EXPECT_ANY_THROW`, `EXPECT_NO_THROW`, `FAIL()`\n",
    "- TestFixture\n",
    "    - Common setup for a group of tests\n",
    "        - `class MappingTest : public ::testing::Test {public: virtual void SetUp(); virtual void TearDown();}`\n",
    "        - `TEST_F(MappingTest, simple_test)` "
   ]
  },
  {
   "cell_type": "markdown",
   "id": "civic-constitutional",
   "metadata": {},
   "source": [
    "### BoostTest"
   ]
  },
  {
   "cell_type": "markdown",
   "id": "listed-assist",
   "metadata": {},
   "source": [
    "## Building System and Generators"
   ]
  },
  {
   "cell_type": "markdown",
   "id": "collected-jumping",
   "metadata": {},
   "source": [
    "### Modern Cmake\n",
    "- [Tutorial](https://youtu.be/eC9-iRN2b04) [Tutorial](https://youtu.be/bsXLMQ6WgIk) [Tutorial](https://youtu.be/lI2nwZSMvlE) [Tutorial](https://cliutils.gitlab.io/modern-cmake/) [Tutorial](https://github.com/dev-cafe/cmake-cookbook) [Tutorial](https://cmake.org/cmake/help/git-stage/index.html#guides)"
   ]
  },
  {
   "cell_type": "markdown",
   "id": "planned-release",
   "metadata": {},
   "source": [
    "- `cmake -DCMAKE_EXPORT_COMPILE_COMMANDS=1 -DCMAKE_INSTALL_PREFIX \"  \" ..`\n",
    "- `cmake --build .`\n",
    "- `cmake --install . --prefix \"/home/myuser/installdir\"`"
   ]
  },
  {
   "cell_type": "markdown",
   "id": "finite-photograph",
   "metadata": {},
   "source": [
    "- Modern cmake module properties\n",
    "    - `PUBLIC`: both the producer and consumer see the definition\n",
    "    - `PRIVATE`: only the producer sees the definition \n",
    "    - `INTERFACE`: only the consumer see the definition"
   ]
  },
  {
   "cell_type": "markdown",
   "id": "compatible-clinic",
   "metadata": {},
   "source": [
    "- Useful build-in commands and variables\n",
    "    - `cmake_minimum_required(VERSION 3.12)`\n",
    "    - `project(MyProject VERSION 0.0.0)`\n",
    "    - `add_subdirectory()`\n",
    "    - `add_executable`\n",
    "    - `add_library`\n",
    "    - `target_link_libraries`\n",
    "    - `target_include_directories`\n",
    "    - `target_compile_definition`\n",
    "    - `target_compile_features`: [feature list](https://apimirror.com/cmake~3.11/prop_gbl/cmake_cxx_known_features#prop_gbl:CMAKE_CXX_KNOWN_FEATURES)\n",
    "    - `${CMAKE_SOURCE_DIR}`: Top level of the source tree\n",
    "    - `${CAMKE_BINARY_DIR}`: Top level of the build tree\n",
    "    - `${PROJECT_NAME}$`, `${PROJECT_SOURCE_DIR}`, `${PROJECT_BINARY_DIR}$`\n",
    "    - `${CMAKE_CURRENT_SOURCE_DIR}`: Source directory of the current cmake file\n",
    "    - `${CMAKE_CURRENT_LIST_FILE}`\n",
    "- script\n",
    "    - `set(MY_VARIABLE \"variable\")`\n",
    "    - `message(STATUS \"hello world ${MY_VARIABLE}\")`\n",
    "    - `if() endif()`\n",
    "    - `foreach(arg IN LIST ARGN/ARGV) endforeach()`\n",
    "    - `function() endfunction()`\n",
    "    "
   ]
  }
 ],
 "metadata": {
  "kernelspec": {
   "display_name": "Python 3",
   "language": "python",
   "name": "python3"
  },
  "language_info": {
   "codemirror_mode": {
    "name": "ipython",
    "version": 3
   },
   "file_extension": ".py",
   "mimetype": "text/x-python",
   "name": "python",
   "nbconvert_exporter": "python",
   "pygments_lexer": "ipython3",
   "version": "3.9.1"
  },
  "toc": {
   "base_numbering": 1,
   "nav_menu": {},
   "number_sections": true,
   "sideBar": true,
   "skip_h1_title": false,
   "title_cell": "Table of Contents",
   "title_sidebar": "Contents",
   "toc_cell": false,
   "toc_position": {
    "height": "calc(100% - 180px)",
    "left": "10px",
    "top": "150px",
    "width": "318.7916564941406px"
   },
   "toc_section_display": true,
   "toc_window_display": true
  }
 },
 "nbformat": 4,
 "nbformat_minor": 5
}
